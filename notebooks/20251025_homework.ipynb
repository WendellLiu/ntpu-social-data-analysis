{
 "cells": [
  {
   "cell_type": "markdown",
   "id": "02954f6c-de5a-4b70-aa58-179908b4710c",
   "metadata": {},
   "source": [
    "# 1141_社會資料分析 作業四\n",
    "學生：劉晏成"
   ]
  },
  {
   "cell_type": "markdown",
   "id": "0b297133-5e01-4c3d-83ab-0eb70445dcee",
   "metadata": {},
   "source": [
    "以「2018台北大學社會系三鶯調查」（brilliant_working.sav）檔案回答以下問題：\n",
    "1. 以變異數分析方法（包括整體檢定與事後比較），檢視不同年齡分組者（agegroup）的收入（inc）是否有顯著差異。\n",
    "2. 以教育年數（eduy）作為共變量，再次檢視檢視不同年齡分組者（agegroup）的收入（inc）是否有顯著差異。"
   ]
  },
  {
   "cell_type": "code",
   "execution_count": 1,
   "id": "0c926491-ce88-4f2c-a51e-882391a37340",
   "metadata": {},
   "outputs": [],
   "source": [
    "from load import load_sav\n",
    "import pandas as pd\n",
    "\n",
    "df = load_sav(\"../data/brilliant_working.sav\")"
   ]
  },
  {
   "cell_type": "code",
   "execution_count": 2,
   "id": "e8f22695-7693-4084-8493-bdd77f767a3c",
   "metadata": {},
   "outputs": [],
   "source": [
    "variable_value_labels = df.attrs['variable_value_labels']\n",
    "column_names = df.attrs['column_names']\n",
    "column_names_to_labels = df.attrs['column_names_to_labels']"
   ]
  },
  {
   "cell_type": "markdown",
   "id": "60bc61b9-ec5d-4b6e-a18a-7345005bd262",
   "metadata": {},
   "source": [
    "## Q1: 以變異數分析方法（包括整體檢定與事後比較），檢視不同年齡分組者（agegroup）的收入（inc）是否有顯著差異。"
   ]
  },
  {
   "cell_type": "code",
   "execution_count": 3,
   "id": "27409499-c3b4-41a4-8892-7066e0c0e50a",
   "metadata": {},
   "outputs": [],
   "source": [
    "df_1 = df[['agegroup', 'inc']].copy()"
   ]
  },
  {
   "cell_type": "markdown",
   "id": "09da90ec-0b38-485d-93af-7e0f6dc8dc78",
   "metadata": {},
   "source": [
    "首先，先確認不同年齡組別分布"
   ]
  },
  {
   "cell_type": "code",
   "execution_count": 4,
   "id": "c03445fb-94ba-4bde-9838-961dde1b070c",
   "metadata": {},
   "outputs": [
    {
     "data": {
      "text/plain": [
       "agegroup\n",
       "1.0    336\n",
       "2.0    327\n",
       "3.0    205\n",
       "Name: count, dtype: int64"
      ]
     },
     "execution_count": 4,
     "metadata": {},
     "output_type": "execute_result"
    }
   ],
   "source": [
    "df_1['agegroup'].value_counts()"
   ]
  },
  {
   "cell_type": "markdown",
   "id": "ef879a76-5e1c-4e43-9823-59c91456eb58",
   "metadata": {},
   "source": [
    "確認共三組（1, 2, 3）"
   ]
  },
  {
   "cell_type": "markdown",
   "id": "4333d7b7-08d9-4e5d-b1c0-83cbccd69fb8",
   "metadata": {},
   "source": [
    "檢查缺漏值狀況"
   ]
  },
  {
   "cell_type": "code",
   "execution_count": 5,
   "id": "140b695d-4455-4edc-b32d-3fd51d72049a",
   "metadata": {},
   "outputs": [
    {
     "data": {
      "text/html": [
       "<div>\n",
       "<style scoped>\n",
       "    .dataframe tbody tr th:only-of-type {\n",
       "        vertical-align: middle;\n",
       "    }\n",
       "\n",
       "    .dataframe tbody tr th {\n",
       "        vertical-align: top;\n",
       "    }\n",
       "\n",
       "    .dataframe thead th {\n",
       "        text-align: right;\n",
       "    }\n",
       "</style>\n",
       "<table border=\"1\" class=\"dataframe\">\n",
       "  <thead>\n",
       "    <tr style=\"text-align: right;\">\n",
       "      <th></th>\n",
       "      <th># of Missing Values</th>\n",
       "    </tr>\n",
       "  </thead>\n",
       "  <tbody>\n",
       "    <tr>\n",
       "      <th>agegroup</th>\n",
       "      <td>0</td>\n",
       "    </tr>\n",
       "    <tr>\n",
       "      <th>inc</th>\n",
       "      <td>4</td>\n",
       "    </tr>\n",
       "  </tbody>\n",
       "</table>\n",
       "</div>"
      ],
      "text/plain": [
       "          # of Missing Values\n",
       "agegroup                    0\n",
       "inc                         4"
      ]
     },
     "execution_count": 5,
     "metadata": {},
     "output_type": "execute_result"
    }
   ],
   "source": [
    "from statistic.missing_value import check_missing_value\n",
    "\n",
    "check_missing_value(df_1)"
   ]
  },
  {
   "cell_type": "markdown",
   "id": "fbcf7fcc-f89b-4da2-87f4-1aa5ce9f8a6e",
   "metadata": {},
   "source": [
    "發現有缺漏值，預處理inc 為缺漏值的資料"
   ]
  },
  {
   "cell_type": "code",
   "execution_count": 6,
   "id": "98b66e60-47dc-4b4e-ad36-8624ce438ad7",
   "metadata": {},
   "outputs": [
    {
     "data": {
      "text/html": [
       "<div>\n",
       "<style scoped>\n",
       "    .dataframe tbody tr th:only-of-type {\n",
       "        vertical-align: middle;\n",
       "    }\n",
       "\n",
       "    .dataframe tbody tr th {\n",
       "        vertical-align: top;\n",
       "    }\n",
       "\n",
       "    .dataframe thead th {\n",
       "        text-align: right;\n",
       "    }\n",
       "</style>\n",
       "<table border=\"1\" class=\"dataframe\">\n",
       "  <thead>\n",
       "    <tr style=\"text-align: right;\">\n",
       "      <th></th>\n",
       "      <th># of Missing Values</th>\n",
       "    </tr>\n",
       "  </thead>\n",
       "  <tbody>\n",
       "    <tr>\n",
       "      <th>agegroup</th>\n",
       "      <td>0</td>\n",
       "    </tr>\n",
       "    <tr>\n",
       "      <th>inc</th>\n",
       "      <td>0</td>\n",
       "    </tr>\n",
       "  </tbody>\n",
       "</table>\n",
       "</div>"
      ],
      "text/plain": [
       "          # of Missing Values\n",
       "agegroup                    0\n",
       "inc                         0"
      ]
     },
     "execution_count": 6,
     "metadata": {},
     "output_type": "execute_result"
    }
   ],
   "source": [
    "df_1_cleared = df_1.dropna()\n",
    "check_missing_value(df_1_cleared)"
   ]
  },
  {
   "cell_type": "markdown",
   "id": "fe18e3db-227f-4a52-a9a7-26bbc3c1bcea",
   "metadata": {},
   "source": [
    "執行ANOVA  \n",
    "設定：不同年齡組別的收入平均數分別為 $\\mu_1$、$\\mu_2$、$\\mu_3$  \n",
    "$H_0: \\mu_1 = \\mu_2 = \\mu_3$  \n",
    "$H_1: \\mu_k 不完全相等$  \n",
    "$\\alpha = 0.05$\n"
   ]
  },
  {
   "cell_type": "code",
   "execution_count": 7,
   "id": "5bf28adc-775e-4395-bcb4-8118fca3b96f",
   "metadata": {},
   "outputs": [
    {
     "data": {
      "text/html": [
       "<div>\n",
       "<style scoped>\n",
       "    .dataframe tbody tr th:only-of-type {\n",
       "        vertical-align: middle;\n",
       "    }\n",
       "\n",
       "    .dataframe tbody tr th {\n",
       "        vertical-align: top;\n",
       "    }\n",
       "\n",
       "    .dataframe thead th {\n",
       "        text-align: right;\n",
       "    }\n",
       "</style>\n",
       "<table border=\"1\" class=\"dataframe\">\n",
       "  <thead>\n",
       "    <tr style=\"text-align: right;\">\n",
       "      <th></th>\n",
       "      <th>sum_sq</th>\n",
       "      <th>df</th>\n",
       "      <th>F</th>\n",
       "      <th>PR(&gt;F)</th>\n",
       "    </tr>\n",
       "  </thead>\n",
       "  <tbody>\n",
       "    <tr>\n",
       "      <th>Intercept</th>\n",
       "      <td>4.037519e+11</td>\n",
       "      <td>1.0</td>\n",
       "      <td>454.077715</td>\n",
       "      <td>2.982257e-81</td>\n",
       "    </tr>\n",
       "    <tr>\n",
       "      <th>C(agegroup)</th>\n",
       "      <td>2.568289e+10</td>\n",
       "      <td>2.0</td>\n",
       "      <td>14.442069</td>\n",
       "      <td>6.773292e-07</td>\n",
       "    </tr>\n",
       "    <tr>\n",
       "      <th>Residual</th>\n",
       "      <td>7.655747e+11</td>\n",
       "      <td>861.0</td>\n",
       "      <td>NaN</td>\n",
       "      <td>NaN</td>\n",
       "    </tr>\n",
       "  </tbody>\n",
       "</table>\n",
       "</div>"
      ],
      "text/plain": [
       "                   sum_sq     df           F        PR(>F)\n",
       "Intercept    4.037519e+11    1.0  454.077715  2.982257e-81\n",
       "C(agegroup)  2.568289e+10    2.0   14.442069  6.773292e-07\n",
       "Residual     7.655747e+11  861.0         NaN           NaN"
      ]
     },
     "execution_count": 7,
     "metadata": {},
     "output_type": "execute_result"
    }
   ],
   "source": [
    "from statistic.anova import perform_anova\n",
    "\n",
    "\n",
    "perform_anova(df=df_1_cleared, val_col='inc', group_col='agegroup')"
   ]
  },
  {
   "cell_type": "markdown",
   "id": "d6d9c06c-3fd4-4061-82b7-ad874d26a969",
   "metadata": {},
   "source": [
    "依據ANOVA 結果，agegroup 的P value < 0.05 ，拒絕虛無假設。結果顯示**三組間存在差異**"
   ]
  },
  {
   "cell_type": "markdown",
   "id": "85fffada-29e7-472a-abde-3e87ef23e02f",
   "metadata": {},
   "source": [
    "接下來執行Levene's test 來判斷均值性狀況，以執行事後比較"
   ]
  },
  {
   "cell_type": "code",
   "execution_count": 8,
   "id": "dcd11c6b-7a5b-43c4-89e9-c331e4a19b66",
   "metadata": {},
   "outputs": [
    {
     "data": {
      "text/html": [
       "<div>\n",
       "<style scoped>\n",
       "    .dataframe tbody tr th:only-of-type {\n",
       "        vertical-align: middle;\n",
       "    }\n",
       "\n",
       "    .dataframe tbody tr th {\n",
       "        vertical-align: top;\n",
       "    }\n",
       "\n",
       "    .dataframe thead th {\n",
       "        text-align: right;\n",
       "    }\n",
       "</style>\n",
       "<table border=\"1\" class=\"dataframe\">\n",
       "  <thead>\n",
       "    <tr style=\"text-align: right;\">\n",
       "      <th></th>\n",
       "      <th>Values</th>\n",
       "    </tr>\n",
       "  </thead>\n",
       "  <tbody>\n",
       "    <tr>\n",
       "      <th>Levene Stat</th>\n",
       "      <td>6.80</td>\n",
       "    </tr>\n",
       "    <tr>\n",
       "      <th>P Value</th>\n",
       "      <td>0.001176</td>\n",
       "    </tr>\n",
       "  </tbody>\n",
       "</table>\n",
       "</div>"
      ],
      "text/plain": [
       "               Values\n",
       "Levene Stat      6.80\n",
       "P Value      0.001176"
      ]
     },
     "execution_count": 8,
     "metadata": {},
     "output_type": "execute_result"
    }
   ],
   "source": [
    "from scipy.stats import levene\n",
    "\n",
    "groups = {name: group['inc'].values for name, group in df_1_cleared.groupby('agegroup')}\n",
    "\n",
    "levene_stat, levene_p = levene(*groups.values())\n",
    "pd.DataFrame({ 'Values': [f\"{levene_stat:.2f}\", levene_p] }, index = ['Levene Stat', 'P Value'])"
   ]
  },
  {
   "cell_type": "markdown",
   "id": "bdfc119a-a413-43ec-8d91-0a48aaabffe8",
   "metadata": {},
   "source": [
    "結果顯示P Value 遠小於0.05：非均值。  \n",
    "由於樣本數>50 (Shingala and Rajyaguru, 2015)，選擇games-howell 方法求得三組間兩兩比較的結果"
   ]
  },
  {
   "cell_type": "code",
   "execution_count": 9,
   "id": "cf54c3a9-e9cd-42e4-9a8b-8a643cba02de",
   "metadata": {},
   "outputs": [
    {
     "data": {
      "text/html": [
       "<div>\n",
       "<style scoped>\n",
       "    .dataframe tbody tr th:only-of-type {\n",
       "        vertical-align: middle;\n",
       "    }\n",
       "\n",
       "    .dataframe tbody tr th {\n",
       "        vertical-align: top;\n",
       "    }\n",
       "\n",
       "    .dataframe thead th {\n",
       "        text-align: right;\n",
       "    }\n",
       "</style>\n",
       "<table border=\"1\" class=\"dataframe\">\n",
       "  <thead>\n",
       "    <tr style=\"text-align: right;\">\n",
       "      <th></th>\n",
       "      <th>A</th>\n",
       "      <th>B</th>\n",
       "      <th>mean(A)</th>\n",
       "      <th>mean(B)</th>\n",
       "      <th>diff</th>\n",
       "      <th>se</th>\n",
       "      <th>T</th>\n",
       "      <th>df</th>\n",
       "      <th>pval</th>\n",
       "      <th>hedges</th>\n",
       "    </tr>\n",
       "  </thead>\n",
       "  <tbody>\n",
       "    <tr>\n",
       "      <th>0</th>\n",
       "      <td>1.0</td>\n",
       "      <td>2.0</td>\n",
       "      <td>34716.417910</td>\n",
       "      <td>42731.481481</td>\n",
       "      <td>-8015.063571</td>\n",
       "      <td>2268.694754</td>\n",
       "      <td>-3.532896</td>\n",
       "      <td>612.427945</td>\n",
       "      <td>0.001283</td>\n",
       "      <td>-0.276061</td>\n",
       "    </tr>\n",
       "    <tr>\n",
       "      <th>1</th>\n",
       "      <td>1.0</td>\n",
       "      <td>3.0</td>\n",
       "      <td>34716.417910</td>\n",
       "      <td>28829.268293</td>\n",
       "      <td>5887.149618</td>\n",
       "      <td>2648.795612</td>\n",
       "      <td>2.222576</td>\n",
       "      <td>356.062961</td>\n",
       "      <td>0.068779</td>\n",
       "      <td>0.208405</td>\n",
       "    </tr>\n",
       "    <tr>\n",
       "      <th>2</th>\n",
       "      <td>2.0</td>\n",
       "      <td>3.0</td>\n",
       "      <td>42731.481481</td>\n",
       "      <td>28829.268293</td>\n",
       "      <td>13902.213189</td>\n",
       "      <td>2884.143052</td>\n",
       "      <td>4.820223</td>\n",
       "      <td>434.151028</td>\n",
       "      <td>0.000006</td>\n",
       "      <td>0.429537</td>\n",
       "    </tr>\n",
       "  </tbody>\n",
       "</table>\n",
       "</div>"
      ],
      "text/plain": [
       "     A    B       mean(A)       mean(B)          diff           se         T  \\\n",
       "0  1.0  2.0  34716.417910  42731.481481  -8015.063571  2268.694754 -3.532896   \n",
       "1  1.0  3.0  34716.417910  28829.268293   5887.149618  2648.795612  2.222576   \n",
       "2  2.0  3.0  42731.481481  28829.268293  13902.213189  2884.143052  4.820223   \n",
       "\n",
       "           df      pval    hedges  \n",
       "0  612.427945  0.001283 -0.276061  \n",
       "1  356.062961  0.068779  0.208405  \n",
       "2  434.151028  0.000006  0.429537  "
      ]
     },
     "execution_count": 9,
     "metadata": {},
     "output_type": "execute_result"
    }
   ],
   "source": [
    "from statistic.anova import perform_post_hoc\n",
    "\n",
    "perform_post_hoc(df_1_cleared, levene_p = levene_p, val_col='inc', group_col='agegroup')"
   ]
  },
  {
   "cell_type": "markdown",
   "id": "3eb9b726-f2af-40b4-8492-cd477b52a645",
   "metadata": {},
   "source": [
    "### Answer\n",
    "由Anova 以及事後多重比較結果可得知：\n",
    "1. 三組年齡組別的平均收入不完全相同\n",
    "2. 年齡組別與收入關係為：2 > 1 > 3"
   ]
  },
  {
   "cell_type": "markdown",
   "id": "0660770b-2948-41a7-ac97-9d8297e0ffe1",
   "metadata": {},
   "source": [
    "## Q2: 以教育年數（eduy）作為共變量，再次檢視檢視不同年齡分組者（agegroup）的收入（inc）是否有顯著差異。"
   ]
  },
  {
   "cell_type": "code",
   "execution_count": 10,
   "id": "56d1648c-0d28-44dc-bb8b-fd43b9d060ac",
   "metadata": {},
   "outputs": [],
   "source": [
    "df_2 = df[['eduy', 'agegroup', 'inc']].copy()"
   ]
  },
  {
   "cell_type": "markdown",
   "id": "2921fe95-5c9e-4e0e-841c-6d7ec8261b17",
   "metadata": {},
   "source": [
    "檢查缺漏值狀況"
   ]
  },
  {
   "cell_type": "code",
   "execution_count": 11,
   "id": "43d5925f-f78e-45ac-8f8a-d34b01d79cf1",
   "metadata": {},
   "outputs": [
    {
     "data": {
      "text/html": [
       "<div>\n",
       "<style scoped>\n",
       "    .dataframe tbody tr th:only-of-type {\n",
       "        vertical-align: middle;\n",
       "    }\n",
       "\n",
       "    .dataframe tbody tr th {\n",
       "        vertical-align: top;\n",
       "    }\n",
       "\n",
       "    .dataframe thead th {\n",
       "        text-align: right;\n",
       "    }\n",
       "</style>\n",
       "<table border=\"1\" class=\"dataframe\">\n",
       "  <thead>\n",
       "    <tr style=\"text-align: right;\">\n",
       "      <th></th>\n",
       "      <th># of Missing Values</th>\n",
       "    </tr>\n",
       "  </thead>\n",
       "  <tbody>\n",
       "    <tr>\n",
       "      <th>eduy</th>\n",
       "      <td>0</td>\n",
       "    </tr>\n",
       "    <tr>\n",
       "      <th>agegroup</th>\n",
       "      <td>0</td>\n",
       "    </tr>\n",
       "    <tr>\n",
       "      <th>inc</th>\n",
       "      <td>4</td>\n",
       "    </tr>\n",
       "  </tbody>\n",
       "</table>\n",
       "</div>"
      ],
      "text/plain": [
       "          # of Missing Values\n",
       "eduy                        0\n",
       "agegroup                    0\n",
       "inc                         4"
      ]
     },
     "execution_count": 11,
     "metadata": {},
     "output_type": "execute_result"
    }
   ],
   "source": [
    "from statistic.missing_value import check_missing_value\n",
    "\n",
    "check_missing_value(df_2)"
   ]
  },
  {
   "cell_type": "markdown",
   "id": "a0ac87ac-c1fd-4012-bd49-e6693c36c61a",
   "metadata": {},
   "source": [
    "處理inc 缺漏值"
   ]
  },
  {
   "cell_type": "code",
   "execution_count": 12,
   "id": "4ef2ae12-9f10-4d14-8ffb-cda7b5a10f00",
   "metadata": {},
   "outputs": [
    {
     "data": {
      "text/html": [
       "<div>\n",
       "<style scoped>\n",
       "    .dataframe tbody tr th:only-of-type {\n",
       "        vertical-align: middle;\n",
       "    }\n",
       "\n",
       "    .dataframe tbody tr th {\n",
       "        vertical-align: top;\n",
       "    }\n",
       "\n",
       "    .dataframe thead th {\n",
       "        text-align: right;\n",
       "    }\n",
       "</style>\n",
       "<table border=\"1\" class=\"dataframe\">\n",
       "  <thead>\n",
       "    <tr style=\"text-align: right;\">\n",
       "      <th></th>\n",
       "      <th># of Missing Values</th>\n",
       "    </tr>\n",
       "  </thead>\n",
       "  <tbody>\n",
       "    <tr>\n",
       "      <th>eduy</th>\n",
       "      <td>0</td>\n",
       "    </tr>\n",
       "    <tr>\n",
       "      <th>agegroup</th>\n",
       "      <td>0</td>\n",
       "    </tr>\n",
       "    <tr>\n",
       "      <th>inc</th>\n",
       "      <td>0</td>\n",
       "    </tr>\n",
       "  </tbody>\n",
       "</table>\n",
       "</div>"
      ],
      "text/plain": [
       "          # of Missing Values\n",
       "eduy                        0\n",
       "agegroup                    0\n",
       "inc                         0"
      ]
     },
     "execution_count": 12,
     "metadata": {},
     "output_type": "execute_result"
    }
   ],
   "source": [
    "df_2_cleared = df_2.dropna()\n",
    "check_missing_value(df_2_cleared)"
   ]
  },
  {
   "cell_type": "markdown",
   "id": "06f9a06f-c669-4322-a1cc-a0ec323e33b7",
   "metadata": {},
   "source": [
    "基於ANCOVA 的兩個假設做假設檢驗\n",
    "1. **共變量與因變量**需為線性關係\n",
    "2. **共變量與自變量（組別）間** 不得有交互作用\n",
    "\n",
    "首先檢驗共變數與因變數是否為線性關係"
   ]
  },
  {
   "cell_type": "code",
   "execution_count": 13,
   "id": "7f70861a-b82c-4996-8535-20871e43a786",
   "metadata": {},
   "outputs": [
    {
     "data": {
      "text/html": [
       "<div>\n",
       "<style scoped>\n",
       "    .dataframe tbody tr th:only-of-type {\n",
       "        vertical-align: middle;\n",
       "    }\n",
       "\n",
       "    .dataframe tbody tr th {\n",
       "        vertical-align: top;\n",
       "    }\n",
       "\n",
       "    .dataframe thead th {\n",
       "        text-align: right;\n",
       "    }\n",
       "</style>\n",
       "<table border=\"1\" class=\"dataframe\">\n",
       "  <thead>\n",
       "    <tr style=\"text-align: right;\">\n",
       "      <th></th>\n",
       "      <th>sum_sq</th>\n",
       "      <th>df</th>\n",
       "      <th>F</th>\n",
       "      <th>PR(&gt;F)</th>\n",
       "    </tr>\n",
       "  </thead>\n",
       "  <tbody>\n",
       "    <tr>\n",
       "      <th>Intercept</th>\n",
       "      <td>4.316321e+09</td>\n",
       "      <td>1.0</td>\n",
       "      <td>5.029773</td>\n",
       "      <td>2.516859e-02</td>\n",
       "    </tr>\n",
       "    <tr>\n",
       "      <th>eduy</th>\n",
       "      <td>5.152873e+10</td>\n",
       "      <td>1.0</td>\n",
       "      <td>60.046009</td>\n",
       "      <td>2.603274e-14</td>\n",
       "    </tr>\n",
       "    <tr>\n",
       "      <th>Residual</th>\n",
       "      <td>7.397289e+11</td>\n",
       "      <td>862.0</td>\n",
       "      <td>NaN</td>\n",
       "      <td>NaN</td>\n",
       "    </tr>\n",
       "  </tbody>\n",
       "</table>\n",
       "</div>"
      ],
      "text/plain": [
       "                 sum_sq     df          F        PR(>F)\n",
       "Intercept  4.316321e+09    1.0   5.029773  2.516859e-02\n",
       "eduy       5.152873e+10    1.0  60.046009  2.603274e-14\n",
       "Residual   7.397289e+11  862.0        NaN           NaN"
      ]
     },
     "execution_count": 13,
     "metadata": {},
     "output_type": "execute_result"
    }
   ],
   "source": [
    "from statistic.anova import check_linearity\n",
    "\n",
    "check_linearity(df_2_cleared, val_col='inc', covar_col='eduy')"
   ]
  },
  {
   "cell_type": "markdown",
   "id": "be155606-f060-4a13-94de-3c45907fff1c",
   "metadata": {},
   "source": [
    "由eduy 的P value 可知教育年數與收入符合線性關係。\n",
    "\n",
    "往下繼續檢查共變數與自變數的互動關係：檢驗迴歸同質性"
   ]
  },
  {
   "cell_type": "code",
   "execution_count": 14,
   "id": "46a6e26b-f22e-45fa-b655-a3c889a15e7c",
   "metadata": {},
   "outputs": [
    {
     "data": {
      "text/html": [
       "<div>\n",
       "<style scoped>\n",
       "    .dataframe tbody tr th:only-of-type {\n",
       "        vertical-align: middle;\n",
       "    }\n",
       "\n",
       "    .dataframe tbody tr th {\n",
       "        vertical-align: top;\n",
       "    }\n",
       "\n",
       "    .dataframe thead th {\n",
       "        text-align: right;\n",
       "    }\n",
       "</style>\n",
       "<table border=\"1\" class=\"dataframe\">\n",
       "  <thead>\n",
       "    <tr style=\"text-align: right;\">\n",
       "      <th></th>\n",
       "      <th>sum_sq</th>\n",
       "      <th>df</th>\n",
       "      <th>F</th>\n",
       "      <th>PR(&gt;F)</th>\n",
       "    </tr>\n",
       "  </thead>\n",
       "  <tbody>\n",
       "    <tr>\n",
       "      <th>Intercept</th>\n",
       "      <td>1.078969e+10</td>\n",
       "      <td>1.0</td>\n",
       "      <td>13.254101</td>\n",
       "      <td>0.000288</td>\n",
       "    </tr>\n",
       "    <tr>\n",
       "      <th>C(agegroup)</th>\n",
       "      <td>1.420332e+10</td>\n",
       "      <td>2.0</td>\n",
       "      <td>8.723707</td>\n",
       "      <td>0.000178</td>\n",
       "    </tr>\n",
       "    <tr>\n",
       "      <th>eduy</th>\n",
       "      <td>1.733675e+08</td>\n",
       "      <td>1.0</td>\n",
       "      <td>0.212965</td>\n",
       "      <td>0.644570</td>\n",
       "    </tr>\n",
       "    <tr>\n",
       "      <th>C(agegroup):eduy</th>\n",
       "      <td>1.877668e+10</td>\n",
       "      <td>2.0</td>\n",
       "      <td>11.532675</td>\n",
       "      <td>0.000011</td>\n",
       "    </tr>\n",
       "    <tr>\n",
       "      <th>Residual</th>\n",
       "      <td>6.984674e+11</td>\n",
       "      <td>858.0</td>\n",
       "      <td>NaN</td>\n",
       "      <td>NaN</td>\n",
       "    </tr>\n",
       "  </tbody>\n",
       "</table>\n",
       "</div>"
      ],
      "text/plain": [
       "                        sum_sq     df          F    PR(>F)\n",
       "Intercept         1.078969e+10    1.0  13.254101  0.000288\n",
       "C(agegroup)       1.420332e+10    2.0   8.723707  0.000178\n",
       "eduy              1.733675e+08    1.0   0.212965  0.644570\n",
       "C(agegroup):eduy  1.877668e+10    2.0  11.532675  0.000011\n",
       "Residual          6.984674e+11  858.0        NaN       NaN"
      ]
     },
     "execution_count": 14,
     "metadata": {},
     "output_type": "execute_result"
    }
   ],
   "source": [
    "from statistic.anova import check_interaction\n",
    "\n",
    "check_interaction(df_2_cleared, val_col='inc', group_col='agegroup', covar_col='eduy')"
   ]
  },
  {
   "cell_type": "markdown",
   "id": "940fe981-7c09-43c3-add8-51ffa09d22c8",
   "metadata": {},
   "source": [
    "由agegroup: eduy 的P value > 0.05 可知年齡分組與教育程度交互作用顯著，故不符合ANCOVA 的假設，不繼續進行ANCOVA。"
   ]
  },
  {
   "cell_type": "markdown",
   "id": "0b45e847-3a17-4ea6-a84f-d986c0a61aea",
   "metadata": {},
   "source": [
    "### Answer"
   ]
  },
  {
   "cell_type": "markdown",
   "id": "3a93e439-c7b3-4aec-9636-7c131e22a2a0",
   "metadata": {},
   "source": [
    "教育程度在不同年齡分組對於因變量——收入有不同的影響力，停止分析。"
   ]
  }
 ],
 "metadata": {
  "kernelspec": {
   "display_name": "Python 3 (ipykernel)",
   "language": "python",
   "name": "python3"
  },
  "language_info": {
   "codemirror_mode": {
    "name": "ipython",
    "version": 3
   },
   "file_extension": ".py",
   "mimetype": "text/x-python",
   "name": "python",
   "nbconvert_exporter": "python",
   "pygments_lexer": "ipython3",
   "version": "3.13.3"
  }
 },
 "nbformat": 4,
 "nbformat_minor": 5
}
