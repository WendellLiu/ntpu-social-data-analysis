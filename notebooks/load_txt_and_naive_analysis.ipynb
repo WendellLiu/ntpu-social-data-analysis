{
 "cells": [
  {
   "cell_type": "code",
   "execution_count": 3,
   "id": "2740bfdc-3864-464b-a514-38a432091642",
   "metadata": {},
   "outputs": [],
   "source": [
    "import sys\n",
    "from pathlib import Path\n",
    "from load import load_to_dataframe\n",
    "import pandas as pd\n"
   ]
  },
  {
   "cell_type": "code",
   "execution_count": 4,
   "id": "c8fc025f-e1f1-445b-a500-a522e6f147b5",
   "metadata": {},
   "outputs": [
    {
     "name": "stdout",
     "output_type": "stream",
     "text": [
      "✅ Loaded file: practice_01.txt\n",
      "📊 Shape: (10, 4)\n",
      "📋 Columns: ['Id', 'Sex', 'Height', 'Weight']\n"
     ]
    }
   ],
   "source": [
    "df = load_to_dataframe(\"../data/practice_01.txt\", \n",
    "                      column_names=['Id', 'Sex', 'Height', 'Weight'],\n",
    "                      delimiter=' ')"
   ]
  },
  {
   "cell_type": "code",
   "execution_count": 5,
   "id": "4b6792dd-0791-4b13-86c9-7942ee724a04",
   "metadata": {},
   "outputs": [
    {
     "data": {
      "text/html": [
       "<div>\n",
       "<style scoped>\n",
       "    .dataframe tbody tr th:only-of-type {\n",
       "        vertical-align: middle;\n",
       "    }\n",
       "\n",
       "    .dataframe tbody tr th {\n",
       "        vertical-align: top;\n",
       "    }\n",
       "\n",
       "    .dataframe thead th {\n",
       "        text-align: right;\n",
       "    }\n",
       "</style>\n",
       "<table border=\"1\" class=\"dataframe\">\n",
       "  <thead>\n",
       "    <tr style=\"text-align: right;\">\n",
       "      <th></th>\n",
       "      <th>Id</th>\n",
       "      <th>Sex</th>\n",
       "      <th>Height</th>\n",
       "      <th>Weight</th>\n",
       "    </tr>\n",
       "  </thead>\n",
       "  <tbody>\n",
       "    <tr>\n",
       "      <th>0</th>\n",
       "      <td>1</td>\n",
       "      <td>1</td>\n",
       "      <td>170</td>\n",
       "      <td>55</td>\n",
       "    </tr>\n",
       "    <tr>\n",
       "      <th>1</th>\n",
       "      <td>2</td>\n",
       "      <td>2</td>\n",
       "      <td>155</td>\n",
       "      <td>48</td>\n",
       "    </tr>\n",
       "    <tr>\n",
       "      <th>2</th>\n",
       "      <td>3</td>\n",
       "      <td>2</td>\n",
       "      <td>157</td>\n",
       "      <td>46</td>\n",
       "    </tr>\n",
       "    <tr>\n",
       "      <th>3</th>\n",
       "      <td>4</td>\n",
       "      <td>1</td>\n",
       "      <td>172</td>\n",
       "      <td>70</td>\n",
       "    </tr>\n",
       "    <tr>\n",
       "      <th>4</th>\n",
       "      <td>5</td>\n",
       "      <td>2</td>\n",
       "      <td>160</td>\n",
       "      <td>50</td>\n",
       "    </tr>\n",
       "    <tr>\n",
       "      <th>5</th>\n",
       "      <td>6</td>\n",
       "      <td>1</td>\n",
       "      <td>168</td>\n",
       "      <td>65</td>\n",
       "    </tr>\n",
       "    <tr>\n",
       "      <th>6</th>\n",
       "      <td>7</td>\n",
       "      <td>1</td>\n",
       "      <td>182</td>\n",
       "      <td>78</td>\n",
       "    </tr>\n",
       "    <tr>\n",
       "      <th>7</th>\n",
       "      <td>8</td>\n",
       "      <td>2</td>\n",
       "      <td>150</td>\n",
       "      <td>50</td>\n",
       "    </tr>\n",
       "    <tr>\n",
       "      <th>8</th>\n",
       "      <td>9</td>\n",
       "      <td>1</td>\n",
       "      <td>168</td>\n",
       "      <td>72</td>\n",
       "    </tr>\n",
       "    <tr>\n",
       "      <th>9</th>\n",
       "      <td>10</td>\n",
       "      <td>2</td>\n",
       "      <td>168</td>\n",
       "      <td>50</td>\n",
       "    </tr>\n",
       "  </tbody>\n",
       "</table>\n",
       "</div>"
      ],
      "text/plain": [
       "   Id  Sex  Height  Weight\n",
       "0   1    1     170      55\n",
       "1   2    2     155      48\n",
       "2   3    2     157      46\n",
       "3   4    1     172      70\n",
       "4   5    2     160      50\n",
       "5   6    1     168      65\n",
       "6   7    1     182      78\n",
       "7   8    2     150      50\n",
       "8   9    1     168      72\n",
       "9  10    2     168      50"
      ]
     },
     "execution_count": 5,
     "metadata": {},
     "output_type": "execute_result"
    }
   ],
   "source": [
    "df"
   ]
  },
  {
   "cell_type": "code",
   "execution_count": 6,
   "id": "e954050c-3bc5-4dcf-895f-20aecb4ef58f",
   "metadata": {},
   "outputs": [
    {
     "data": {
      "text/plain": [
       "count    10.000000\n",
       "mean     58.400000\n",
       "std      11.701852\n",
       "min      46.000000\n",
       "25%      50.000000\n",
       "50%      52.500000\n",
       "75%      68.750000\n",
       "max      78.000000\n",
       "Name: Weight, dtype: float64"
      ]
     },
     "execution_count": 6,
     "metadata": {},
     "output_type": "execute_result"
    }
   ],
   "source": [
    "df['Weight'].describe()"
   ]
  },
  {
   "cell_type": "code",
   "execution_count": 7,
   "id": "881f1207-7d0f-4b85-b525-3c73dddbfd85",
   "metadata": {},
   "outputs": [
    {
     "data": {
      "image/png": "[encoded data removed]",
      "text/plain": [
       "<Figure size 800x600 with 1 Axes>"
      ]
     },
     "metadata": {},
     "output_type": "display_data"
    }
   ],
   "source": [
    "import matplotlib.pyplot as plt\n",
    "\n",
    "medians = df[['Height', 'Weight']].median()\n",
    "\n",
    "# Create bar chart\n",
    "plt.figure(figsize=(8, 6))\n",
    "plt.bar(medians.index, medians.values)\n",
    "plt.title('Median Comparison Across Three Columns')\n",
    "plt.xlabel('Columns')\n",
    "plt.ylabel('Median Value')\n",
    "plt.xticks(rotation=45)\n",
    "plt.tight_layout()\n",
    "plt.show()"
   ]
  },
  {
   "cell_type": "code",
   "execution_count": 8,
   "id": "b8502b05-3428-4c63-82bb-edeb7e330a56",
   "metadata": {},
   "outputs": [
    {
     "name": "stdout",
     "output_type": "stream",
     "text": [
      "Sex vs Weight Regression:\n",
      "Coefficient: -19.20\n",
      "Intercept: 87.20\n",
      "R-squared: 0.7478\n",
      "\n",
      "Sex vs Height Regression:\n",
      "Coefficient: -14.00\n",
      "Intercept: 186.00\n",
      "R-squared: 0.6095\n"
     ]
    }
   ],
   "source": [
    "import pandas as pd\n",
    "import numpy as np\n",
    "from sklearn.linear_model import LinearRegression\n",
    "import matplotlib.pyplot as plt\n",
    "\n",
    "# Regression: Sex vs Weight\n",
    "X = df[['Sex']]\n",
    "y_weight = df['Weight']\n",
    "\n",
    "model_weight = LinearRegression()\n",
    "model_weight.fit(X, y_weight)\n",
    "\n",
    "print(\"Sex vs Weight Regression:\")\n",
    "print(f\"Coefficient: {model_weight.coef_[0]:.2f}\")\n",
    "print(f\"Intercept: {model_weight.intercept_:.2f}\")\n",
    "print(f\"R-squared: {model_weight.score(X, y_weight):.4f}\")\n",
    "\n",
    "# Regression: Sex vs Height\n",
    "y_height = df['Height']\n",
    "model_height = LinearRegression()\n",
    "model_height.fit(X, y_height)\n",
    "\n",
    "print(\"\\nSex vs Height Regression:\")\n",
    "print(f\"Coefficient: {model_height.coef_[0]:.2f}\")\n",
    "print(f\"Intercept: {model_height.intercept_:.2f}\")\n",
    "print(f\"R-squared: {model_height.score(X, y_height):.4f}\")\n"
   ]
  },
  {
   "cell_type": "code",
   "execution_count": null,
   "id": "7ac9157e-d672-454f-9d67-0c3407ef4d6c",
   "metadata": {},
   "outputs": [],
   "source": []
  }
 ],
 "metadata": {
  "kernelspec": {
   "display_name": "Python 3 (ipykernel)",
   "language": "python",
   "name": "python3"
  },
  "language_info": {
   "codemirror_mode": {
    "name": "ipython",
    "version": 3
   },
   "file_extension": ".py",
   "mimetype": "text/x-python",
   "name": "python",
   "nbconvert_exporter": "python",
   "pygments_lexer": "ipython3",
   "version": "3.13.3"
  }
 },
 "nbformat": 4,
 "nbformat_minor": 5
}
