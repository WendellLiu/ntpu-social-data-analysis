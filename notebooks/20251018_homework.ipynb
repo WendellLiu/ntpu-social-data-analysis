{
 "cells": [
  {
   "cell_type": "markdown",
   "id": "afb1b507-3c86-41e2-a4a1-264014b8de00",
   "metadata": {},
   "source": [
    "# 1141_社會資料分析 作業三\n",
    "學生：劉晏成"
   ]
  },
  {
   "cell_type": "markdown",
   "id": "81e9ad50-5aea-415a-a6b3-95a696d69f4c",
   "metadata": {},
   "source": [
    "## 題目"
   ]
  },
  {
   "cell_type": "markdown",
   "id": "f72ac98a-6024-4111-a6fc-ea38b5ee9c7c",
   "metadata": {},
   "source": [
    "以「2018台北大學社會系三鶯調查」（brilliant_working.sav）檔案回答以下問題：\n",
    "1. 受訪者的平均教育年數（eduy）是否為12年？\n",
    "2. 不同性別（a1）受訪者的教育程度（a8）是否有顯著差異？\n",
    "3. 受訪者的教育程度（a8）和其配偶的教育程度（a10）有無顯著差異？"
   ]
  },
  {
   "cell_type": "code",
   "execution_count": 1,
   "id": "f15a59d6-7cd3-47d3-9328-9803e1848d77",
   "metadata": {},
   "outputs": [],
   "source": [
    "from load import load_sav\n",
    "import pandas as pd\n",
    "\n",
    "df = load_sav(\"../data/brilliant_working.sav\")"
   ]
  },
  {
   "cell_type": "code",
   "execution_count": 2,
   "id": "86c86ad5-0b87-4291-9c81-5bb81b422801",
   "metadata": {},
   "outputs": [],
   "source": [
    "variable_value_labels = df.attrs['variable_value_labels']\n",
    "column_names = df.attrs['column_names']\n",
    "column_names_to_labels = df.attrs['column_names_to_labels']"
   ]
  },
  {
   "cell_type": "code",
   "execution_count": 3,
   "id": "f6ebc662-05ec-4197-a541-3f14922d37e9",
   "metadata": {},
   "outputs": [],
   "source": [
    "target_columns = ['eduy', 'a1', 'a8', 'a10']"
   ]
  },
  {
   "cell_type": "markdown",
   "id": "aca6be79-e686-4dde-92f6-53ef12013485",
   "metadata": {},
   "source": [
    "## Q1: 受訪者的平均教育年數（eduy）是否為12年？"
   ]
  },
  {
   "cell_type": "markdown",
   "id": "2eb22828-b9cf-49b2-bedf-e79478880d9c",
   "metadata": {},
   "source": [
    "觀察數值分布"
   ]
  },
  {
   "cell_type": "code",
   "execution_count": 4,
   "id": "2c8c024c-02cc-452a-836d-680ebec2b2de",
   "metadata": {},
   "outputs": [
    {
     "data": {
      "text/plain": [
       "eduy\n",
       "0.0       4\n",
       "3.0       1\n",
       "6.0      55\n",
       "8.0       1\n",
       "9.0      91\n",
       "12.0    290\n",
       "13.0      1\n",
       "14.0     95\n",
       "15.0      9\n",
       "16.0     64\n",
       "18.0    253\n",
       "20.0      4\n",
       "Name: count, dtype: int64"
      ]
     },
     "execution_count": 4,
     "metadata": {},
     "output_type": "execute_result"
    }
   ],
   "source": [
    "df_1 = df[['eduy']].copy()\n",
    "df_1.value_counts().sort_index()"
   ]
  },
  {
   "cell_type": "markdown",
   "id": "2d2e6f06-74d8-420b-8718-0bf24e657d26",
   "metadata": {},
   "source": [
    "由於教育年數為Ratio scale ，並且數值0 有其意義，故不做recoding 也不排除數值"
   ]
  },
  {
   "cell_type": "markdown",
   "id": "7ab02503-9b35-4ead-9d60-b61d4555ed9d",
   "metadata": {},
   "source": [
    "以樣本做母體平均數檢定\n",
    "\n",
    "* H0: mean = 12\n",
    "* H1: mean != 12\n",
    "\n",
    "並且以$\\alpha$ < 0.05 為檢定判準"
   ]
  },
  {
   "cell_type": "code",
   "execution_count": 5,
   "id": "822ce690-97ae-467d-af4d-7266cb784419",
   "metadata": {},
   "outputs": [
    {
     "data": {
      "text/html": [
       "<div>\n",
       "<style scoped>\n",
       "    .dataframe tbody tr th:only-of-type {\n",
       "        vertical-align: middle;\n",
       "    }\n",
       "\n",
       "    .dataframe tbody tr th {\n",
       "        vertical-align: top;\n",
       "    }\n",
       "\n",
       "    .dataframe thead th {\n",
       "        text-align: right;\n",
       "    }\n",
       "</style>\n",
       "<table border=\"1\" class=\"dataframe\">\n",
       "  <thead>\n",
       "    <tr style=\"text-align: right;\">\n",
       "      <th></th>\n",
       "      <th>Values</th>\n",
       "    </tr>\n",
       "  </thead>\n",
       "  <tbody>\n",
       "    <tr>\n",
       "      <th>statstic</th>\n",
       "      <td>12.31</td>\n",
       "    </tr>\n",
       "    <tr>\n",
       "      <th>p value</th>\n",
       "      <td>3.281672369615777e-32</td>\n",
       "    </tr>\n",
       "  </tbody>\n",
       "</table>\n",
       "</div>"
      ],
      "text/plain": [
       "                         Values\n",
       "statstic                  12.31\n",
       "p value   3.281672369615777e-32"
      ]
     },
     "execution_count": 5,
     "metadata": {},
     "output_type": "execute_result"
    }
   ],
   "source": [
    "from scipy import stats\n",
    "\n",
    "mu_0 = 12\n",
    "\n",
    "# two-sided for for two-sided test; less for case you want to check if the sample mean is less than population mean\n",
    "t_statistic, p_value = stats.ttest_1samp(df_1['eduy'], mu_0, alternative='two-sided')\n",
    "\n",
    "pd.DataFrame({\n",
    "    'Values': [f'{t_statistic:.2f}', f'{p_value:.15e}']\n",
    "}, index=['statstic', 'p value'])"
   ]
  },
  {
   "cell_type": "markdown",
   "id": "26ceeabb-78da-4481-a804-5602a77c97d9",
   "metadata": {},
   "source": [
    "### Answer"
   ]
  },
  {
   "cell_type": "markdown",
   "id": "c3fb6aac-18b1-4c6f-9b98-6702af7ab62e",
   "metadata": {},
   "source": [
    "t-test 結果為t: 12.31，並且p value < 0.05\n",
    "故拒絕H0。母體平均數不為12"
   ]
  },
  {
   "cell_type": "markdown",
   "id": "e646f2b1-147c-40ef-b0fb-9602bb151a9d",
   "metadata": {},
   "source": [
    "## Q2: 不同性別（a1）受訪者的教育程度（a8）是否有顯著差異？"
   ]
  },
  {
   "cell_type": "code",
   "execution_count": 6,
   "id": "a6d8ffd0-a063-4699-94e5-e859a9bdc226",
   "metadata": {},
   "outputs": [],
   "source": [
    "df_2 = df[['a1', 'a8']].copy().rename(columns = { 'a1': 'sex', 'a8': 'education' })"
   ]
  },
  {
   "cell_type": "code",
   "execution_count": 7,
   "id": "dfd73330-c2a7-4fdf-816f-ddc0ce57ca39",
   "metadata": {},
   "outputs": [],
   "source": [
    "df_2_male = df_2.loc[df_2['sex'] == 1.0, 'education']\n",
    "df_2_female = df_2.loc[df_2['sex'] == 2.0, 'education']"
   ]
  },
  {
   "cell_type": "markdown",
   "id": "42e436cf-4527-41e4-8d65-67ed2a053ee9",
   "metadata": {},
   "source": [
    "檢視兩性別教育程度的描述性統計結果"
   ]
  },
  {
   "cell_type": "code",
   "execution_count": 8,
   "id": "48973ffd-d246-49cc-b724-4ebf498de4f3",
   "metadata": {},
   "outputs": [
    {
     "data": {
      "text/html": [
       "<div>\n",
       "<style scoped>\n",
       "    .dataframe tbody tr th:only-of-type {\n",
       "        vertical-align: middle;\n",
       "    }\n",
       "\n",
       "    .dataframe tbody tr th {\n",
       "        vertical-align: top;\n",
       "    }\n",
       "\n",
       "    .dataframe thead th {\n",
       "        text-align: right;\n",
       "    }\n",
       "</style>\n",
       "<table border=\"1\" class=\"dataframe\">\n",
       "  <thead>\n",
       "    <tr style=\"text-align: right;\">\n",
       "      <th></th>\n",
       "      <th>Male</th>\n",
       "      <th>Female</th>\n",
       "    </tr>\n",
       "  </thead>\n",
       "  <tbody>\n",
       "    <tr>\n",
       "      <th>count</th>\n",
       "      <td>418.000000</td>\n",
       "      <td>450.000000</td>\n",
       "    </tr>\n",
       "    <tr>\n",
       "      <th>mean</th>\n",
       "      <td>11.698565</td>\n",
       "      <td>11.188889</td>\n",
       "    </tr>\n",
       "    <tr>\n",
       "      <th>std</th>\n",
       "      <td>6.207835</td>\n",
       "      <td>6.041974</td>\n",
       "    </tr>\n",
       "    <tr>\n",
       "      <th>min</th>\n",
       "      <td>1.000000</td>\n",
       "      <td>1.000000</td>\n",
       "    </tr>\n",
       "    <tr>\n",
       "      <th>25%</th>\n",
       "      <td>7.000000</td>\n",
       "      <td>7.000000</td>\n",
       "    </tr>\n",
       "    <tr>\n",
       "      <th>50%</th>\n",
       "      <td>10.000000</td>\n",
       "      <td>8.000000</td>\n",
       "    </tr>\n",
       "    <tr>\n",
       "      <th>75%</th>\n",
       "      <td>19.000000</td>\n",
       "      <td>19.000000</td>\n",
       "    </tr>\n",
       "    <tr>\n",
       "      <th>max</th>\n",
       "      <td>21.000000</td>\n",
       "      <td>21.000000</td>\n",
       "    </tr>\n",
       "  </tbody>\n",
       "</table>\n",
       "</div>"
      ],
      "text/plain": [
       "             Male      Female\n",
       "count  418.000000  450.000000\n",
       "mean    11.698565   11.188889\n",
       "std      6.207835    6.041974\n",
       "min      1.000000    1.000000\n",
       "25%      7.000000    7.000000\n",
       "50%     10.000000    8.000000\n",
       "75%     19.000000   19.000000\n",
       "max     21.000000   21.000000"
      ]
     },
     "execution_count": 8,
     "metadata": {},
     "output_type": "execute_result"
    }
   ],
   "source": [
    "pd.DataFrame({'Male': df_2_male, 'Female': df_2_female}).describe()"
   ]
  },
  {
   "cell_type": "markdown",
   "id": "3460c613-996d-4db2-976d-aff503c73cae",
   "metadata": {},
   "source": [
    "考察兩資料的性質為獨立樣本，進行Levene's test 以及接續之t-test"
   ]
  },
  {
   "cell_type": "code",
   "execution_count": 9,
   "id": "e3c27f64-c239-4f20-997f-9b3b81d068f5",
   "metadata": {},
   "outputs": [
    {
     "data": {
      "text/html": [
       "<div>\n",
       "<style scoped>\n",
       "    .dataframe tbody tr th:only-of-type {\n",
       "        vertical-align: middle;\n",
       "    }\n",
       "\n",
       "    .dataframe tbody tr th {\n",
       "        vertical-align: top;\n",
       "    }\n",
       "\n",
       "    .dataframe thead th {\n",
       "        text-align: right;\n",
       "    }\n",
       "</style>\n",
       "<table border=\"1\" class=\"dataframe\">\n",
       "  <thead>\n",
       "    <tr style=\"text-align: right;\">\n",
       "      <th></th>\n",
       "      <th>Statistic</th>\n",
       "      <th>p-value</th>\n",
       "    </tr>\n",
       "  </thead>\n",
       "  <tbody>\n",
       "    <tr>\n",
       "      <th>Levene's Test for Equal Variances</th>\n",
       "      <td>2.392620</td>\n",
       "      <td>0.122274</td>\n",
       "    </tr>\n",
       "    <tr>\n",
       "      <th>t-test (Equal Variance Assumed)</th>\n",
       "      <td>1.225481</td>\n",
       "      <td>0.220727</td>\n",
       "    </tr>\n",
       "    <tr>\n",
       "      <th>t-test (Equal Variance Not Assumed)</th>\n",
       "      <td>1.224257</td>\n",
       "      <td>0.221191</td>\n",
       "    </tr>\n",
       "  </tbody>\n",
       "</table>\n",
       "</div>"
      ],
      "text/plain": [
       "                                     Statistic   p-value\n",
       "Levene's Test for Equal Variances     2.392620  0.122274\n",
       "t-test (Equal Variance Assumed)       1.225481  0.220727\n",
       "t-test (Equal Variance Not Assumed)   1.224257  0.221191"
      ]
     },
     "execution_count": 9,
     "metadata": {},
     "output_type": "execute_result"
    }
   ],
   "source": [
    "from statistic import t_test\n",
    "\n",
    "t_test.compare_independent_samples(df_2_male, df_2_female) "
   ]
  },
  {
   "cell_type": "markdown",
   "id": "292e8f46-b6e0-4107-8c69-67ca826c95ed",
   "metadata": {
    "jp-MarkdownHeadingCollapsed": true
   },
   "source": [
    "### Answer\n",
    "**Levene's Test**\n",
    "H0: 兩母群體變異數相同\n",
    "H1: 兩母群體變異數不相同\n",
    "$\\alpha = 0.05$\n",
    "\n",
    "首先檢視表格中Levene's Test 的P Value > 0.05，接受Levenu's test 的H0（兩母群體變異數相等）。\n",
    "\n",
    "接下觀察母群體變異數相同的T Test 結果\n",
    "\n",
    "設定：\n",
    "男性、女性受訪者教育程度平均數為 $\\mu_1$、$\\mu_2$  \n",
    "$H_0: \\mu_1 = \\mu_2$  \n",
    "$H_1: \\mu_1 \\neq \\mu_2$  \n",
    "$\\alpha = 0.05$\n",
    "\n",
    "由此設定進一步檢視假設變異數相等的分析結果，P Value > 0.05，不同性別與教育程度無顯著差異。"
   ]
  },
  {
   "cell_type": "markdown",
   "id": "7dd6f3f0-72c8-47b8-836b-922114320fbb",
   "metadata": {},
   "source": [
    "## Q3: 受訪者的教育程度（a8）和其配偶的教育程度（a10）有無顯著差異？"
   ]
  },
  {
   "cell_type": "code",
   "execution_count": 10,
   "id": "367f99dd-455d-46e6-9d35-51be36efb4d1",
   "metadata": {},
   "outputs": [
    {
     "data": {
      "text/html": [
       "<div>\n",
       "<style scoped>\n",
       "    .dataframe tbody tr th:only-of-type {\n",
       "        vertical-align: middle;\n",
       "    }\n",
       "\n",
       "    .dataframe tbody tr th {\n",
       "        vertical-align: top;\n",
       "    }\n",
       "\n",
       "    .dataframe thead th {\n",
       "        text-align: right;\n",
       "    }\n",
       "</style>\n",
       "<table border=\"1\" class=\"dataframe\">\n",
       "  <thead>\n",
       "    <tr style=\"text-align: right;\">\n",
       "      <th></th>\n",
       "      <th>education</th>\n",
       "      <th>spouse_education</th>\n",
       "    </tr>\n",
       "  </thead>\n",
       "  <tbody>\n",
       "    <tr>\n",
       "      <th>0</th>\n",
       "      <td>18.0</td>\n",
       "      <td>18.0</td>\n",
       "    </tr>\n",
       "    <tr>\n",
       "      <th>1</th>\n",
       "      <td>18.0</td>\n",
       "      <td>8.0</td>\n",
       "    </tr>\n",
       "    <tr>\n",
       "      <th>2</th>\n",
       "      <td>18.0</td>\n",
       "      <td>NaN</td>\n",
       "    </tr>\n",
       "    <tr>\n",
       "      <th>3</th>\n",
       "      <td>8.0</td>\n",
       "      <td>NaN</td>\n",
       "    </tr>\n",
       "    <tr>\n",
       "      <th>4</th>\n",
       "      <td>6.0</td>\n",
       "      <td>19.0</td>\n",
       "    </tr>\n",
       "    <tr>\n",
       "      <th>...</th>\n",
       "      <td>...</td>\n",
       "      <td>...</td>\n",
       "    </tr>\n",
       "    <tr>\n",
       "      <th>863</th>\n",
       "      <td>3.0</td>\n",
       "      <td>3.0</td>\n",
       "    </tr>\n",
       "    <tr>\n",
       "      <th>864</th>\n",
       "      <td>8.0</td>\n",
       "      <td>8.0</td>\n",
       "    </tr>\n",
       "    <tr>\n",
       "      <th>865</th>\n",
       "      <td>3.0</td>\n",
       "      <td>4.0</td>\n",
       "    </tr>\n",
       "    <tr>\n",
       "      <th>866</th>\n",
       "      <td>8.0</td>\n",
       "      <td>NaN</td>\n",
       "    </tr>\n",
       "    <tr>\n",
       "      <th>867</th>\n",
       "      <td>4.0</td>\n",
       "      <td>3.0</td>\n",
       "    </tr>\n",
       "  </tbody>\n",
       "</table>\n",
       "<p>868 rows × 2 columns</p>\n",
       "</div>"
      ],
      "text/plain": [
       "     education  spouse_education\n",
       "0         18.0              18.0\n",
       "1         18.0               8.0\n",
       "2         18.0               NaN\n",
       "3          8.0               NaN\n",
       "4          6.0              19.0\n",
       "..         ...               ...\n",
       "863        3.0               3.0\n",
       "864        8.0               8.0\n",
       "865        3.0               4.0\n",
       "866        8.0               NaN\n",
       "867        4.0               3.0\n",
       "\n",
       "[868 rows x 2 columns]"
      ]
     },
     "execution_count": 10,
     "metadata": {},
     "output_type": "execute_result"
    }
   ],
   "source": [
    "df_3 = df[['a8', 'a10']].copy().rename(columns = { 'a8': 'education', 'a10': 'spouse_education' })\n",
    "df_3"
   ]
  },
  {
   "cell_type": "markdown",
   "id": "026efe4d-b7d9-47e6-9341-b4ccb138f6db",
   "metadata": {},
   "source": [
    "檢視兩組資料的缺漏值"
   ]
  },
  {
   "cell_type": "code",
   "execution_count": 11,
   "id": "b15027da-ca44-4213-8d9a-fa0f74fb9864",
   "metadata": {},
   "outputs": [
    {
     "data": {
      "text/html": [
       "<div>\n",
       "<style scoped>\n",
       "    .dataframe tbody tr th:only-of-type {\n",
       "        vertical-align: middle;\n",
       "    }\n",
       "\n",
       "    .dataframe tbody tr th {\n",
       "        vertical-align: top;\n",
       "    }\n",
       "\n",
       "    .dataframe thead th {\n",
       "        text-align: right;\n",
       "    }\n",
       "</style>\n",
       "<table border=\"1\" class=\"dataframe\">\n",
       "  <thead>\n",
       "    <tr style=\"text-align: right;\">\n",
       "      <th></th>\n",
       "      <th># of Missing Values</th>\n",
       "    </tr>\n",
       "  </thead>\n",
       "  <tbody>\n",
       "    <tr>\n",
       "      <th>Education</th>\n",
       "      <td>0</td>\n",
       "    </tr>\n",
       "    <tr>\n",
       "      <th>Spouse Education</th>\n",
       "      <td>244</td>\n",
       "    </tr>\n",
       "  </tbody>\n",
       "</table>\n",
       "</div>"
      ],
      "text/plain": [
       "                  # of Missing Values\n",
       "Education                           0\n",
       "Spouse Education                  244"
      ]
     },
     "execution_count": 11,
     "metadata": {},
     "output_type": "execute_result"
    }
   ],
   "source": [
    "pd.DataFrame({ '# of Missing Values': [df_3['education'].isna().sum(), df_3['spouse_education'].isna().sum()] },\n",
    "             index = ['Education', 'Spouse Education'])"
   ]
  },
  {
   "cell_type": "markdown",
   "id": "60c88be7-ba9f-482e-a2d9-03005e1435b6",
   "metadata": {},
   "source": [
    "首先考察兩資料為相依資料，並且對於教育程度資料而言，缺漏值並無統計意義，因此排除組合中有缺漏值的樣本"
   ]
  },
  {
   "cell_type": "code",
   "execution_count": 12,
   "id": "9e1cb82a-de55-4faf-973a-17f8abe121d2",
   "metadata": {},
   "outputs": [
    {
     "data": {
      "text/html": [
       "<div>\n",
       "<style scoped>\n",
       "    .dataframe tbody tr th:only-of-type {\n",
       "        vertical-align: middle;\n",
       "    }\n",
       "\n",
       "    .dataframe tbody tr th {\n",
       "        vertical-align: top;\n",
       "    }\n",
       "\n",
       "    .dataframe thead th {\n",
       "        text-align: right;\n",
       "    }\n",
       "</style>\n",
       "<table border=\"1\" class=\"dataframe\">\n",
       "  <thead>\n",
       "    <tr style=\"text-align: right;\">\n",
       "      <th></th>\n",
       "      <th>education</th>\n",
       "      <th>spouse_education</th>\n",
       "    </tr>\n",
       "  </thead>\n",
       "  <tbody>\n",
       "    <tr>\n",
       "      <th>0</th>\n",
       "      <td>18.0</td>\n",
       "      <td>18.0</td>\n",
       "    </tr>\n",
       "    <tr>\n",
       "      <th>1</th>\n",
       "      <td>18.0</td>\n",
       "      <td>8.0</td>\n",
       "    </tr>\n",
       "    <tr>\n",
       "      <th>4</th>\n",
       "      <td>6.0</td>\n",
       "      <td>19.0</td>\n",
       "    </tr>\n",
       "    <tr>\n",
       "      <th>5</th>\n",
       "      <td>19.0</td>\n",
       "      <td>6.0</td>\n",
       "    </tr>\n",
       "    <tr>\n",
       "      <th>6</th>\n",
       "      <td>3.0</td>\n",
       "      <td>1.0</td>\n",
       "    </tr>\n",
       "    <tr>\n",
       "      <th>...</th>\n",
       "      <td>...</td>\n",
       "      <td>...</td>\n",
       "    </tr>\n",
       "    <tr>\n",
       "      <th>862</th>\n",
       "      <td>3.0</td>\n",
       "      <td>4.0</td>\n",
       "    </tr>\n",
       "    <tr>\n",
       "      <th>863</th>\n",
       "      <td>3.0</td>\n",
       "      <td>3.0</td>\n",
       "    </tr>\n",
       "    <tr>\n",
       "      <th>864</th>\n",
       "      <td>8.0</td>\n",
       "      <td>8.0</td>\n",
       "    </tr>\n",
       "    <tr>\n",
       "      <th>865</th>\n",
       "      <td>3.0</td>\n",
       "      <td>4.0</td>\n",
       "    </tr>\n",
       "    <tr>\n",
       "      <th>867</th>\n",
       "      <td>4.0</td>\n",
       "      <td>3.0</td>\n",
       "    </tr>\n",
       "  </tbody>\n",
       "</table>\n",
       "<p>624 rows × 2 columns</p>\n",
       "</div>"
      ],
      "text/plain": [
       "     education  spouse_education\n",
       "0         18.0              18.0\n",
       "1         18.0               8.0\n",
       "4          6.0              19.0\n",
       "5         19.0               6.0\n",
       "6          3.0               1.0\n",
       "..         ...               ...\n",
       "862        3.0               4.0\n",
       "863        3.0               3.0\n",
       "864        8.0               8.0\n",
       "865        3.0               4.0\n",
       "867        4.0               3.0\n",
       "\n",
       "[624 rows x 2 columns]"
      ]
     },
     "execution_count": 12,
     "metadata": {},
     "output_type": "execute_result"
    }
   ],
   "source": [
    "df_3_education = df_3.loc[:, 'education']\n",
    "df_3_cleaned = df_3.dropna()\n",
    "\n",
    "df_3_education = df_3_cleaned.loc[:, 'education']\n",
    "df_3_spouse_education = df_3_cleaned.loc[:, 'spouse_education']\n",
    "\n",
    "df_3_cleaned"
   ]
  },
  {
   "cell_type": "markdown",
   "id": "834e9c24-b887-422d-8cee-b661b612662a",
   "metadata": {},
   "source": [
    "二資料描述性統計結果"
   ]
  },
  {
   "cell_type": "code",
   "execution_count": 13,
   "id": "c28251b4-1d8d-4732-bebc-f1cd8ac6f407",
   "metadata": {},
   "outputs": [
    {
     "data": {
      "text/html": [
       "<div>\n",
       "<style scoped>\n",
       "    .dataframe tbody tr th:only-of-type {\n",
       "        vertical-align: middle;\n",
       "    }\n",
       "\n",
       "    .dataframe tbody tr th {\n",
       "        vertical-align: top;\n",
       "    }\n",
       "\n",
       "    .dataframe thead th {\n",
       "        text-align: right;\n",
       "    }\n",
       "</style>\n",
       "<table border=\"1\" class=\"dataframe\">\n",
       "  <thead>\n",
       "    <tr style=\"text-align: right;\">\n",
       "      <th></th>\n",
       "      <th>education</th>\n",
       "      <th>spouse_education</th>\n",
       "    </tr>\n",
       "  </thead>\n",
       "  <tbody>\n",
       "    <tr>\n",
       "      <th>count</th>\n",
       "      <td>624.000000</td>\n",
       "      <td>624.000000</td>\n",
       "    </tr>\n",
       "    <tr>\n",
       "      <th>mean</th>\n",
       "      <td>10.504808</td>\n",
       "      <td>10.349359</td>\n",
       "    </tr>\n",
       "    <tr>\n",
       "      <th>std</th>\n",
       "      <td>5.970498</td>\n",
       "      <td>6.078914</td>\n",
       "    </tr>\n",
       "    <tr>\n",
       "      <th>min</th>\n",
       "      <td>1.000000</td>\n",
       "      <td>1.000000</td>\n",
       "    </tr>\n",
       "    <tr>\n",
       "      <th>25%</th>\n",
       "      <td>7.000000</td>\n",
       "      <td>6.000000</td>\n",
       "    </tr>\n",
       "    <tr>\n",
       "      <th>50%</th>\n",
       "      <td>8.000000</td>\n",
       "      <td>8.000000</td>\n",
       "    </tr>\n",
       "    <tr>\n",
       "      <th>75%</th>\n",
       "      <td>18.000000</td>\n",
       "      <td>18.000000</td>\n",
       "    </tr>\n",
       "    <tr>\n",
       "      <th>max</th>\n",
       "      <td>21.000000</td>\n",
       "      <td>21.000000</td>\n",
       "    </tr>\n",
       "  </tbody>\n",
       "</table>\n",
       "</div>"
      ],
      "text/plain": [
       "        education  spouse_education\n",
       "count  624.000000        624.000000\n",
       "mean    10.504808         10.349359\n",
       "std      5.970498          6.078914\n",
       "min      1.000000          1.000000\n",
       "25%      7.000000          6.000000\n",
       "50%      8.000000          8.000000\n",
       "75%     18.000000         18.000000\n",
       "max     21.000000         21.000000"
      ]
     },
     "execution_count": 13,
     "metadata": {},
     "output_type": "execute_result"
    }
   ],
   "source": [
    "df_3_cleaned.describe()"
   ]
  },
  {
   "cell_type": "markdown",
   "id": "0a3f2e23-af66-4cfb-9a6b-af652e6dfc95",
   "metadata": {},
   "source": [
    "因此二組資料為相依資料，故為檢驗此二資料是否有顯著差異，執行Paired Samples t-test"
   ]
  },
  {
   "cell_type": "code",
   "execution_count": 14,
   "id": "a696eb9b-eeab-41d5-b7bb-9c8766779eb2",
   "metadata": {},
   "outputs": [
    {
     "data": {
      "text/html": [
       "<div>\n",
       "<style scoped>\n",
       "    .dataframe tbody tr th:only-of-type {\n",
       "        vertical-align: middle;\n",
       "    }\n",
       "\n",
       "    .dataframe tbody tr th {\n",
       "        vertical-align: top;\n",
       "    }\n",
       "\n",
       "    .dataframe thead th {\n",
       "        text-align: right;\n",
       "    }\n",
       "</style>\n",
       "<table border=\"1\" class=\"dataframe\">\n",
       "  <thead>\n",
       "    <tr style=\"text-align: right;\">\n",
       "      <th></th>\n",
       "      <th>Value</th>\n",
       "    </tr>\n",
       "  </thead>\n",
       "  <tbody>\n",
       "    <tr>\n",
       "      <th>diff_mean</th>\n",
       "      <td>0.155449</td>\n",
       "    </tr>\n",
       "    <tr>\n",
       "      <th>diff_std</th>\n",
       "      <td>4.916628</td>\n",
       "    </tr>\n",
       "    <tr>\n",
       "      <th>t_stat</th>\n",
       "      <td>0.789791</td>\n",
       "    </tr>\n",
       "    <tr>\n",
       "      <th>p_value</th>\n",
       "      <td>0.429950</td>\n",
       "    </tr>\n",
       "  </tbody>\n",
       "</table>\n",
       "</div>"
      ],
      "text/plain": [
       "              Value\n",
       "diff_mean  0.155449\n",
       "diff_std   4.916628\n",
       "t_stat     0.789791\n",
       "p_value    0.429950"
      ]
     },
     "execution_count": 14,
     "metadata": {},
     "output_type": "execute_result"
    }
   ],
   "source": [
    "from statistic import t_test\n",
    "\n",
    "t_test.compare_paired_samples(df_3_education, df_3_spouse_education)\n"
   ]
  },
  {
   "cell_type": "markdown",
   "id": "136a319b-0b07-43d2-84fc-9b49b9776746",
   "metadata": {},
   "source": [
    "### Answer"
   ]
  },
  {
   "cell_type": "markdown",
   "id": "42267621-e65a-4f3d-94dc-b78807a3faae",
   "metadata": {},
   "source": [
    "設定：受訪者與其配偶的教育程度平均數分別為$\\mu_1$、$\\mu_1$  \n",
    "$H_0: \\mu_1 = \\mu_2$  \n",
    "$H_1: \\mu_1 \\neq \\mu_2$  \n",
    "$\\alpha = 0.05$\n",
    "\n",
    "依據Paired Samples T-Test 結果，p value(0.43) > 0.05 ，接受虛無假設；故受訪者教育程度與其配偶教育程度無顯著差異"
   ]
  },
  {
   "cell_type": "code",
   "execution_count": null,
   "id": "4d7e15dd-543b-4a55-ac23-73932ef5c2ca",
   "metadata": {},
   "outputs": [],
   "source": []
  }
 ],
 "metadata": {
  "kernelspec": {
   "display_name": "Python 3 (ipykernel)",
   "language": "python",
   "name": "python3"
  },
  "language_info": {
   "codemirror_mode": {
    "name": "ipython",
    "version": 3
   },
   "file_extension": ".py",
   "mimetype": "text/x-python",
   "name": "python",
   "nbconvert_exporter": "python",
   "pygments_lexer": "ipython3",
   "version": "3.13.3"
  }
 },
 "nbformat": 4,
 "nbformat_minor": 5
}
