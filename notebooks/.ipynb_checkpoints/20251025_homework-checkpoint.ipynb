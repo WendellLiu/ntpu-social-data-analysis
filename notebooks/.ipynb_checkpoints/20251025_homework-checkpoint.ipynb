{
 "cells": [
  {
   "cell_type": "markdown",
   "id": "02954f6c-de5a-4b70-aa58-179908b4710c",
   "metadata": {},
   "source": [
    "# 1141_社會資料分析 作業四\n",
    "學生：劉晏成"
   ]
  },
  {
   "cell_type": "markdown",
   "id": "0b297133-5e01-4c3d-83ab-0eb70445dcee",
   "metadata": {},
   "source": [
    "以「2018台北大學社會系三鶯調查」（brilliant_working.sav）檔案回答以下問題：\n",
    "1. 以變異數分析方法（包括整體檢定與事後比較），檢視不同年齡分組者（agegroup）的收入（inc）是否有顯著差異。\n",
    "2. 以教育年數（eduy）作為共變量，再次檢視檢視不同年齡分組者（agegroup）的收入（inc）是否有顯著差異。"
   ]
  },
  {
   "cell_type": "code",
   "execution_count": 1,
   "id": "0c926491-ce88-4f2c-a51e-882391a37340",
   "metadata": {},
   "outputs": [],
   "source": [
    "from load import load_sav\n",
    "import pandas as pd\n",
    "\n",
    "df = load_sav(\"../data/brilliant_working.sav\")"
   ]
  },
  {
   "cell_type": "code",
   "execution_count": 2,
   "id": "e8f22695-7693-4084-8493-bdd77f767a3c",
   "metadata": {},
   "outputs": [],
   "source": [
    "variable_value_labels = df.attrs['variable_value_labels']\n",
    "column_names = df.attrs['column_names']\n",
    "column_names_to_labels = df.attrs['column_names_to_labels']"
   ]
  },
  {
   "cell_type": "markdown",
   "id": "60bc61b9-ec5d-4b6e-a18a-7345005bd262",
   "metadata": {},
   "source": [
    "## Q1: 以變異數分析方法（包括整體檢定與事後比較），檢視不同年齡分組者（agegroup）的收入（inc）是否有顯著差異。"
   ]
  },
  {
   "cell_type": "code",
   "execution_count": 3,
   "id": "27409499-c3b4-41a4-8892-7066e0c0e50a",
   "metadata": {},
   "outputs": [],
   "source": [
    "df_1 = df[['agegroup', 'inc']].copy()"
   ]
  },
  {
   "cell_type": "markdown",
   "id": "09da90ec-0b38-485d-93af-7e0f6dc8dc78",
   "metadata": {},
   "source": [
    "首先，先確認不同年齡組別分布"
   ]
  },
  {
   "cell_type": "code",
   "execution_count": 4,
   "id": "c03445fb-94ba-4bde-9838-961dde1b070c",
   "metadata": {},
   "outputs": [
    {
     "data": {
      "text/plain": [
       "agegroup\n",
       "1.0    336\n",
       "2.0    327\n",
       "3.0    205\n",
       "Name: count, dtype: int64"
      ]
     },
     "execution_count": 4,
     "metadata": {},
     "output_type": "execute_result"
    }
   ],
   "source": [
    "df_1['agegroup'].value_counts()"
   ]
  },
  {
   "cell_type": "markdown",
   "id": "ef879a76-5e1c-4e43-9823-59c91456eb58",
   "metadata": {},
   "source": [
    "確認共三組（1, 2, 3）"
   ]
  },
  {
   "cell_type": "markdown",
   "id": "4333d7b7-08d9-4e5d-b1c0-83cbccd69fb8",
   "metadata": {},
   "source": [
    "確認缺漏值狀況"
   ]
  },
  {
   "cell_type": "code",
   "execution_count": 5,
   "id": "140b695d-4455-4edc-b32d-3fd51d72049a",
   "metadata": {},
   "outputs": [
    {
     "data": {
      "text/html": [
       "<div>\n",
       "<style scoped>\n",
       "    .dataframe tbody tr th:only-of-type {\n",
       "        vertical-align: middle;\n",
       "    }\n",
       "\n",
       "    .dataframe tbody tr th {\n",
       "        vertical-align: top;\n",
       "    }\n",
       "\n",
       "    .dataframe thead th {\n",
       "        text-align: right;\n",
       "    }\n",
       "</style>\n",
       "<table border=\"1\" class=\"dataframe\">\n",
       "  <thead>\n",
       "    <tr style=\"text-align: right;\">\n",
       "      <th></th>\n",
       "      <th># of Missing Values</th>\n",
       "    </tr>\n",
       "  </thead>\n",
       "  <tbody>\n",
       "    <tr>\n",
       "      <th>agegroup</th>\n",
       "      <td>0</td>\n",
       "    </tr>\n",
       "    <tr>\n",
       "      <th>inc</th>\n",
       "      <td>4</td>\n",
       "    </tr>\n",
       "  </tbody>\n",
       "</table>\n",
       "</div>"
      ],
      "text/plain": [
       "          # of Missing Values\n",
       "agegroup                    0\n",
       "inc                         4"
      ]
     },
     "execution_count": 5,
     "metadata": {},
     "output_type": "execute_result"
    }
   ],
   "source": [
    "from statistic.missing_value import check_missing_value\n",
    "\n",
    "check_missing_value(df_1)"
   ]
  },
  {
   "cell_type": "markdown",
   "id": "fbcf7fcc-f89b-4da2-87f4-1aa5ce9f8a6e",
   "metadata": {},
   "source": [
    "發現有缺漏值，預處理inc 為缺漏值的資料"
   ]
  },
  {
   "cell_type": "code",
   "execution_count": 14,
   "id": "98b66e60-47dc-4b4e-ad36-8624ce438ad7",
   "metadata": {},
   "outputs": [
    {
     "data": {
      "text/html": [
       "<div>\n",
       "<style scoped>\n",
       "    .dataframe tbody tr th:only-of-type {\n",
       "        vertical-align: middle;\n",
       "    }\n",
       "\n",
       "    .dataframe tbody tr th {\n",
       "        vertical-align: top;\n",
       "    }\n",
       "\n",
       "    .dataframe thead th {\n",
       "        text-align: right;\n",
       "    }\n",
       "</style>\n",
       "<table border=\"1\" class=\"dataframe\">\n",
       "  <thead>\n",
       "    <tr style=\"text-align: right;\">\n",
       "      <th></th>\n",
       "      <th># of Missing Values</th>\n",
       "    </tr>\n",
       "  </thead>\n",
       "  <tbody>\n",
       "    <tr>\n",
       "      <th>agegroup</th>\n",
       "      <td>0</td>\n",
       "    </tr>\n",
       "    <tr>\n",
       "      <th>inc</th>\n",
       "      <td>0</td>\n",
       "    </tr>\n",
       "  </tbody>\n",
       "</table>\n",
       "</div>"
      ],
      "text/plain": [
       "          # of Missing Values\n",
       "agegroup                    0\n",
       "inc                         0"
      ]
     },
     "execution_count": 14,
     "metadata": {},
     "output_type": "execute_result"
    }
   ],
   "source": [
    "df_1_cleared = df_1.dropna()\n",
    "check_missing_value(df_1_cleared)"
   ]
  },
  {
   "cell_type": "code",
   "execution_count": 19,
   "id": "5bf28adc-775e-4395-bcb4-8118fca3b96f",
   "metadata": {},
   "outputs": [
    {
     "data": {
      "text/html": [
       "<div>\n",
       "<style scoped>\n",
       "    .dataframe tbody tr th:only-of-type {\n",
       "        vertical-align: middle;\n",
       "    }\n",
       "\n",
       "    .dataframe tbody tr th {\n",
       "        vertical-align: top;\n",
       "    }\n",
       "\n",
       "    .dataframe thead th {\n",
       "        text-align: right;\n",
       "    }\n",
       "</style>\n",
       "<table border=\"1\" class=\"dataframe\">\n",
       "  <thead>\n",
       "    <tr style=\"text-align: right;\">\n",
       "      <th></th>\n",
       "      <th>Values</th>\n",
       "    </tr>\n",
       "  </thead>\n",
       "  <tbody>\n",
       "    <tr>\n",
       "      <th>F Stat</th>\n",
       "      <td>14.44</td>\n",
       "    </tr>\n",
       "    <tr>\n",
       "      <th>P Value</th>\n",
       "      <td>0.000001</td>\n",
       "    </tr>\n",
       "  </tbody>\n",
       "</table>\n",
       "</div>"
      ],
      "text/plain": [
       "           Values\n",
       "F Stat      14.44\n",
       "P Value  0.000001"
      ]
     },
     "execution_count": 19,
     "metadata": {},
     "output_type": "execute_result"
    }
   ],
   "source": [
    "from scipy.stats import f_oneway\n",
    "\n",
    "groups = {name: group['inc'].values for name, group in df_1_cleared.groupby('agegroup')}\n",
    "\n",
    "f_stat, anova_p = f_oneway(groups[1], groups[2], groups[3])\n",
    "pd.DataFrame({ 'Values': [f\"{f_stat:.2f}\", anova_p] }, index = ['F Stat', 'P Value'])"
   ]
  },
  {
   "cell_type": "markdown",
   "id": "d6d9c06c-3fd4-4061-82b7-ad874d26a969",
   "metadata": {},
   "source": [
    "依據P Value 結果顯示三組間存在差異"
   ]
  },
  {
   "cell_type": "code",
   "execution_count": null,
   "id": "b75090f5-017d-4cf8-9b2c-b6083775078b",
   "metadata": {},
   "outputs": [],
   "source": []
  }
 ],
 "metadata": {
  "kernelspec": {
   "display_name": "Python 3 (ipykernel)",
   "language": "python",
   "name": "python3"
  },
  "language_info": {
   "codemirror_mode": {
    "name": "ipython",
    "version": 3
   },
   "file_extension": ".py",
   "mimetype": "text/x-python",
   "name": "python",
   "nbconvert_exporter": "python",
   "pygments_lexer": "ipython3",
   "version": "3.13.3"
  }
 },
 "nbformat": 4,
 "nbformat_minor": 5
}
