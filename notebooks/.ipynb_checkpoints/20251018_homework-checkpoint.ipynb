{
 "cells": [
  {
   "cell_type": "markdown",
   "id": "afb1b507-3c86-41e2-a4a1-264014b8de00",
   "metadata": {},
   "source": [
    "# 1141_社會資料分析 作業三\n",
    "學生：劉晏成"
   ]
  },
  {
   "cell_type": "markdown",
   "id": "81e9ad50-5aea-415a-a6b3-95a696d69f4c",
   "metadata": {},
   "source": [
    "# 題目"
   ]
  },
  {
   "cell_type": "markdown",
   "id": "f72ac98a-6024-4111-a6fc-ea38b5ee9c7c",
   "metadata": {},
   "source": [
    "以「2018台北大學社會系三鶯調查」（brilliant_working.sav）檔案回答以下問題：\n",
    "1. 受訪者的平均教育年數（eduy）是否為12年？\n",
    "2. 不同性別（a1）受訪者的教育程度（a8）是否有顯著差異？\n",
    "3. 受訪者的教育程度（a8）和其配偶的教育程度（a10）有無顯著差異？"
   ]
  },
  {
   "cell_type": "code",
   "execution_count": 8,
   "id": "f15a59d6-7cd3-47d3-9328-9803e1848d77",
   "metadata": {},
   "outputs": [],
   "source": [
    "from load import load_sav\n",
    "\n",
    "df = load_sav(\"../data/brilliant_working.sav\")"
   ]
  },
  {
   "cell_type": "code",
   "execution_count": 11,
   "id": "86c86ad5-0b87-4291-9c81-5bb81b422801",
   "metadata": {},
   "outputs": [],
   "source": [
    "variable_value_labels = df.attrs['variable_value_labels']\n",
    "column_names = df.attrs['column_names']\n",
    "column_names_to_labels = df.attrs['column_names_to_labels']"
   ]
  },
  {
   "cell_type": "code",
   "execution_count": 7,
   "id": "f6ebc662-05ec-4197-a541-3f14922d37e9",
   "metadata": {},
   "outputs": [
    {
     "data": {
      "text/html": [
       "<div>\n",
       "<style scoped>\n",
       "    .dataframe tbody tr th:only-of-type {\n",
       "        vertical-align: middle;\n",
       "    }\n",
       "\n",
       "    .dataframe tbody tr th {\n",
       "        vertical-align: top;\n",
       "    }\n",
       "\n",
       "    .dataframe thead th {\n",
       "        text-align: right;\n",
       "    }\n",
       "</style>\n",
       "<table border=\"1\" class=\"dataframe\">\n",
       "  <thead>\n",
       "    <tr style=\"text-align: right;\">\n",
       "      <th></th>\n",
       "      <th>eduy</th>\n",
       "      <th>a1</th>\n",
       "      <th>a8</th>\n",
       "      <th>a10</th>\n",
       "    </tr>\n",
       "  </thead>\n",
       "  <tbody>\n",
       "    <tr>\n",
       "      <th>0</th>\n",
       "      <td>16.0</td>\n",
       "      <td>2.0</td>\n",
       "      <td>18.0</td>\n",
       "      <td>18.0</td>\n",
       "    </tr>\n",
       "    <tr>\n",
       "      <th>1</th>\n",
       "      <td>16.0</td>\n",
       "      <td>1.0</td>\n",
       "      <td>18.0</td>\n",
       "      <td>8.0</td>\n",
       "    </tr>\n",
       "    <tr>\n",
       "      <th>2</th>\n",
       "      <td>16.0</td>\n",
       "      <td>2.0</td>\n",
       "      <td>18.0</td>\n",
       "      <td>NaN</td>\n",
       "    </tr>\n",
       "    <tr>\n",
       "      <th>3</th>\n",
       "      <td>12.0</td>\n",
       "      <td>1.0</td>\n",
       "      <td>8.0</td>\n",
       "      <td>NaN</td>\n",
       "    </tr>\n",
       "    <tr>\n",
       "      <th>4</th>\n",
       "      <td>12.0</td>\n",
       "      <td>2.0</td>\n",
       "      <td>6.0</td>\n",
       "      <td>19.0</td>\n",
       "    </tr>\n",
       "    <tr>\n",
       "      <th>...</th>\n",
       "      <td>...</td>\n",
       "      <td>...</td>\n",
       "      <td>...</td>\n",
       "      <td>...</td>\n",
       "    </tr>\n",
       "    <tr>\n",
       "      <th>863</th>\n",
       "      <td>6.0</td>\n",
       "      <td>2.0</td>\n",
       "      <td>3.0</td>\n",
       "      <td>3.0</td>\n",
       "    </tr>\n",
       "    <tr>\n",
       "      <th>864</th>\n",
       "      <td>12.0</td>\n",
       "      <td>2.0</td>\n",
       "      <td>8.0</td>\n",
       "      <td>8.0</td>\n",
       "    </tr>\n",
       "    <tr>\n",
       "      <th>865</th>\n",
       "      <td>6.0</td>\n",
       "      <td>2.0</td>\n",
       "      <td>3.0</td>\n",
       "      <td>4.0</td>\n",
       "    </tr>\n",
       "    <tr>\n",
       "      <th>866</th>\n",
       "      <td>12.0</td>\n",
       "      <td>1.0</td>\n",
       "      <td>8.0</td>\n",
       "      <td>NaN</td>\n",
       "    </tr>\n",
       "    <tr>\n",
       "      <th>867</th>\n",
       "      <td>9.0</td>\n",
       "      <td>1.0</td>\n",
       "      <td>4.0</td>\n",
       "      <td>3.0</td>\n",
       "    </tr>\n",
       "  </tbody>\n",
       "</table>\n",
       "<p>868 rows × 4 columns</p>\n",
       "</div>"
      ],
      "text/plain": [
       "     eduy   a1    a8   a10\n",
       "0    16.0  2.0  18.0  18.0\n",
       "1    16.0  1.0  18.0   8.0\n",
       "2    16.0  2.0  18.0   NaN\n",
       "3    12.0  1.0   8.0   NaN\n",
       "4    12.0  2.0   6.0  19.0\n",
       "..    ...  ...   ...   ...\n",
       "863   6.0  2.0   3.0   3.0\n",
       "864  12.0  2.0   8.0   8.0\n",
       "865   6.0  2.0   3.0   4.0\n",
       "866  12.0  1.0   8.0   NaN\n",
       "867   9.0  1.0   4.0   3.0\n",
       "\n",
       "[868 rows x 4 columns]"
      ]
     },
     "execution_count": 7,
     "metadata": {},
     "output_type": "execute_result"
    }
   ],
   "source": [
    "target_columns = ['eduy', 'a1', 'a8', 'a10']\n",
    "df[target_columns]"
   ]
  },
  {
   "cell_type": "code",
   "execution_count": 14,
   "id": "ff3c4c1a-8f81-4fae-8d7f-dfc207c6902f",
   "metadata": {},
   "outputs": [
    {
     "name": "stdout",
     "output_type": "stream",
     "text": [
      "eduy: None\n",
      "a1: {1.0: '男', 2.0: '女'}\n",
      "a8: {1.0: '無', 2.0: '自修', 3.0: '小學肄業', 4.0: '國(初)中', 5.0: '初職', 6.0: '高中普通科', 7.0: '高中職業科', 8.0: '高職', 9.0: '士官學校', 10.0: '五專', 11.0: '二專', 12.0: '三專', 13.0: '軍警專修班', 14.0: '軍警專科班', 15.0: '空中行專', 16.0: '空中大學', 17.0: '軍警官學校', 18.0: '技術學院、科大', 19.0: '大學', 20.0: '碩士', 21.0: '博士', 22.0: '其他', 997.0: '拒答', 998.0: '漏答', 999.0: '不適用'}\n",
      "a10: {1.0: '無(不識字)', 2.0: '自修(識字、私塾)', 3.0: '小學肄業', 4.0: '國(初)中', 5.0: '初職', 6.0: '高中普通科', 7.0: '高中職業科', 8.0: '高職', 9.0: '士官學校', 10.0: '五專', 11.0: '二專', 12.0: '三專', 13.0: '軍警專修班', 14.0: '軍警專科班', 15.0: '空中行專', 16.0: '空中大學', 17.0: '軍警官學校', 18.0: '技術學院、科大', 19.0: '大學', 20.0: '碩士', 21.0: '博士', 22.0: '其他', 997.0: '拒答', 998.0: '漏答', 999.0: '不適用'}\n"
     ]
    }
   ],
   "source": [
    "for key in target_columns:\n",
    "    print(f\"{key}: {variable_value_labels.get(key)}\")"
   ]
  }
 ],
 "metadata": {
  "kernelspec": {
   "display_name": "Python 3 (ipykernel)",
   "language": "python",
   "name": "python3"
  },
  "language_info": {
   "codemirror_mode": {
    "name": "ipython",
    "version": 3
   },
   "file_extension": ".py",
   "mimetype": "text/x-python",
   "name": "python",
   "nbconvert_exporter": "python",
   "pygments_lexer": "ipython3",
   "version": "3.13.3"
  }
 },
 "nbformat": 4,
 "nbformat_minor": 5
}
