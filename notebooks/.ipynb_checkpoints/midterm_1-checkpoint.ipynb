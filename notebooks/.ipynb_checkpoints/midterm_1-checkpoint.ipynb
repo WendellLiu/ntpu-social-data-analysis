{
 "cells": [
  {
   "cell_type": "markdown",
   "id": "80d62f3e-dee9-4463-b3fe-7af5c69505da",
   "metadata": {},
   "source": [
    "# 1141_社會資料分析 第一次期中考\n",
    "學生：劉晏成\n",
    "\n"
   ]
  },
  {
   "cell_type": "code",
   "execution_count": 1,
   "id": "625b35db-4bad-46ab-a95b-9a39c24f9609",
   "metadata": {},
   "outputs": [],
   "source": [
    "from load import load_sav\n",
    "import pandas as pd\n",
    "import numpy as np\n",
    "import statistic as my_stat"
   ]
  },
  {
   "cell_type": "code",
   "execution_count": 19,
   "id": "c9b0077f-9f34-4b67-9668-d0662fafbefe",
   "metadata": {},
   "outputs": [],
   "source": [
    "df = load_sav(\"../data/midterm_1.sav\")\n",
    "df.loc[:, 'age'] = 2018 - (df['a2_1'] + 1911)"
   ]
  },
  {
   "cell_type": "code",
   "execution_count": 3,
   "id": "91ad6043-f2e0-49f1-af2d-998f331cc340",
   "metadata": {},
   "outputs": [],
   "source": [
    "variable_value_labels = df.attrs['variable_value_labels']\n",
    "column_names = df.attrs['column_names']\n",
    "column_names_to_labels = df.attrs['column_names_to_labels']"
   ]
  },
  {
   "cell_type": "code",
   "execution_count": 4,
   "id": "e1b71778-6fd9-46df-b56d-2d04f0202de6",
   "metadata": {},
   "outputs": [
    {
     "data": {
      "text/plain": [
       "{0.0: '無收入',\n",
       " 1.0: '未滿2萬元',\n",
       " 2.0: '2萬元以上，未滿4萬元',\n",
       " 3.0: '4萬元以上，未滿6萬元',\n",
       " 4.0: '6萬元以上，未滿8萬元',\n",
       " 5.0: '8萬元以上，未滿10萬元',\n",
       " 6.0: '10萬元以上，未滿12萬元',\n",
       " 7.0: '12萬元以上，未滿14萬元',\n",
       " 8.0: '14萬元以上，未滿16萬元',\n",
       " 9.0: '6萬元以上，未滿18萬元',\n",
       " 10.0: '18萬元以上，未滿20萬元',\n",
       " 11.0: '20萬元以上',\n",
       " 997.0: '拒答',\n",
       " 998.0: '漏答',\n",
       " 999.0: '不適用'}"
      ]
     },
     "execution_count": 4,
     "metadata": {},
     "output_type": "execute_result"
    }
   ],
   "source": [
    "variable_value_labels['b3']"
   ]
  },
  {
   "cell_type": "markdown",
   "id": "3217b0ab-f979-4102-95c1-9523f06d9543",
   "metadata": {},
   "source": [
    "## Q1. \n",
    "這份問卷調查執行於 2018 年，請利用「出生年」計算，創造出「年齡」變項。接著，請列出（1）性別、 （2）年齡、 （3）教育程度、 （4）家庭收入等變項的次數分布。"
   ]
  },
  {
   "cell_type": "code",
   "execution_count": 5,
   "id": "584e684f-3763-4ba8-a2ff-a099e20eb9cc",
   "metadata": {},
   "outputs": [],
   "source": [
    "df_1 = df[['a1', 'age', 'b3', 'a8']].copy().rename(columns = { 'a1': 'sex', 'a8': 'education', 'b3': 'family_income' })"
   ]
  },
  {
   "cell_type": "markdown",
   "id": "d4f382a6-f492-46ab-b984-e870570bee6b",
   "metadata": {},
   "source": [
    "### Ans 1: 性別次數分布"
   ]
  },
  {
   "cell_type": "code",
   "execution_count": 6,
   "id": "60e5dc86-d0ee-436e-8ff4-4ee3ed103392",
   "metadata": {},
   "outputs": [
    {
     "data": {
      "text/plain": [
       "sex\n",
       "1.0    418\n",
       "2.0    450\n",
       "Name: count, dtype: int64"
      ]
     },
     "execution_count": 6,
     "metadata": {},
     "output_type": "execute_result"
    }
   ],
   "source": [
    "df_1['sex'].value_counts().sort_index()"
   ]
  },
  {
   "cell_type": "markdown",
   "id": "dcdfa514-d0ea-4975-af81-ebba52b64788",
   "metadata": {},
   "source": [
    "### Ans 2: 年齡次數分布"
   ]
  },
  {
   "cell_type": "code",
   "execution_count": 7,
   "id": "5460d400-16d2-47b0-8708-837003a5cc05",
   "metadata": {},
   "outputs": [
    {
     "data": {
      "text/plain": [
       "age\n",
       "18.0     4\n",
       "19.0     8\n",
       "20.0     7\n",
       "21.0    17\n",
       "22.0    15\n",
       "23.0    17\n",
       "24.0    29\n",
       "25.0    14\n",
       "26.0    17\n",
       "27.0    19\n",
       "28.0    22\n",
       "29.0    15\n",
       "30.0    11\n",
       "31.0    19\n",
       "32.0    20\n",
       "33.0    23\n",
       "34.0    16\n",
       "35.0    21\n",
       "36.0    26\n",
       "37.0    21\n",
       "38.0    24\n",
       "39.0    18\n",
       "40.0    17\n",
       "41.0    23\n",
       "42.0    30\n",
       "43.0    16\n",
       "44.0    20\n",
       "45.0    16\n",
       "46.0    15\n",
       "47.0    14\n",
       "48.0    17\n",
       "49.0    11\n",
       "50.0    13\n",
       "51.0    14\n",
       "52.0    15\n",
       "53.0    22\n",
       "54.0    24\n",
       "55.0    20\n",
       "56.0    20\n",
       "57.0    20\n",
       "58.0    11\n",
       "59.0    13\n",
       "60.0    11\n",
       "61.0    13\n",
       "62.0    13\n",
       "63.0    14\n",
       "64.0     8\n",
       "65.0    14\n",
       "66.0     8\n",
       "67.0     8\n",
       "68.0     8\n",
       "69.0     7\n",
       "70.0     5\n",
       "71.0     3\n",
       "72.0     1\n",
       "73.0     6\n",
       "74.0     1\n",
       "75.0     2\n",
       "76.0     1\n",
       "77.0     4\n",
       "78.0     3\n",
       "80.0     2\n",
       "81.0     1\n",
       "83.0     1\n",
       "Name: count, dtype: int64"
      ]
     },
     "metadata": {},
     "output_type": "display_data"
    }
   ],
   "source": [
    "with pd.option_context(\"display.max_rows\", None,\n",
    "                       \"display.max_colwidth\", 200):\n",
    "    display(df_1['age'].value_counts().sort_index())"
   ]
  },
  {
   "cell_type": "markdown",
   "id": "bf7d3e92-4f32-4915-bfc0-f283c708b529",
   "metadata": {},
   "source": [
    "### Ans 3: 教育程度分布"
   ]
  },
  {
   "cell_type": "code",
   "execution_count": 8,
   "id": "c470bc67-b448-4d63-8d13-892b91ad6a57",
   "metadata": {},
   "outputs": [
    {
     "data": {
      "text/plain": [
       "education\n",
       "1.0       4\n",
       "2.0       1\n",
       "3.0      55\n",
       "4.0      91\n",
       "5.0       1\n",
       "6.0      31\n",
       "7.0      96\n",
       "8.0     161\n",
       "9.0       2\n",
       "10.0     41\n",
       "11.0     49\n",
       "12.0      6\n",
       "13.0      1\n",
       "14.0      5\n",
       "15.0      3\n",
       "16.0      4\n",
       "17.0      2\n",
       "18.0     60\n",
       "19.0    210\n",
       "20.0     41\n",
       "21.0      4\n",
       "Name: count, dtype: int64"
      ]
     },
     "execution_count": 8,
     "metadata": {},
     "output_type": "execute_result"
    }
   ],
   "source": [
    "df_1['education'].value_counts().sort_index()"
   ]
  },
  {
   "cell_type": "markdown",
   "id": "ce5aa501-dbd0-45aa-acd8-3298644005af",
   "metadata": {},
   "source": [
    "### Ans 4: 家庭收入分布"
   ]
  },
  {
   "cell_type": "code",
   "execution_count": 9,
   "id": "bb28ad55-ec57-4c3d-8db0-cc4efb398d2f",
   "metadata": {},
   "outputs": [
    {
     "data": {
      "text/plain": [
       "family_income\n",
       "0.0      21\n",
       "1.0      27\n",
       "2.0     126\n",
       "3.0     137\n",
       "4.0     166\n",
       "5.0     101\n",
       "6.0     108\n",
       "7.0      46\n",
       "8.0      40\n",
       "9.0      18\n",
       "10.0     15\n",
       "11.0     52\n",
       "Name: count, dtype: int64"
      ]
     },
     "execution_count": 9,
     "metadata": {},
     "output_type": "execute_result"
    }
   ],
   "source": [
    "df_1['family_income'].value_counts().sort_index()"
   ]
  },
  {
   "cell_type": "markdown",
   "id": "f00450cd-d2d3-466e-980d-86cda98eb928",
   "metadata": {},
   "source": [
    "## Q2. \n",
    "請做下列計算，並說明結果：  \n",
    "（1）性別的眾數（指出是哪個性別）；  \n",
    "（2）平均年齡；  \n",
    "（3）教育程度的眾數； （指出是哪個教育程度；如： 「小學」 ）；  \n",
    "（4）家庭收入的中位數（指出是哪個收入層級；如「2 萬元以上，未滿 4 萬元」） 。"
   ]
  },
  {
   "cell_type": "code",
   "execution_count": 10,
   "id": "77986b87-dbe1-44b7-9340-aef8c2a7748d",
   "metadata": {},
   "outputs": [],
   "source": [
    "df_2 = df[['a1', 'age', 'b3', 'a8']].copy().rename(columns = { 'a1': 'sex', 'a8': 'education', 'b3': 'family_income' })"
   ]
  },
  {
   "cell_type": "markdown",
   "id": "de694e74-26af-4c38-8e77-5b209a3dd661",
   "metadata": {},
   "source": [
    "### Ans 1: 性別的眾數"
   ]
  },
  {
   "cell_type": "markdown",
   "id": "ccb26569-105f-4653-bf25-fc1e6c000b8b",
   "metadata": {},
   "source": [
    "再次得出性別次數分布"
   ]
  },
  {
   "cell_type": "code",
   "execution_count": 11,
   "id": "535f4869-a87b-4e69-9278-86931d2497e7",
   "metadata": {},
   "outputs": [
    {
     "data": {
      "text/plain": [
       "sex\n",
       "1.0    418\n",
       "2.0    450\n",
       "Name: count, dtype: int64"
      ]
     },
     "execution_count": 11,
     "metadata": {},
     "output_type": "execute_result"
    }
   ],
   "source": [
    "df_2['sex'].value_counts().sort_index()"
   ]
  },
  {
   "cell_type": "markdown",
   "id": "c47c59ef-ef63-4090-9645-9ed1634d2144",
   "metadata": {},
   "source": [
    "眾數為450，為女性。"
   ]
  },
  {
   "cell_type": "markdown",
   "id": "d512c6ee-4aba-4b30-9406-785d4ef44e3c",
   "metadata": {},
   "source": [
    "### Ans 2: 平均年齡"
   ]
  },
  {
   "cell_type": "markdown",
   "id": "6b42c260-5a60-4fc9-ae0c-b310f1eb6709",
   "metadata": {},
   "source": [
    "計算出年齡的描述性統計"
   ]
  },
  {
   "cell_type": "code",
   "execution_count": 12,
   "id": "b54c0199-0afc-4346-91f4-aa231080d885",
   "metadata": {},
   "outputs": [
    {
     "data": {
      "text/plain": [
       "count    868.000000\n",
       "mean      43.267281\n",
       "std       14.500049\n",
       "min       18.000000\n",
       "25%       32.000000\n",
       "50%       42.000000\n",
       "75%       55.000000\n",
       "max       83.000000\n",
       "Name: age, dtype: float64"
      ]
     },
     "execution_count": 12,
     "metadata": {},
     "output_type": "execute_result"
    }
   ],
   "source": [
    "df_2['age'].describe()"
   ]
  },
  {
   "cell_type": "markdown",
   "id": "a99711a5-a7d6-436d-8614-28125efbeefa",
   "metadata": {},
   "source": [
    "平均年齡為43.27歲"
   ]
  },
  {
   "cell_type": "markdown",
   "id": "b14e95c0-c52f-4ae2-8392-63157bff18c0",
   "metadata": {},
   "source": [
    "### Ans 3: 教育程度的眾數； （指出是哪個教育程度；如： 「小學」 ）"
   ]
  },
  {
   "cell_type": "markdown",
   "id": "0ae96a2f-888b-4dc0-a938-0618cc7e8128",
   "metadata": {},
   "source": [
    "計算出教育程度的眾數"
   ]
  },
  {
   "cell_type": "code",
   "execution_count": 13,
   "id": "bcbde9ea-5c59-4e72-b264-4cd3590cd7b2",
   "metadata": {},
   "outputs": [
    {
     "data": {
      "text/plain": [
       "np.float64(19.0)"
      ]
     },
     "execution_count": 13,
     "metadata": {},
     "output_type": "execute_result"
    }
   ],
   "source": [
    "df_2.loc[:, 'education'].mode()[0]"
   ]
  },
  {
   "cell_type": "markdown",
   "id": "9ce2c754-dcc9-44c2-963e-0505eb8ccefc",
   "metadata": {},
   "source": [
    "眾數為19 ，為大學"
   ]
  },
  {
   "cell_type": "markdown",
   "id": "99e62eeb-b330-40ea-9e3b-a83936c49d9e",
   "metadata": {},
   "source": [
    "### Ans 4: 家庭收入的中位數（指出是哪個收入層級；如「2 萬元以上，未滿 4 萬元」）"
   ]
  },
  {
   "cell_type": "markdown",
   "id": "f5a58d2f-eed5-4a07-a8c7-d9f09803b2e1",
   "metadata": {},
   "source": [
    "計算出家庭收入的描述性統計"
   ]
  },
  {
   "cell_type": "code",
   "execution_count": 14,
   "id": "9e0dac2e-cb22-48e4-a619-5e2ddaecae79",
   "metadata": {},
   "outputs": [
    {
     "data": {
      "text/plain": [
       "count    857.000000\n",
       "mean       4.705951\n",
       "std        2.629341\n",
       "min        0.000000\n",
       "25%        3.000000\n",
       "50%        4.000000\n",
       "75%        6.000000\n",
       "max       11.000000\n",
       "Name: family_income, dtype: float64"
      ]
     },
     "execution_count": 14,
     "metadata": {},
     "output_type": "execute_result"
    }
   ],
   "source": [
    "df_2['family_income'].describe()"
   ]
  },
  {
   "cell_type": "markdown",
   "id": "40cedbb4-6481-43f1-823d-461f996862e9",
   "metadata": {},
   "source": [
    "中位數為4，為\"6萬元以上，未滿8萬元\""
   ]
  },
  {
   "cell_type": "markdown",
   "id": "58ae7ff8-4089-4492-ab1f-0f0c476486e5",
   "metadata": {},
   "source": [
    "## Q3.\n",
    "將「教育程度」重新編碼成新變項「大專以上學歷」（變項名 college_y） 。「無」到「士官學校」編成\n",
    "0（數值標籤設成「大專以下」） ； 「五專」到「博士」編成 1（「大專以上」） 。然後列出新變項「大專以\n",
    "上學歷」的次數分布。"
   ]
  },
  {
   "cell_type": "code",
   "execution_count": 15,
   "id": "4d4a9e3c-bfb8-42c5-aa7b-3d8f2a53b383",
   "metadata": {},
   "outputs": [],
   "source": [
    "df_3 = df[['a8']].copy().rename(columns = { 'a8': 'education' })"
   ]
  },
  {
   "cell_type": "code",
   "execution_count": 16,
   "id": "c8a28a7a-250f-4912-98bd-8b4d756c0bd2",
   "metadata": {},
   "outputs": [
    {
     "data": {
      "text/plain": [
       "{1.0: '無',\n",
       " 2.0: '自修',\n",
       " 3.0: '小學肄業',\n",
       " 4.0: '國(初)中',\n",
       " 5.0: '初職',\n",
       " 6.0: '高中普通科',\n",
       " 7.0: '高中職業科',\n",
       " 8.0: '高職',\n",
       " 9.0: '士官學校',\n",
       " 10.0: '五專',\n",
       " 11.0: '二專',\n",
       " 12.0: '三專',\n",
       " 13.0: '軍警專修班',\n",
       " 14.0: '軍警專科班',\n",
       " 15.0: '空中行專',\n",
       " 16.0: '空中大學',\n",
       " 17.0: '軍警官學校',\n",
       " 18.0: '技術學院、科大',\n",
       " 19.0: '大學',\n",
       " 20.0: '碩士',\n",
       " 21.0: '博士',\n",
       " 22.0: '其他',\n",
       " 997.0: '拒答',\n",
       " 998.0: '漏答',\n",
       " 999.0: '不適用'}"
      ]
     },
     "execution_count": 16,
     "metadata": {},
     "output_type": "execute_result"
    }
   ],
   "source": [
    "df_3.attrs['variable_value_labels']['a8']"
   ]
  },
  {
   "cell_type": "markdown",
   "id": "93424dd4-8d00-42af-b42c-d8335ae79842",
   "metadata": {},
   "source": [
    "依照指示編碼，並將22、997、998、999 三數字剔除"
   ]
  },
  {
   "cell_type": "code",
   "execution_count": 17,
   "id": "ba589864-d5fd-4b4b-afca-9edd372c611c",
   "metadata": {},
   "outputs": [
    {
     "data": {
      "text/html": [
       "<div>\n",
       "<style scoped>\n",
       "    .dataframe tbody tr th:only-of-type {\n",
       "        vertical-align: middle;\n",
       "    }\n",
       "\n",
       "    .dataframe tbody tr th {\n",
       "        vertical-align: top;\n",
       "    }\n",
       "\n",
       "    .dataframe thead th {\n",
       "        text-align: right;\n",
       "    }\n",
       "</style>\n",
       "<table border=\"1\" class=\"dataframe\">\n",
       "  <thead>\n",
       "    <tr style=\"text-align: right;\">\n",
       "      <th></th>\n",
       "      <th>education</th>\n",
       "      <th>college_y</th>\n",
       "    </tr>\n",
       "  </thead>\n",
       "  <tbody>\n",
       "    <tr>\n",
       "      <th>0</th>\n",
       "      <td>18.0</td>\n",
       "      <td>1</td>\n",
       "    </tr>\n",
       "    <tr>\n",
       "      <th>1</th>\n",
       "      <td>18.0</td>\n",
       "      <td>1</td>\n",
       "    </tr>\n",
       "    <tr>\n",
       "      <th>2</th>\n",
       "      <td>18.0</td>\n",
       "      <td>1</td>\n",
       "    </tr>\n",
       "    <tr>\n",
       "      <th>3</th>\n",
       "      <td>8.0</td>\n",
       "      <td>0</td>\n",
       "    </tr>\n",
       "    <tr>\n",
       "      <th>4</th>\n",
       "      <td>6.0</td>\n",
       "      <td>0</td>\n",
       "    </tr>\n",
       "    <tr>\n",
       "      <th>...</th>\n",
       "      <td>...</td>\n",
       "      <td>...</td>\n",
       "    </tr>\n",
       "    <tr>\n",
       "      <th>863</th>\n",
       "      <td>3.0</td>\n",
       "      <td>0</td>\n",
       "    </tr>\n",
       "    <tr>\n",
       "      <th>864</th>\n",
       "      <td>8.0</td>\n",
       "      <td>0</td>\n",
       "    </tr>\n",
       "    <tr>\n",
       "      <th>865</th>\n",
       "      <td>3.0</td>\n",
       "      <td>0</td>\n",
       "    </tr>\n",
       "    <tr>\n",
       "      <th>866</th>\n",
       "      <td>8.0</td>\n",
       "      <td>0</td>\n",
       "    </tr>\n",
       "    <tr>\n",
       "      <th>867</th>\n",
       "      <td>4.0</td>\n",
       "      <td>0</td>\n",
       "    </tr>\n",
       "  </tbody>\n",
       "</table>\n",
       "<p>868 rows × 2 columns</p>\n",
       "</div>"
      ],
      "text/plain": [
       "     education  college_y\n",
       "0         18.0          1\n",
       "1         18.0          1\n",
       "2         18.0          1\n",
       "3          8.0          0\n",
       "4          6.0          0\n",
       "..         ...        ...\n",
       "863        3.0          0\n",
       "864        8.0          0\n",
       "865        3.0          0\n",
       "866        8.0          0\n",
       "867        4.0          0\n",
       "\n",
       "[868 rows x 2 columns]"
      ]
     },
     "execution_count": 17,
     "metadata": {},
     "output_type": "execute_result"
    }
   ],
   "source": [
    "import numpy as np\n",
    "\n",
    "df_3_recoded = (\n",
    "    df_3.assign(\n",
    "        college_y=np.select(\n",
    "            [df_3[\"education\"].between(1, 9), df_3[\"education\"].between(10, 21)],\n",
    "            [0, 1],\n",
    "            default=np.nan\n",
    "        )\n",
    "    )\n",
    "    .dropna(subset=[\"college_y\"])\n",
    "    .assign(college_y=lambda d: d[\"college_y\"].astype(int))\n",
    ")\n",
    "df_3_recoded"
   ]
  },
  {
   "cell_type": "markdown",
   "id": "745ad855-83d8-44b4-aaba-2c8db9236f1a",
   "metadata": {},
   "source": [
    "### Ans\n",
    "計算次數分布"
   ]
  },
  {
   "cell_type": "code",
   "execution_count": 21,
   "id": "24229a24-6093-452d-b0b9-aa7f72dff030",
   "metadata": {},
   "outputs": [
    {
     "data": {
      "text/plain": [
       "college_y\n",
       "0    442\n",
       "1    426\n",
       "Name: count, dtype: int64"
      ]
     },
     "metadata": {},
     "output_type": "display_data"
    }
   ],
   "source": [
    "with pd.option_context(\"display.max_rows\", None,\n",
    "                       \"display.max_colwidth\", 200):\n",
    "    display(df_3_recoded['college_y'].value_counts().sort_index())"
   ]
  },
  {
   "cell_type": "markdown",
   "id": "e798d98b-15af-4230-8e82-416883f2b488",
   "metadata": {},
   "source": [
    "## Q4. \n",
    "將「家庭收入」重新編碼成新變項「收入等級」（變項名 f_income_3gp） 。 「無收入」到未滿 6 萬元編\n",
    "成 1（數值標籤設成「低」）；6 萬元以上到未滿 10 萬元編成 2（「中」）；10 萬元以上編成 3（「高」）。\n",
    "然後列出新變項「收入等級」的次數分布。"
   ]
  },
  {
   "cell_type": "code",
   "execution_count": 23,
   "id": "8d588b2c-c500-45b6-9f0f-b6ecf25839d3",
   "metadata": {},
   "outputs": [],
   "source": [
    "df_4 = df[['b3']].copy().rename(columns = { 'b3': 'family_income' })"
   ]
  },
  {
   "cell_type": "markdown",
   "id": "c8c4c799-1a45-4ba0-aefc-cba95e156e81",
   "metadata": {},
   "source": [
    "依照題目進行編碼"
   ]
  },
  {
   "cell_type": "code",
   "execution_count": 28,
   "id": "44364fc3-05fa-4e28-a8d9-f45d5b2804da",
   "metadata": {},
   "outputs": [
    {
     "data": {
      "text/html": [
       "<div>\n",
       "<style scoped>\n",
       "    .dataframe tbody tr th:only-of-type {\n",
       "        vertical-align: middle;\n",
       "    }\n",
       "\n",
       "    .dataframe tbody tr th {\n",
       "        vertical-align: top;\n",
       "    }\n",
       "\n",
       "    .dataframe thead th {\n",
       "        text-align: right;\n",
       "    }\n",
       "</style>\n",
       "<table border=\"1\" class=\"dataframe\">\n",
       "  <thead>\n",
       "    <tr style=\"text-align: right;\">\n",
       "      <th></th>\n",
       "      <th>family_income</th>\n",
       "      <th>f_income_3gp_num</th>\n",
       "      <th>f_income_3gp</th>\n",
       "    </tr>\n",
       "  </thead>\n",
       "  <tbody>\n",
       "    <tr>\n",
       "      <th>0</th>\n",
       "      <td>4.0</td>\n",
       "      <td>1</td>\n",
       "      <td>中</td>\n",
       "    </tr>\n",
       "    <tr>\n",
       "      <th>1</th>\n",
       "      <td>3.0</td>\n",
       "      <td>0</td>\n",
       "      <td>低</td>\n",
       "    </tr>\n",
       "    <tr>\n",
       "      <th>2</th>\n",
       "      <td>4.0</td>\n",
       "      <td>1</td>\n",
       "      <td>中</td>\n",
       "    </tr>\n",
       "    <tr>\n",
       "      <th>3</th>\n",
       "      <td>2.0</td>\n",
       "      <td>0</td>\n",
       "      <td>低</td>\n",
       "    </tr>\n",
       "    <tr>\n",
       "      <th>4</th>\n",
       "      <td>2.0</td>\n",
       "      <td>0</td>\n",
       "      <td>低</td>\n",
       "    </tr>\n",
       "    <tr>\n",
       "      <th>...</th>\n",
       "      <td>...</td>\n",
       "      <td>...</td>\n",
       "      <td>...</td>\n",
       "    </tr>\n",
       "    <tr>\n",
       "      <th>863</th>\n",
       "      <td>11.0</td>\n",
       "      <td>2</td>\n",
       "      <td>高</td>\n",
       "    </tr>\n",
       "    <tr>\n",
       "      <th>864</th>\n",
       "      <td>11.0</td>\n",
       "      <td>2</td>\n",
       "      <td>高</td>\n",
       "    </tr>\n",
       "    <tr>\n",
       "      <th>865</th>\n",
       "      <td>0.0</td>\n",
       "      <td>0</td>\n",
       "      <td>低</td>\n",
       "    </tr>\n",
       "    <tr>\n",
       "      <th>866</th>\n",
       "      <td>3.0</td>\n",
       "      <td>0</td>\n",
       "      <td>低</td>\n",
       "    </tr>\n",
       "    <tr>\n",
       "      <th>867</th>\n",
       "      <td>11.0</td>\n",
       "      <td>2</td>\n",
       "      <td>高</td>\n",
       "    </tr>\n",
       "  </tbody>\n",
       "</table>\n",
       "<p>857 rows × 3 columns</p>\n",
       "</div>"
      ],
      "text/plain": [
       "     family_income  f_income_3gp_num f_income_3gp\n",
       "0              4.0                 1            中\n",
       "1              3.0                 0            低\n",
       "2              4.0                 1            中\n",
       "3              2.0                 0            低\n",
       "4              2.0                 0            低\n",
       "..             ...               ...          ...\n",
       "863           11.0                 2            高\n",
       "864           11.0                 2            高\n",
       "865            0.0                 0            低\n",
       "866            3.0                 0            低\n",
       "867           11.0                 2            高\n",
       "\n",
       "[857 rows x 3 columns]"
      ]
     },
     "execution_count": 28,
     "metadata": {},
     "output_type": "execute_result"
    }
   ],
   "source": [
    "df_4_recoded = df_4.assign(\n",
    "    f_income_3gp_num=np.select(\n",
    "        [df_4.family_income.between(0, 3), df_4.family_income.between(4, 5), df_4.family_income.between(6, 11)],\n",
    "        [0, 1, 2],\n",
    "        default=np.nan\n",
    "    )\n",
    ").dropna(subset=[\"f_income_3gp_num\"])\n",
    "\n",
    "df_4_recoded[\"f_income_3gp_num\"] = df_4_recoded[\"f_income_3gp_num\"].astype(\"Int64\")\n",
    "df_4_recoded[\"f_income_3gp\"] = df_4_recoded[\"f_income_3gp_num\"].map({0: \"低\", 1: \"中\", 2: \"高\"})\n",
    "df_4_recoded"
   ]
  },
  {
   "cell_type": "markdown",
   "id": "eace8cbf-51af-436d-8bd9-763d1ac30a65",
   "metadata": {},
   "source": [
    "### Ans\n",
    "計算次數分布"
   ]
  },
  {
   "cell_type": "code",
   "execution_count": 29,
   "id": "f4a9ab21-f9de-4287-bb09-098d6bb024d7",
   "metadata": {},
   "outputs": [
    {
     "data": {
      "text/plain": [
       "f_income_3gp\n",
       "中    267\n",
       "低    311\n",
       "高    279\n",
       "Name: count, dtype: int64"
      ]
     },
     "metadata": {},
     "output_type": "display_data"
    }
   ],
   "source": [
    "with pd.option_context(\"display.max_rows\", None,\n",
    "                       \"display.max_colwidth\", 200):\n",
    "    display(df_4_recoded['f_income_3gp'].value_counts().sort_index())"
   ]
  },
  {
   "cell_type": "markdown",
   "id": "51d983b4-8d6b-41bd-a8fe-804a7958d05b",
   "metadata": {},
   "source": [
    "## Q5. \n",
    "按下列步驟，創造「政治自由態度」變項。  \n",
    "（1）將「拒答、漏答、不適用」等回應設成遺漏值；  \n",
    "（2）檢查 g4a 到 g4i 這 9 個變項分布，如有其他不合理值，也設成遺漏值；  \n",
    "（3）將 g4a、g4c、g4e、g4f、g4h 做反向編碼（將 1 改成 4，2 改成 3，依此類推） ；  \n",
    "（4）將反向編碼後的 5 個變項，和其他 4 個變項的得分加總，將總分變項設成：G4_all，並加上標籤「政治自由態度」。    \n",
    "（5）計算並報告「政治自由態度」變項的平均數和標準差。  "
   ]
  },
  {
   "cell_type": "markdown",
   "id": "03ac48cd-06da-4115-95e6-e22f5db0fae9",
   "metadata": {},
   "source": [
    "## Q6. \n",
    "以「單一樣本 T 檢定」檢視受訪者的「政治自由態度」平均分數是否為 24。"
   ]
  },
  {
   "cell_type": "markdown",
   "id": "d3ca5e63-add3-4ee1-926c-c35b190a9be2",
   "metadata": {},
   "source": [
    "## Q7.\n",
    "以「獨立樣本 T 檢定」比較「男性」和「女性」的「政治自由態度」平均數是否有顯著差異。"
   ]
  },
  {
   "cell_type": "markdown",
   "id": "0bc86a28-a23d-4b13-818f-8b434b16b00a",
   "metadata": {},
   "source": [
    "## Q8. \n",
    "以「獨立樣本 T 檢定」比較「大專以下」和「大專以上」學歷者的「政治自由態度」平均數是否有顯著差異。"
   ]
  },
  {
   "cell_type": "markdown",
   "id": "695030e5-08cf-4f5e-bc80-c4cd6a09b75a",
   "metadata": {},
   "source": [
    "## Q9. \n",
    "以變異數分析方法（包括整體檢定與事後比較），檢視不同「收入等級」者的「政治自由態度」平均分數是否有顯著差異。"
   ]
  },
  {
   "cell_type": "markdown",
   "id": "972bd904-e72f-404b-9e62-d40bebca2411",
   "metadata": {},
   "source": [
    "## Q10.\n",
    "以「年齡」作為共變量，再次檢視不同「收入等級」者的「政治自由態度」平均分數是否有顯著差異。"
   ]
  },
  {
   "cell_type": "code",
   "execution_count": null,
   "id": "9035cb12-ee08-4bf8-99b6-cdfb3d341b30",
   "metadata": {},
   "outputs": [],
   "source": []
  }
 ],
 "metadata": {
  "kernelspec": {
   "display_name": "Python 3 (ipykernel)",
   "language": "python",
   "name": "python3"
  },
  "language_info": {
   "codemirror_mode": {
    "name": "ipython",
    "version": 3
   },
   "file_extension": ".py",
   "mimetype": "text/x-python",
   "name": "python",
   "nbconvert_exporter": "python",
   "pygments_lexer": "ipython3",
   "version": "3.13.3"
  }
 },
 "nbformat": 4,
 "nbformat_minor": 5
}
