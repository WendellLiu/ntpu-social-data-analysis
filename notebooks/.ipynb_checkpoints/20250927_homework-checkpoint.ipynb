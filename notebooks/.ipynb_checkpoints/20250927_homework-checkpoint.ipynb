{
 "cells": [
  {
   "cell_type": "markdown",
   "id": "da962c84-90a2-42fb-8fa7-9e7cf4f47591",
   "metadata": {},
   "source": [
    "## 以「2018台北大學社會系三鶯調查」（brilliant_working.sav）檔案回答下列問題：\n",
    "1. 以「完全排除遺漏值」的設定，做教育程度（a8）、個人收入（b1）兩個變數的相關分析\n",
    "2. 以「數列平均數」置換個人收入的遺漏值，並以此置換後的新變數做與教育程度的相關分析\n",
    "3. 計算受訪者的環境行為（c1）總分\n",
    "    * 運用「選擇觀察值」功能，分別報告男性和女性環境行為的平均數"
   ]
  },
  {
   "cell_type": "code",
   "execution_count": 1,
   "id": "759c5fef-4bff-4a71-aa76-6db3fe147d06",
   "metadata": {},
   "outputs": [],
   "source": [
    "from load import load_sav\n",
    "\n",
    "df = load_sav(\"../data/brilliant_working.sav\")"
   ]
  },
  {
   "cell_type": "code",
   "execution_count": 2,
   "id": "274c562a-4ed5-436a-b547-50621fb76b94",
   "metadata": {},
   "outputs": [],
   "source": [
    "variable_value_labels = df.attrs['variable_value_labels']\n",
    "column_names = df.attrs['column_names']\n",
    "column_names_to_labels = df.attrs['column_names_to_labels']"
   ]
  },
  {
   "cell_type": "markdown",
   "id": "d2db02f3-fd85-47db-bcc6-513b0968a01b",
   "metadata": {},
   "source": [
    "# Q1: 教育程度（a8）、個人收入（b1）兩個變數的相關分析"
   ]
  },
  {
   "cell_type": "code",
   "execution_count": 3,
   "id": "84c4a7c7-271f-42cc-a32f-bb2f6a897896",
   "metadata": {},
   "outputs": [],
   "source": [
    "df_1 = df[[\"a8\", \"b1\"]].copy().rename(columns = { 'a8': 'education', 'b1': 'income' })"
   ]
  },
  {
   "cell_type": "code",
   "execution_count": 4,
   "id": "ade10245-d0e5-483a-a048-1da20bd2ec3b",
   "metadata": {},
   "outputs": [],
   "source": [
    "## Preview"
   ]
  },
  {
   "cell_type": "code",
   "execution_count": 5,
   "id": "82060688-ae04-40f1-bf12-91b5bc631616",
   "metadata": {},
   "outputs": [
    {
     "data": {
      "text/html": [
       "<div>\n",
       "<style scoped>\n",
       "    .dataframe tbody tr th:only-of-type {\n",
       "        vertical-align: middle;\n",
       "    }\n",
       "\n",
       "    .dataframe tbody tr th {\n",
       "        vertical-align: top;\n",
       "    }\n",
       "\n",
       "    .dataframe thead th {\n",
       "        text-align: right;\n",
       "    }\n",
       "</style>\n",
       "<table border=\"1\" class=\"dataframe\">\n",
       "  <thead>\n",
       "    <tr style=\"text-align: right;\">\n",
       "      <th></th>\n",
       "      <th>education</th>\n",
       "      <th>income</th>\n",
       "    </tr>\n",
       "  </thead>\n",
       "  <tbody>\n",
       "    <tr>\n",
       "      <th>0</th>\n",
       "      <td>18.0</td>\n",
       "      <td>3.0</td>\n",
       "    </tr>\n",
       "    <tr>\n",
       "      <th>1</th>\n",
       "      <td>18.0</td>\n",
       "      <td>4.0</td>\n",
       "    </tr>\n",
       "    <tr>\n",
       "      <th>2</th>\n",
       "      <td>18.0</td>\n",
       "      <td>3.0</td>\n",
       "    </tr>\n",
       "    <tr>\n",
       "      <th>3</th>\n",
       "      <td>8.0</td>\n",
       "      <td>4.0</td>\n",
       "    </tr>\n",
       "    <tr>\n",
       "      <th>4</th>\n",
       "      <td>6.0</td>\n",
       "      <td>1.0</td>\n",
       "    </tr>\n",
       "    <tr>\n",
       "      <th>...</th>\n",
       "      <td>...</td>\n",
       "      <td>...</td>\n",
       "    </tr>\n",
       "    <tr>\n",
       "      <th>863</th>\n",
       "      <td>3.0</td>\n",
       "      <td>0.0</td>\n",
       "    </tr>\n",
       "    <tr>\n",
       "      <th>864</th>\n",
       "      <td>8.0</td>\n",
       "      <td>0.0</td>\n",
       "    </tr>\n",
       "    <tr>\n",
       "      <th>865</th>\n",
       "      <td>3.0</td>\n",
       "      <td>0.0</td>\n",
       "    </tr>\n",
       "    <tr>\n",
       "      <th>866</th>\n",
       "      <td>8.0</td>\n",
       "      <td>4.0</td>\n",
       "    </tr>\n",
       "    <tr>\n",
       "      <th>867</th>\n",
       "      <td>4.0</td>\n",
       "      <td>3.0</td>\n",
       "    </tr>\n",
       "  </tbody>\n",
       "</table>\n",
       "<p>868 rows × 2 columns</p>\n",
       "</div>"
      ],
      "text/plain": [
       "     education  income\n",
       "0         18.0     3.0\n",
       "1         18.0     4.0\n",
       "2         18.0     3.0\n",
       "3          8.0     4.0\n",
       "4          6.0     1.0\n",
       "..         ...     ...\n",
       "863        3.0     0.0\n",
       "864        8.0     0.0\n",
       "865        3.0     0.0\n",
       "866        8.0     4.0\n",
       "867        4.0     3.0\n",
       "\n",
       "[868 rows x 2 columns]"
      ]
     },
     "execution_count": 5,
     "metadata": {},
     "output_type": "execute_result"
    }
   ],
   "source": [
    "df_1"
   ]
  },
  {
   "cell_type": "raw",
   "id": "12049b5f-0da0-46ec-bd0a-eb32a3150155",
   "metadata": {},
   "source": [
    "## Review the variable labels of education and income"
   ]
  },
  {
   "cell_type": "code",
   "execution_count": 6,
   "id": "57ace89c-fd67-415a-907f-5cd7e59af042",
   "metadata": {},
   "outputs": [
    {
     "name": "stdout",
     "output_type": "stream",
     "text": [
      "Education\n",
      "{1.0: '無', 2.0: '自修', 3.0: '小學肄業', 4.0: '國(初)中', 5.0: '初職', 6.0: '高中普通科', 7.0: '高中職業科', 8.0: '高職', 9.0: '士官學校', 10.0: '五專', 11.0: '二專', 12.0: '三專', 13.0: '軍警專修班', 14.0: '軍警專科班', 15.0: '空中行專', 16.0: '空中大學', 17.0: '軍警官學校', 18.0: '技術學院、科大', 19.0: '大學', 20.0: '碩士', 21.0: '博士', 22.0: '其他', 997.0: '拒答', 998.0: '漏答', 999.0: '不適用'}\n",
      "\n",
      "\n",
      "Income\n",
      "{0.0: '無收入', 1.0: '未滿1萬元', 2.0: '1萬元以上，未滿2萬元', 3.0: '2萬元以上，未滿3萬元', 4.0: '3萬元以上，未滿4萬元', 5.0: '4萬元以上，未滿5萬元', 6.0: '5萬元以上，未滿6萬元', 7.0: '6萬元以上，未滿7萬元', 8.0: '7萬元以上，未滿8萬元', 9.0: '8萬元以上，未滿9萬元', 10.0: '9萬元以上，未滿10萬元', 11.0: '10萬元以上，未滿11萬元', 12.0: '11萬元以上，未滿12萬元', 13.0: '12萬元以上，未滿13萬元', 14.0: '13萬元以上，未滿14萬元', 15.0: '14萬元以上', 997.0: '拒答', 998.0: '漏答', 999.0: '不適用'}\n"
     ]
    }
   ],
   "source": [
    "print('Education')\n",
    "education_variable_value_labels = variable_value_labels['a8']\n",
    "print(education_variable_value_labels)\n",
    "print('\\n')\n",
    "print('Income')\n",
    "income_variable_value_labels = variable_value_labels['b1']\n",
    "print(variable_value_labels['b1'])"
   ]
  },
  {
   "cell_type": "markdown",
   "id": "b19ea350-b05e-4a4c-a48d-2e22ec97cad7",
   "metadata": {},
   "source": [
    "## Review the distributions of education and income"
   ]
  },
  {
   "cell_type": "code",
   "execution_count": 7,
   "id": "c921ab5b-1390-48e7-b0af-46c8b0a8e679",
   "metadata": {},
   "outputs": [
    {
     "data": {
      "text/plain": [
       "<Axes: title={'center': 'Education'}, xlabel='education'>"
      ]
     },
     "execution_count": 7,
     "metadata": {},
     "output_type": "execute_result"
    },
    {
     "data": {
      "image/png": "[encoded data removed]",
      "text/plain": [
       "<Figure size 640x480 with 1 Axes>"
      ]
     },
     "metadata": {},
     "output_type": "display_data"
    }
   ],
   "source": [
    "df_1['education'].value_counts().sort_index().plot(kind='bar', title='Education')"
   ]
  },
  {
   "cell_type": "code",
   "execution_count": 8,
   "id": "d3c14519-5958-421c-aff2-a9d0e6723966",
   "metadata": {},
   "outputs": [
    {
     "data": {
      "text/plain": [
       "<Axes: title={'center': 'Income'}, xlabel='income'>"
      ]
     },
     "execution_count": 8,
     "metadata": {},
     "output_type": "execute_result"
    },
    {
     "data": {
      "image/png": "[encoded data removed]",
      "text/plain": [
       "<Figure size 640x480 with 1 Axes>"
      ]
     },
     "metadata": {},
     "output_type": "display_data"
    }
   ],
   "source": [
    "df_1['income'].value_counts().sort_index().plot(kind='bar', title='Income')"
   ]
  },
  {
   "cell_type": "markdown",
   "id": "01e5e89b-16d6-407b-8e84-ee294e8d0f56",
   "metadata": {},
   "source": [
    "## Filter \"無\", \"自修\", \"初職\" out from education"
   ]
  },
  {
   "cell_type": "code",
   "execution_count": 9,
   "id": "15611b9f-dc0c-4c26-b5cb-58cb57fe73f8",
   "metadata": {},
   "outputs": [
    {
     "data": {
      "text/plain": [
       "<Axes: title={'center': 'Education'}, xlabel='education'>"
      ]
     },
     "execution_count": 9,
     "metadata": {},
     "output_type": "execute_result"
    },
    {
     "data": {
      "image/png": "[encoded data removed]",
      "text/plain": [
       "<Figure size 640x480 with 1 Axes>"
      ]
     },
     "metadata": {},
     "output_type": "display_data"
    }
   ],
   "source": [
    "df_1_filtered = df_1.query(\"education not in [1.0, 2.0, 5.0]\")\n",
    "df_1_filtered['education'].value_counts().sort_index().plot(kind='bar', title='Education')"
   ]
  },
  {
   "cell_type": "code",
   "execution_count": 10,
   "id": "e6d5c1b0-45cf-4853-a81c-6dfd197f5528",
   "metadata": {},
   "outputs": [
    {
     "data": {
      "text/plain": [
       "<Axes: title={'center': 'Income'}, xlabel='income'>"
      ]
     },
     "execution_count": 10,
     "metadata": {},
     "output_type": "execute_result"
    },
    {
     "data": {
      "image/png": "[encoded data removed]",
      "text/plain": [
       "<Figure size 640x480 with 1 Axes>"
      ]
     },
     "metadata": {},
     "output_type": "display_data"
    }
   ],
   "source": [
    "df_1_filtered['income'].value_counts().sort_index().plot(kind='bar', title='Income')"
   ]
  },
  {
   "cell_type": "markdown",
   "id": "456a9201-6db4-4b84-a02d-a2ef84f6994e",
   "metadata": {},
   "source": [
    "## Recode for education\n",
    "Rules：\n",
    "1. 小學\n",
    "2. 國中\n",
    "3. 高中職\n",
    "4. 大學與專科\n",
    "5. 研究所以上"
   ]
  },
  {
   "cell_type": "code",
   "execution_count": 11,
   "id": "dd784791-c360-49e5-ace5-af5e1d19e5df",
   "metadata": {},
   "outputs": [
    {
     "data": {
      "text/plain": [
       "<Axes: title={'center': 'Recoded Education'}, xlabel='education_recoded'>"
      ]
     },
     "execution_count": 11,
     "metadata": {},
     "output_type": "execute_result"
    },
    {
     "data": {
      "image/png": "[encoded data removed]",
      "text/plain": [
       "<Figure size 640x480 with 1 Axes>"
      ]
     },
     "metadata": {},
     "output_type": "display_data"
    }
   ],
   "source": [
    "import numpy as np\n",
    "\n",
    "def categorize_education(value):\n",
    "    label = education_variable_value_labels.get(value, None)\n",
    "    category_mapping = {\n",
    "        '小學肄業': 1,\n",
    "        '國(初)中': 2,\n",
    "        '高職': 3,\n",
    "        '高中職業科': 3,\n",
    "        '高中普通科': 3,\n",
    "        '大學': 4,\n",
    "        '技術學院、科大': 4,\n",
    "        '二專': 4,\n",
    "        '五專': 4,\n",
    "        '三專': 4,\n",
    "        '空中大學': 4,\n",
    "        '軍警專科班': 4,\n",
    "        '空中行專': 4,\n",
    "        '士官學校': 4,\n",
    "        '軍警官學校': 4,\n",
    "        '軍警專修班': 4,\n",
    "        '博士': 5,\n",
    "        '碩士': 5\n",
    "    }\n",
    "    \n",
    "    return category_mapping.get(label, np.nan)\n",
    "\n",
    "df_1_recoded = df_1_filtered.copy()\n",
    "df_1_recoded.loc[:, 'education_recoded'] = df_1_recoded['education'].apply(categorize_education)\n",
    "df_1_recoded['education_recoded'].value_counts().sort_index().plot(kind='bar', title='Recoded Education')"
   ]
  },
  {
   "cell_type": "markdown",
   "id": "cae4e940-4a49-4a0a-a9d8-e324de8cd147",
   "metadata": {},
   "source": [
    "## Recode for income\n",
    "Rules：\n",
    "1. 無收入\n",
    "2. 低收入（未滿2萬元）\n",
    "3. 中低收入（2-4萬元）\n",
    "4. 中等收入（4-6萬元）\n",
    "5. 中高收入（6-8萬元）\n",
    "6. 高收入（8萬元以上）"
   ]
  },
  {
   "cell_type": "code",
   "execution_count": 12,
   "id": "e37f2f5f-72c2-49fb-8e62-b924d1bfde8b",
   "metadata": {},
   "outputs": [
    {
     "data": {
      "text/plain": [
       "<Axes: title={'center': 'Recoded Income'}, xlabel='income_recoded'>"
      ]
     },
     "execution_count": 12,
     "metadata": {},
     "output_type": "execute_result"
    },
    {
     "data": {
      "image/png": "[encoded data removed]",
      "text/plain": [
       "<Figure size 640x480 with 1 Axes>"
      ]
     },
     "metadata": {},
     "output_type": "display_data"
    }
   ],
   "source": [
    "import numpy as np\n",
    "\n",
    "def categorize_income(value):\n",
    "    label = income_variable_value_labels.get(value, None)\n",
    "    income_mapping = {\n",
    "        '無收入': 1,\n",
    "        '未滿1萬元': 2,\n",
    "        '1萬元以上，未滿2萬元': 2,\n",
    "        '2萬元以上，未滿3萬元': 3,\n",
    "        '3萬元以上，未滿4萬元': 3,\n",
    "        '4萬元以上，未滿5萬元': 4,\n",
    "        '5萬元以上，未滿6萬元': 4,\n",
    "        '6萬元以上，未滿7萬元': 5,\n",
    "        '7萬元以上，未滿8萬元': 5,\n",
    "        '8萬元以上，未滿9萬元': 6,\n",
    "        '9萬元以上，未滿10萬元': 6,\n",
    "        '10萬元以上，未滿11萬元': 6,\n",
    "        '11萬元以上，未滿12萬元': 6,\n",
    "        '12萬元以上，未滿13萬元': 6,\n",
    "        '14萬元以上': 6\n",
    "    }\n",
    "    \n",
    "    return income_mapping.get(label, np.nan)\n",
    "\n",
    "\n",
    "df_1_recoded.loc[:, 'income_recoded'] = df_1_recoded['income'].apply(categorize_income)\n",
    "df_1_recoded['income_recoded'].value_counts().sort_index().plot(kind='bar', title='Recoded Income')"
   ]
  },
  {
   "cell_type": "markdown",
   "id": "398a6a20-ca51-4a09-a440-ff79b171c0f6",
   "metadata": {},
   "source": [
    "## Q1-a: 完全排除遺漏值"
   ]
  },
  {
   "cell_type": "code",
   "execution_count": 13,
   "id": "6384c6ff-fea3-4b10-b58c-cd296ad3a461",
   "metadata": {},
   "outputs": [
    {
     "name": "stdout",
     "output_type": "stream",
     "text": [
      "<class 'pandas.core.frame.DataFrame'>\n",
      "Index: 858 entries, 0 to 867\n",
      "Data columns (total 4 columns):\n",
      " #   Column             Non-Null Count  Dtype  \n",
      "---  ------             --------------  -----  \n",
      " 0   education          858 non-null    float64\n",
      " 1   income             858 non-null    float64\n",
      " 2   education_recoded  858 non-null    int64  \n",
      " 3   income_recoded     858 non-null    float64\n",
      "dtypes: float64(3), int64(1)\n",
      "memory usage: 33.5 KB\n"
     ]
    }
   ],
   "source": [
    "df_1_drop_missing_value = df_1_recoded.dropna()\n",
    "df_1_drop_missing_value.info()"
   ]
  },
  {
   "cell_type": "markdown",
   "id": "e6302fce-58a7-455d-bd6f-33b754016e1d",
   "metadata": {},
   "source": [
    "### Perform Pearson Correlation"
   ]
  },
  {
   "cell_type": "code",
   "execution_count": 14,
   "id": "68341488-ab10-4ce7-ba69-3ce61e34393a",
   "metadata": {},
   "outputs": [
    {
     "data": {
      "text/html": [
       "<div>\n",
       "<style scoped>\n",
       "    .dataframe tbody tr th:only-of-type {\n",
       "        vertical-align: middle;\n",
       "    }\n",
       "\n",
       "    .dataframe tbody tr th {\n",
       "        vertical-align: top;\n",
       "    }\n",
       "\n",
       "    .dataframe thead th {\n",
       "        text-align: right;\n",
       "    }\n",
       "</style>\n",
       "<table border=\"1\" class=\"dataframe\">\n",
       "  <thead>\n",
       "    <tr style=\"text-align: right;\">\n",
       "      <th></th>\n",
       "      <th>Metric</th>\n",
       "      <th>Value</th>\n",
       "    </tr>\n",
       "  </thead>\n",
       "  <tbody>\n",
       "    <tr>\n",
       "      <th>0</th>\n",
       "      <td>Pearson Correlation Coefficient</td>\n",
       "      <td>0.3280</td>\n",
       "    </tr>\n",
       "    <tr>\n",
       "      <th>1</th>\n",
       "      <td>P-value</td>\n",
       "      <td>0.0000</td>\n",
       "    </tr>\n",
       "    <tr>\n",
       "      <th>2</th>\n",
       "      <td>Sample Size</td>\n",
       "      <td>858</td>\n",
       "    </tr>\n",
       "    <tr>\n",
       "      <th>3</th>\n",
       "      <td>Significance Level (α=0.05)</td>\n",
       "      <td>Significant</td>\n",
       "    </tr>\n",
       "    <tr>\n",
       "      <th>4</th>\n",
       "      <td>Interpretation</td>\n",
       "      <td>Moderate Positive</td>\n",
       "    </tr>\n",
       "  </tbody>\n",
       "</table>\n",
       "</div>"
      ],
      "text/plain": [
       "                            Metric              Value\n",
       "0  Pearson Correlation Coefficient             0.3280\n",
       "1                          P-value             0.0000\n",
       "2                      Sample Size                858\n",
       "3      Significance Level (α=0.05)        Significant\n",
       "4                   Interpretation  Moderate Positive"
      ]
     },
     "execution_count": 14,
     "metadata": {},
     "output_type": "execute_result"
    }
   ],
   "source": [
    "from scipy.stats import pearsonr\n",
    "import numpy as np\n",
    "\n",
    "from statistic.pearson import pearson_correlation_table\n",
    "\n",
    "results, corr_coef, p_value = pearson_correlation_table(df_1_drop_missing_value, 'education_recoded', 'income_recoded')\n",
    "results"
   ]
  },
  {
   "cell_type": "markdown",
   "id": "9f67bbc5-55b3-4337-8c73-ad25958d326c",
   "metadata": {},
   "source": [
    "## 以「數列平均數」置換個人收入的遺漏值，並以此置換後的新變數做與教育程度的相關分析"
   ]
  },
  {
   "cell_type": "code",
   "execution_count": 15,
   "id": "3372820f-64e8-45e9-926f-91809cbecc6e",
   "metadata": {},
   "outputs": [],
   "source": [
    "df_1_replace_by_average = df_1_recoded.copy()"
   ]
  },
  {
   "cell_type": "code",
   "execution_count": 16,
   "id": "d547bf3f-712c-47c3-9414-d6b3da7d26a5",
   "metadata": {},
   "outputs": [],
   "source": [
    "df_1_replace_by_average.loc[:, 'income_recoded'] = df_1_replace_by_average['income_recoded'].fillna(df_1_replace_by_average['income_recoded'].mean())"
   ]
  },
  {
   "cell_type": "markdown",
   "id": "70f1e54d-5f31-41b2-a1d7-0bb6a650011b",
   "metadata": {},
   "source": [
    "### Perform Pearson Correlation"
   ]
  },
  {
   "cell_type": "code",
   "execution_count": 17,
   "id": "60921998-ecb0-4c69-9069-c229d1cd8f5a",
   "metadata": {},
   "outputs": [
    {
     "data": {
      "text/html": [
       "<div>\n",
       "<style scoped>\n",
       "    .dataframe tbody tr th:only-of-type {\n",
       "        vertical-align: middle;\n",
       "    }\n",
       "\n",
       "    .dataframe tbody tr th {\n",
       "        vertical-align: top;\n",
       "    }\n",
       "\n",
       "    .dataframe thead th {\n",
       "        text-align: right;\n",
       "    }\n",
       "</style>\n",
       "<table border=\"1\" class=\"dataframe\">\n",
       "  <thead>\n",
       "    <tr style=\"text-align: right;\">\n",
       "      <th></th>\n",
       "      <th>Metric</th>\n",
       "      <th>Value</th>\n",
       "    </tr>\n",
       "  </thead>\n",
       "  <tbody>\n",
       "    <tr>\n",
       "      <th>0</th>\n",
       "      <td>Pearson Correlation Coefficient</td>\n",
       "      <td>0.3272</td>\n",
       "    </tr>\n",
       "    <tr>\n",
       "      <th>1</th>\n",
       "      <td>P-value</td>\n",
       "      <td>0.0000</td>\n",
       "    </tr>\n",
       "    <tr>\n",
       "      <th>2</th>\n",
       "      <td>Sample Size</td>\n",
       "      <td>862</td>\n",
       "    </tr>\n",
       "    <tr>\n",
       "      <th>3</th>\n",
       "      <td>Significance Level (α=0.05)</td>\n",
       "      <td>Significant</td>\n",
       "    </tr>\n",
       "    <tr>\n",
       "      <th>4</th>\n",
       "      <td>Interpretation</td>\n",
       "      <td>Moderate Positive</td>\n",
       "    </tr>\n",
       "  </tbody>\n",
       "</table>\n",
       "</div>"
      ],
      "text/plain": [
       "                            Metric              Value\n",
       "0  Pearson Correlation Coefficient             0.3272\n",
       "1                          P-value             0.0000\n",
       "2                      Sample Size                862\n",
       "3      Significance Level (α=0.05)        Significant\n",
       "4                   Interpretation  Moderate Positive"
      ]
     },
     "execution_count": 17,
     "metadata": {},
     "output_type": "execute_result"
    }
   ],
   "source": [
    "results, corr_coef, p_value = pearson_correlation_table(df_1_replace_by_average, 'education_recoded', 'income_recoded')\n",
    "results"
   ]
  },
  {
   "cell_type": "markdown",
   "id": "43fcfe77-2ab9-4fa0-a061-7348babe17ab",
   "metadata": {},
   "source": [
    "# Q2: 受訪者的環境行為（c1）與性別分析"
   ]
  },
  {
   "cell_type": "code",
   "execution_count": 18,
   "id": "c37d906b-fb82-45c9-8a9a-3dcd8f5128f2",
   "metadata": {},
   "outputs": [],
   "source": [
    "df_2 = df[['a1', 'c1a', 'c1b', 'c1c', 'c1d', 'c1e', 'c1f', 'c1g']].copy().rename(columns = { 'a1': 'sex' })"
   ]
  },
  {
   "cell_type": "markdown",
   "id": "696393ab-5412-4518-bc99-ef4eebd93ddc",
   "metadata": {},
   "source": [
    "## Q2-a: 環境行為（c1）總分"
   ]
  },
  {
   "cell_type": "markdown",
   "id": "eda8f8c9-adf0-4934-9333-bdcf1fec5703",
   "metadata": {},
   "source": [
    "Add a new column(c1_sum) as the sum of columns c1a to c1g"
   ]
  },
  {
   "cell_type": "code",
   "execution_count": 19,
   "id": "a370361f-6920-4b29-932c-6aba9a9701cc",
   "metadata": {},
   "outputs": [
    {
     "data": {
      "text/html": [
       "<div>\n",
       "<style scoped>\n",
       "    .dataframe tbody tr th:only-of-type {\n",
       "        vertical-align: middle;\n",
       "    }\n",
       "\n",
       "    .dataframe tbody tr th {\n",
       "        vertical-align: top;\n",
       "    }\n",
       "\n",
       "    .dataframe thead th {\n",
       "        text-align: right;\n",
       "    }\n",
       "</style>\n",
       "<table border=\"1\" class=\"dataframe\">\n",
       "  <thead>\n",
       "    <tr style=\"text-align: right;\">\n",
       "      <th></th>\n",
       "      <th>sex</th>\n",
       "      <th>c1a</th>\n",
       "      <th>c1b</th>\n",
       "      <th>c1c</th>\n",
       "      <th>c1d</th>\n",
       "      <th>c1e</th>\n",
       "      <th>c1f</th>\n",
       "      <th>c1g</th>\n",
       "      <th>c1_sum</th>\n",
       "    </tr>\n",
       "  </thead>\n",
       "  <tbody>\n",
       "    <tr>\n",
       "      <th>0</th>\n",
       "      <td>2.0</td>\n",
       "      <td>3.0</td>\n",
       "      <td>3.0</td>\n",
       "      <td>3.0</td>\n",
       "      <td>3.0</td>\n",
       "      <td>3.0</td>\n",
       "      <td>2.0</td>\n",
       "      <td>3.0</td>\n",
       "      <td>20.0</td>\n",
       "    </tr>\n",
       "    <tr>\n",
       "      <th>1</th>\n",
       "      <td>1.0</td>\n",
       "      <td>3.0</td>\n",
       "      <td>3.0</td>\n",
       "      <td>3.0</td>\n",
       "      <td>3.0</td>\n",
       "      <td>2.0</td>\n",
       "      <td>2.0</td>\n",
       "      <td>3.0</td>\n",
       "      <td>19.0</td>\n",
       "    </tr>\n",
       "    <tr>\n",
       "      <th>2</th>\n",
       "      <td>2.0</td>\n",
       "      <td>3.0</td>\n",
       "      <td>2.0</td>\n",
       "      <td>3.0</td>\n",
       "      <td>3.0</td>\n",
       "      <td>2.0</td>\n",
       "      <td>2.0</td>\n",
       "      <td>2.0</td>\n",
       "      <td>17.0</td>\n",
       "    </tr>\n",
       "    <tr>\n",
       "      <th>3</th>\n",
       "      <td>1.0</td>\n",
       "      <td>4.0</td>\n",
       "      <td>3.0</td>\n",
       "      <td>3.0</td>\n",
       "      <td>4.0</td>\n",
       "      <td>2.0</td>\n",
       "      <td>2.0</td>\n",
       "      <td>2.0</td>\n",
       "      <td>20.0</td>\n",
       "    </tr>\n",
       "    <tr>\n",
       "      <th>4</th>\n",
       "      <td>2.0</td>\n",
       "      <td>4.0</td>\n",
       "      <td>3.0</td>\n",
       "      <td>3.0</td>\n",
       "      <td>3.0</td>\n",
       "      <td>2.0</td>\n",
       "      <td>2.0</td>\n",
       "      <td>3.0</td>\n",
       "      <td>20.0</td>\n",
       "    </tr>\n",
       "    <tr>\n",
       "      <th>...</th>\n",
       "      <td>...</td>\n",
       "      <td>...</td>\n",
       "      <td>...</td>\n",
       "      <td>...</td>\n",
       "      <td>...</td>\n",
       "      <td>...</td>\n",
       "      <td>...</td>\n",
       "      <td>...</td>\n",
       "      <td>...</td>\n",
       "    </tr>\n",
       "    <tr>\n",
       "      <th>863</th>\n",
       "      <td>2.0</td>\n",
       "      <td>4.0</td>\n",
       "      <td>1.0</td>\n",
       "      <td>4.0</td>\n",
       "      <td>3.0</td>\n",
       "      <td>1.0</td>\n",
       "      <td>1.0</td>\n",
       "      <td>3.0</td>\n",
       "      <td>17.0</td>\n",
       "    </tr>\n",
       "    <tr>\n",
       "      <th>864</th>\n",
       "      <td>2.0</td>\n",
       "      <td>4.0</td>\n",
       "      <td>2.0</td>\n",
       "      <td>4.0</td>\n",
       "      <td>3.0</td>\n",
       "      <td>3.0</td>\n",
       "      <td>1.0</td>\n",
       "      <td>1.0</td>\n",
       "      <td>18.0</td>\n",
       "    </tr>\n",
       "    <tr>\n",
       "      <th>865</th>\n",
       "      <td>2.0</td>\n",
       "      <td>4.0</td>\n",
       "      <td>4.0</td>\n",
       "      <td>4.0</td>\n",
       "      <td>4.0</td>\n",
       "      <td>3.0</td>\n",
       "      <td>1.0</td>\n",
       "      <td>1.0</td>\n",
       "      <td>21.0</td>\n",
       "    </tr>\n",
       "    <tr>\n",
       "      <th>866</th>\n",
       "      <td>1.0</td>\n",
       "      <td>4.0</td>\n",
       "      <td>2.0</td>\n",
       "      <td>3.0</td>\n",
       "      <td>3.0</td>\n",
       "      <td>4.0</td>\n",
       "      <td>2.0</td>\n",
       "      <td>4.0</td>\n",
       "      <td>22.0</td>\n",
       "    </tr>\n",
       "    <tr>\n",
       "      <th>867</th>\n",
       "      <td>1.0</td>\n",
       "      <td>4.0</td>\n",
       "      <td>1.0</td>\n",
       "      <td>4.0</td>\n",
       "      <td>4.0</td>\n",
       "      <td>3.0</td>\n",
       "      <td>1.0</td>\n",
       "      <td>3.0</td>\n",
       "      <td>20.0</td>\n",
       "    </tr>\n",
       "  </tbody>\n",
       "</table>\n",
       "<p>868 rows × 9 columns</p>\n",
       "</div>"
      ],
      "text/plain": [
       "     sex  c1a  c1b  c1c  c1d  c1e  c1f  c1g  c1_sum\n",
       "0    2.0  3.0  3.0  3.0  3.0  3.0  2.0  3.0    20.0\n",
       "1    1.0  3.0  3.0  3.0  3.0  2.0  2.0  3.0    19.0\n",
       "2    2.0  3.0  2.0  3.0  3.0  2.0  2.0  2.0    17.0\n",
       "3    1.0  4.0  3.0  3.0  4.0  2.0  2.0  2.0    20.0\n",
       "4    2.0  4.0  3.0  3.0  3.0  2.0  2.0  3.0    20.0\n",
       "..   ...  ...  ...  ...  ...  ...  ...  ...     ...\n",
       "863  2.0  4.0  1.0  4.0  3.0  1.0  1.0  3.0    17.0\n",
       "864  2.0  4.0  2.0  4.0  3.0  3.0  1.0  1.0    18.0\n",
       "865  2.0  4.0  4.0  4.0  4.0  3.0  1.0  1.0    21.0\n",
       "866  1.0  4.0  2.0  3.0  3.0  4.0  2.0  4.0    22.0\n",
       "867  1.0  4.0  1.0  4.0  4.0  3.0  1.0  3.0    20.0\n",
       "\n",
       "[868 rows x 9 columns]"
      ]
     },
     "execution_count": 19,
     "metadata": {},
     "output_type": "execute_result"
    }
   ],
   "source": [
    "df_2.loc[:, 'c1_sum'] = df[['c1a', 'c1b', 'c1c', 'c1d', 'c1e', 'c1f', 'c1g']].sum(axis=1)\n",
    "df_2"
   ]
  },
  {
   "cell_type": "markdown",
   "id": "5b110dca-78ac-4710-99cc-a9646d38aa82",
   "metadata": {},
   "source": [
    "## Q2-b: 報告男性和女性環境行為的平均數"
   ]
  },
  {
   "cell_type": "code",
   "execution_count": 20,
   "id": "11eac554-1116-4020-8e89-8e82c2db03c6",
   "metadata": {},
   "outputs": [
    {
     "data": {
      "text/html": [
       "<div>\n",
       "<style scoped>\n",
       "    .dataframe tbody tr th:only-of-type {\n",
       "        vertical-align: middle;\n",
       "    }\n",
       "\n",
       "    .dataframe tbody tr th {\n",
       "        vertical-align: top;\n",
       "    }\n",
       "\n",
       "    .dataframe thead th {\n",
       "        text-align: right;\n",
       "    }\n",
       "</style>\n",
       "<table border=\"1\" class=\"dataframe\">\n",
       "  <thead>\n",
       "    <tr style=\"text-align: right;\">\n",
       "      <th></th>\n",
       "      <th>count</th>\n",
       "      <th>mean</th>\n",
       "      <th>std</th>\n",
       "      <th>min</th>\n",
       "      <th>25%</th>\n",
       "      <th>50%</th>\n",
       "      <th>75%</th>\n",
       "      <th>max</th>\n",
       "    </tr>\n",
       "    <tr>\n",
       "      <th>sex</th>\n",
       "      <th></th>\n",
       "      <th></th>\n",
       "      <th></th>\n",
       "      <th></th>\n",
       "      <th></th>\n",
       "      <th></th>\n",
       "      <th></th>\n",
       "      <th></th>\n",
       "    </tr>\n",
       "  </thead>\n",
       "  <tbody>\n",
       "    <tr>\n",
       "      <th>男</th>\n",
       "      <td>418.0</td>\n",
       "      <td>17.416268</td>\n",
       "      <td>3.275360</td>\n",
       "      <td>7.0</td>\n",
       "      <td>15.0</td>\n",
       "      <td>17.0</td>\n",
       "      <td>19.0</td>\n",
       "      <td>28.0</td>\n",
       "    </tr>\n",
       "    <tr>\n",
       "      <th>女</th>\n",
       "      <td>450.0</td>\n",
       "      <td>19.288889</td>\n",
       "      <td>3.242413</td>\n",
       "      <td>10.0</td>\n",
       "      <td>17.0</td>\n",
       "      <td>19.0</td>\n",
       "      <td>21.0</td>\n",
       "      <td>28.0</td>\n",
       "    </tr>\n",
       "  </tbody>\n",
       "</table>\n",
       "</div>"
      ],
      "text/plain": [
       "     count       mean       std   min   25%   50%   75%   max\n",
       "sex                                                          \n",
       "男    418.0  17.416268  3.275360   7.0  15.0  17.0  19.0  28.0\n",
       "女    450.0  19.288889  3.242413  10.0  17.0  19.0  21.0  28.0"
      ]
     },
     "execution_count": 20,
     "metadata": {},
     "output_type": "execute_result"
    }
   ],
   "source": [
    "summary_stats = df_2.groupby('sex')['c1_sum'].describe()\n",
    "\n",
    "sex_label_dict = variable_value_labels['a1']\n",
    "summary_stats = summary_stats.rename(index=sex_label_dict)\n",
    "summary_stats"
   ]
  }
 ],
 "metadata": {
  "kernelspec": {
   "display_name": "Python 3 (ipykernel)",
   "language": "python",
   "name": "python3"
  },
  "language_info": {
   "codemirror_mode": {
    "name": "ipython",
    "version": 3
   },
   "file_extension": ".py",
   "mimetype": "text/x-python",
   "name": "python",
   "nbconvert_exporter": "python",
   "pygments_lexer": "ipython3",
   "version": "3.13.3"
  }
 },
 "nbformat": 4,
 "nbformat_minor": 5
}
