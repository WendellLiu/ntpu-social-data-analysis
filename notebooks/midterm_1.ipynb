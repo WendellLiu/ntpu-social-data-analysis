{
 "cells": [
  {
   "cell_type": "markdown",
   "id": "80d62f3e-dee9-4463-b3fe-7af5c69505da",
   "metadata": {},
   "source": [
    "# 1141_社會資料分析 第一次期中考\n",
    "學生：劉晏成\n",
    "\n"
   ]
  },
  {
   "cell_type": "code",
   "execution_count": 1,
   "id": "625b35db-4bad-46ab-a95b-9a39c24f9609",
   "metadata": {},
   "outputs": [],
   "source": [
    "from load import load_sav\n",
    "import pandas as pd\n",
    "import numpy as np\n",
    "import statistic as my_stat"
   ]
  },
  {
   "cell_type": "code",
   "execution_count": 2,
   "id": "c9b0077f-9f34-4b67-9668-d0662fafbefe",
   "metadata": {},
   "outputs": [],
   "source": [
    "df = load_sav(\"../data/midterm_1.sav\")\n",
    "df.loc[:, 'age'] = 2018 - (df['a2_1'] + 1911)"
   ]
  },
  {
   "cell_type": "code",
   "execution_count": 3,
   "id": "91ad6043-f2e0-49f1-af2d-998f331cc340",
   "metadata": {},
   "outputs": [],
   "source": [
    "variable_value_labels = df.attrs['variable_value_labels']\n",
    "column_names = df.attrs['column_names']\n",
    "column_names_to_labels = df.attrs['column_names_to_labels']"
   ]
  },
  {
   "cell_type": "code",
   "execution_count": 4,
   "id": "e1b71778-6fd9-46df-b56d-2d04f0202de6",
   "metadata": {},
   "outputs": [],
   "source": [
    "# variable_value_labels['g4a']"
   ]
  },
  {
   "cell_type": "markdown",
   "id": "3217b0ab-f979-4102-95c1-9523f06d9543",
   "metadata": {},
   "source": [
    "## Q1. \n",
    "這份問卷調查執行於 2018 年，請利用「出生年」計算，創造出「年齡」變項。接著，請列出（1）性別、 （2）年齡、 （3）教育程度、 （4）家庭收入等變項的次數分布。"
   ]
  },
  {
   "cell_type": "code",
   "execution_count": 5,
   "id": "584e684f-3763-4ba8-a2ff-a099e20eb9cc",
   "metadata": {},
   "outputs": [],
   "source": [
    "df_1 = df[['a1', 'age', 'b3', 'a8']].copy().rename(columns = { 'a1': 'sex', 'a8': 'education', 'b3': 'family_income' })"
   ]
  },
  {
   "cell_type": "markdown",
   "id": "d4f382a6-f492-46ab-b984-e870570bee6b",
   "metadata": {},
   "source": [
    "### Ans 1: 性別次數分布"
   ]
  },
  {
   "cell_type": "code",
   "execution_count": 6,
   "id": "60e5dc86-d0ee-436e-8ff4-4ee3ed103392",
   "metadata": {},
   "outputs": [
    {
     "data": {
      "text/plain": [
       "sex\n",
       "1.0    418\n",
       "2.0    450\n",
       "Name: count, dtype: int64"
      ]
     },
     "execution_count": 6,
     "metadata": {},
     "output_type": "execute_result"
    }
   ],
   "source": [
    "df_1['sex'].value_counts().sort_index()"
   ]
  },
  {
   "cell_type": "markdown",
   "id": "dcdfa514-d0ea-4975-af81-ebba52b64788",
   "metadata": {},
   "source": [
    "### Ans 2: 年齡次數分布"
   ]
  },
  {
   "cell_type": "code",
   "execution_count": 7,
   "id": "5460d400-16d2-47b0-8708-837003a5cc05",
   "metadata": {},
   "outputs": [
    {
     "data": {
      "text/plain": [
       "age\n",
       "18.0     4\n",
       "19.0     8\n",
       "20.0     7\n",
       "21.0    17\n",
       "22.0    15\n",
       "23.0    17\n",
       "24.0    29\n",
       "25.0    14\n",
       "26.0    17\n",
       "27.0    19\n",
       "28.0    22\n",
       "29.0    15\n",
       "30.0    11\n",
       "31.0    19\n",
       "32.0    20\n",
       "33.0    23\n",
       "34.0    16\n",
       "35.0    21\n",
       "36.0    26\n",
       "37.0    21\n",
       "38.0    24\n",
       "39.0    18\n",
       "40.0    17\n",
       "41.0    23\n",
       "42.0    30\n",
       "43.0    16\n",
       "44.0    20\n",
       "45.0    16\n",
       "46.0    15\n",
       "47.0    14\n",
       "48.0    17\n",
       "49.0    11\n",
       "50.0    13\n",
       "51.0    14\n",
       "52.0    15\n",
       "53.0    22\n",
       "54.0    24\n",
       "55.0    20\n",
       "56.0    20\n",
       "57.0    20\n",
       "58.0    11\n",
       "59.0    13\n",
       "60.0    11\n",
       "61.0    13\n",
       "62.0    13\n",
       "63.0    14\n",
       "64.0     8\n",
       "65.0    14\n",
       "66.0     8\n",
       "67.0     8\n",
       "68.0     8\n",
       "69.0     7\n",
       "70.0     5\n",
       "71.0     3\n",
       "72.0     1\n",
       "73.0     6\n",
       "74.0     1\n",
       "75.0     2\n",
       "76.0     1\n",
       "77.0     4\n",
       "78.0     3\n",
       "80.0     2\n",
       "81.0     1\n",
       "83.0     1\n",
       "Name: count, dtype: int64"
      ]
     },
     "metadata": {},
     "output_type": "display_data"
    }
   ],
   "source": [
    "with pd.option_context(\"display.max_rows\", None,\n",
    "                       \"display.max_colwidth\", 200):\n",
    "    display(df_1['age'].value_counts().sort_index())"
   ]
  },
  {
   "cell_type": "markdown",
   "id": "bf7d3e92-4f32-4915-bfc0-f283c708b529",
   "metadata": {},
   "source": [
    "### Ans 3: 教育程度分布"
   ]
  },
  {
   "cell_type": "code",
   "execution_count": 8,
   "id": "c470bc67-b448-4d63-8d13-892b91ad6a57",
   "metadata": {},
   "outputs": [
    {
     "data": {
      "text/plain": [
       "education\n",
       "1.0       4\n",
       "2.0       1\n",
       "3.0      55\n",
       "4.0      91\n",
       "5.0       1\n",
       "6.0      31\n",
       "7.0      96\n",
       "8.0     161\n",
       "9.0       2\n",
       "10.0     41\n",
       "11.0     49\n",
       "12.0      6\n",
       "13.0      1\n",
       "14.0      5\n",
       "15.0      3\n",
       "16.0      4\n",
       "17.0      2\n",
       "18.0     60\n",
       "19.0    210\n",
       "20.0     41\n",
       "21.0      4\n",
       "Name: count, dtype: int64"
      ]
     },
     "execution_count": 8,
     "metadata": {},
     "output_type": "execute_result"
    }
   ],
   "source": [
    "df_1['education'].value_counts().sort_index()"
   ]
  },
  {
   "cell_type": "markdown",
   "id": "ce5aa501-dbd0-45aa-acd8-3298644005af",
   "metadata": {},
   "source": [
    "### Ans 4: 家庭收入分布"
   ]
  },
  {
   "cell_type": "code",
   "execution_count": 9,
   "id": "bb28ad55-ec57-4c3d-8db0-cc4efb398d2f",
   "metadata": {},
   "outputs": [
    {
     "data": {
      "text/plain": [
       "family_income\n",
       "0.0      21\n",
       "1.0      27\n",
       "2.0     126\n",
       "3.0     137\n",
       "4.0     166\n",
       "5.0     101\n",
       "6.0     108\n",
       "7.0      46\n",
       "8.0      40\n",
       "9.0      18\n",
       "10.0     15\n",
       "11.0     52\n",
       "Name: count, dtype: int64"
      ]
     },
     "execution_count": 9,
     "metadata": {},
     "output_type": "execute_result"
    }
   ],
   "source": [
    "df_1['family_income'].value_counts().sort_index()"
   ]
  },
  {
   "cell_type": "markdown",
   "id": "f00450cd-d2d3-466e-980d-86cda98eb928",
   "metadata": {},
   "source": [
    "## Q2. \n",
    "請做下列計算，並說明結果：  \n",
    "（1）性別的眾數（指出是哪個性別）；  \n",
    "（2）平均年齡；  \n",
    "（3）教育程度的眾數； （指出是哪個教育程度；如： 「小學」 ）；  \n",
    "（4）家庭收入的中位數（指出是哪個收入層級；如「2 萬元以上，未滿 4 萬元」） 。"
   ]
  },
  {
   "cell_type": "code",
   "execution_count": 10,
   "id": "77986b87-dbe1-44b7-9340-aef8c2a7748d",
   "metadata": {},
   "outputs": [],
   "source": [
    "df_2 = df[['a1', 'age', 'b3', 'a8']].copy().rename(columns = { 'a1': 'sex', 'a8': 'education', 'b3': 'family_income' })"
   ]
  },
  {
   "cell_type": "markdown",
   "id": "de694e74-26af-4c38-8e77-5b209a3dd661",
   "metadata": {},
   "source": [
    "### Ans 1: 性別的眾數"
   ]
  },
  {
   "cell_type": "markdown",
   "id": "ccb26569-105f-4653-bf25-fc1e6c000b8b",
   "metadata": {},
   "source": [
    "再次得出性別次數分布"
   ]
  },
  {
   "cell_type": "code",
   "execution_count": 11,
   "id": "535f4869-a87b-4e69-9278-86931d2497e7",
   "metadata": {},
   "outputs": [
    {
     "data": {
      "text/plain": [
       "sex\n",
       "1.0    418\n",
       "2.0    450\n",
       "Name: count, dtype: int64"
      ]
     },
     "execution_count": 11,
     "metadata": {},
     "output_type": "execute_result"
    }
   ],
   "source": [
    "df_2['sex'].value_counts().sort_index()"
   ]
  },
  {
   "cell_type": "markdown",
   "id": "c47c59ef-ef63-4090-9645-9ed1634d2144",
   "metadata": {},
   "source": [
    "眾數為450，為女性。"
   ]
  },
  {
   "cell_type": "markdown",
   "id": "d512c6ee-4aba-4b30-9406-785d4ef44e3c",
   "metadata": {},
   "source": [
    "### Ans 2: 平均年齡"
   ]
  },
  {
   "cell_type": "markdown",
   "id": "6b42c260-5a60-4fc9-ae0c-b310f1eb6709",
   "metadata": {},
   "source": [
    "計算出年齡的描述性統計"
   ]
  },
  {
   "cell_type": "code",
   "execution_count": 12,
   "id": "b54c0199-0afc-4346-91f4-aa231080d885",
   "metadata": {},
   "outputs": [
    {
     "data": {
      "text/plain": [
       "count    868.000000\n",
       "mean      43.267281\n",
       "std       14.500049\n",
       "min       18.000000\n",
       "25%       32.000000\n",
       "50%       42.000000\n",
       "75%       55.000000\n",
       "max       83.000000\n",
       "Name: age, dtype: float64"
      ]
     },
     "execution_count": 12,
     "metadata": {},
     "output_type": "execute_result"
    }
   ],
   "source": [
    "df_2['age'].describe()"
   ]
  },
  {
   "cell_type": "markdown",
   "id": "a99711a5-a7d6-436d-8614-28125efbeefa",
   "metadata": {},
   "source": [
    "平均年齡為43.27歲"
   ]
  },
  {
   "cell_type": "markdown",
   "id": "b14e95c0-c52f-4ae2-8392-63157bff18c0",
   "metadata": {},
   "source": [
    "### Ans 3: 教育程度的眾數； （指出是哪個教育程度；如： 「小學」 ）"
   ]
  },
  {
   "cell_type": "markdown",
   "id": "0ae96a2f-888b-4dc0-a938-0618cc7e8128",
   "metadata": {},
   "source": [
    "計算出教育程度的眾數"
   ]
  },
  {
   "cell_type": "code",
   "execution_count": 13,
   "id": "bcbde9ea-5c59-4e72-b264-4cd3590cd7b2",
   "metadata": {},
   "outputs": [
    {
     "data": {
      "text/plain": [
       "'mod: 19.0'"
      ]
     },
     "execution_count": 13,
     "metadata": {},
     "output_type": "execute_result"
    }
   ],
   "source": [
    "f\"mod: {df_2.loc[:, 'education'].mode()[0]}\""
   ]
  },
  {
   "cell_type": "markdown",
   "id": "9ce2c754-dcc9-44c2-963e-0505eb8ccefc",
   "metadata": {},
   "source": [
    "眾數為19 ，為大學"
   ]
  },
  {
   "cell_type": "markdown",
   "id": "99e62eeb-b330-40ea-9e3b-a83936c49d9e",
   "metadata": {},
   "source": [
    "### Ans 4: 家庭收入的中位數（指出是哪個收入層級；如「2 萬元以上，未滿 4 萬元」）"
   ]
  },
  {
   "cell_type": "markdown",
   "id": "f5a58d2f-eed5-4a07-a8c7-d9f09803b2e1",
   "metadata": {},
   "source": [
    "計算出家庭收入的描述性統計"
   ]
  },
  {
   "cell_type": "code",
   "execution_count": 14,
   "id": "9e0dac2e-cb22-48e4-a619-5e2ddaecae79",
   "metadata": {},
   "outputs": [
    {
     "data": {
      "text/plain": [
       "count    857.000000\n",
       "mean       4.705951\n",
       "std        2.629341\n",
       "min        0.000000\n",
       "25%        3.000000\n",
       "50%        4.000000\n",
       "75%        6.000000\n",
       "max       11.000000\n",
       "Name: family_income, dtype: float64"
      ]
     },
     "execution_count": 14,
     "metadata": {},
     "output_type": "execute_result"
    }
   ],
   "source": [
    "df_2['family_income'].describe()"
   ]
  },
  {
   "cell_type": "markdown",
   "id": "40cedbb4-6481-43f1-823d-461f996862e9",
   "metadata": {},
   "source": [
    "中位數為4，為\"6萬元以上，未滿8萬元\""
   ]
  },
  {
   "cell_type": "markdown",
   "id": "58ae7ff8-4089-4492-ab1f-0f0c476486e5",
   "metadata": {},
   "source": [
    "## Q3.\n",
    "將「教育程度」重新編碼成新變項「大專以上學歷」（變項名 college_y） 。「無」到「士官學校」編成0（數值標籤設成「大專以下」） ； 「五專」到「博士」編成 1（「大專以上」） 。然後列出新變項「大專以上學歷」的次數分布。"
   ]
  },
  {
   "cell_type": "code",
   "execution_count": 15,
   "id": "4d4a9e3c-bfb8-42c5-aa7b-3d8f2a53b383",
   "metadata": {},
   "outputs": [],
   "source": [
    "df_3 = df[['a8']].copy().rename(columns = { 'a8': 'education' })"
   ]
  },
  {
   "cell_type": "code",
   "execution_count": 16,
   "id": "c8a28a7a-250f-4912-98bd-8b4d756c0bd2",
   "metadata": {},
   "outputs": [
    {
     "data": {
      "text/plain": [
       "{1.0: '無',\n",
       " 2.0: '自修',\n",
       " 3.0: '小學肄業',\n",
       " 4.0: '國(初)中',\n",
       " 5.0: '初職',\n",
       " 6.0: '高中普通科',\n",
       " 7.0: '高中職業科',\n",
       " 8.0: '高職',\n",
       " 9.0: '士官學校',\n",
       " 10.0: '五專',\n",
       " 11.0: '二專',\n",
       " 12.0: '三專',\n",
       " 13.0: '軍警專修班',\n",
       " 14.0: '軍警專科班',\n",
       " 15.0: '空中行專',\n",
       " 16.0: '空中大學',\n",
       " 17.0: '軍警官學校',\n",
       " 18.0: '技術學院、科大',\n",
       " 19.0: '大學',\n",
       " 20.0: '碩士',\n",
       " 21.0: '博士',\n",
       " 22.0: '其他',\n",
       " 997.0: '拒答',\n",
       " 998.0: '漏答',\n",
       " 999.0: '不適用'}"
      ]
     },
     "execution_count": 16,
     "metadata": {},
     "output_type": "execute_result"
    }
   ],
   "source": [
    "df_3.attrs['variable_value_labels']['a8']"
   ]
  },
  {
   "cell_type": "markdown",
   "id": "93424dd4-8d00-42af-b42c-d8335ae79842",
   "metadata": {},
   "source": [
    "依照指示編碼，並將22、997、998、999 設為遺漏值"
   ]
  },
  {
   "cell_type": "code",
   "execution_count": 17,
   "id": "ba589864-d5fd-4b4b-afca-9edd372c611c",
   "metadata": {},
   "outputs": [
    {
     "data": {
      "text/html": [
       "<div>\n",
       "<style scoped>\n",
       "    .dataframe tbody tr th:only-of-type {\n",
       "        vertical-align: middle;\n",
       "    }\n",
       "\n",
       "    .dataframe tbody tr th {\n",
       "        vertical-align: top;\n",
       "    }\n",
       "\n",
       "    .dataframe thead th {\n",
       "        text-align: right;\n",
       "    }\n",
       "</style>\n",
       "<table border=\"1\" class=\"dataframe\">\n",
       "  <thead>\n",
       "    <tr style=\"text-align: right;\">\n",
       "      <th></th>\n",
       "      <th>education</th>\n",
       "      <th>college_y</th>\n",
       "    </tr>\n",
       "  </thead>\n",
       "  <tbody>\n",
       "    <tr>\n",
       "      <th>0</th>\n",
       "      <td>18.0</td>\n",
       "      <td>1.0</td>\n",
       "    </tr>\n",
       "    <tr>\n",
       "      <th>1</th>\n",
       "      <td>18.0</td>\n",
       "      <td>1.0</td>\n",
       "    </tr>\n",
       "    <tr>\n",
       "      <th>2</th>\n",
       "      <td>18.0</td>\n",
       "      <td>1.0</td>\n",
       "    </tr>\n",
       "    <tr>\n",
       "      <th>3</th>\n",
       "      <td>8.0</td>\n",
       "      <td>0.0</td>\n",
       "    </tr>\n",
       "    <tr>\n",
       "      <th>4</th>\n",
       "      <td>6.0</td>\n",
       "      <td>0.0</td>\n",
       "    </tr>\n",
       "    <tr>\n",
       "      <th>...</th>\n",
       "      <td>...</td>\n",
       "      <td>...</td>\n",
       "    </tr>\n",
       "    <tr>\n",
       "      <th>863</th>\n",
       "      <td>3.0</td>\n",
       "      <td>0.0</td>\n",
       "    </tr>\n",
       "    <tr>\n",
       "      <th>864</th>\n",
       "      <td>8.0</td>\n",
       "      <td>0.0</td>\n",
       "    </tr>\n",
       "    <tr>\n",
       "      <th>865</th>\n",
       "      <td>3.0</td>\n",
       "      <td>0.0</td>\n",
       "    </tr>\n",
       "    <tr>\n",
       "      <th>866</th>\n",
       "      <td>8.0</td>\n",
       "      <td>0.0</td>\n",
       "    </tr>\n",
       "    <tr>\n",
       "      <th>867</th>\n",
       "      <td>4.0</td>\n",
       "      <td>0.0</td>\n",
       "    </tr>\n",
       "  </tbody>\n",
       "</table>\n",
       "<p>868 rows × 2 columns</p>\n",
       "</div>"
      ],
      "text/plain": [
       "     education  college_y\n",
       "0         18.0        1.0\n",
       "1         18.0        1.0\n",
       "2         18.0        1.0\n",
       "3          8.0        0.0\n",
       "4          6.0        0.0\n",
       "..         ...        ...\n",
       "863        3.0        0.0\n",
       "864        8.0        0.0\n",
       "865        3.0        0.0\n",
       "866        8.0        0.0\n",
       "867        4.0        0.0\n",
       "\n",
       "[868 rows x 2 columns]"
      ]
     },
     "execution_count": 17,
     "metadata": {},
     "output_type": "execute_result"
    }
   ],
   "source": [
    "import numpy as np\n",
    "\n",
    "df_3_recoded = (\n",
    "    df_3.assign(\n",
    "        college_y=np.select(\n",
    "            [df_3[\"education\"].between(1, 9), df_3[\"education\"].between(10, 21)],\n",
    "            [0, 1],\n",
    "            default=np.nan\n",
    "        )\n",
    "    )\n",
    ")\n",
    "df_3_recoded"
   ]
  },
  {
   "cell_type": "markdown",
   "id": "745ad855-83d8-44b4-aaba-2c8db9236f1a",
   "metadata": {},
   "source": [
    "### Ans\n",
    "計算次數分布"
   ]
  },
  {
   "cell_type": "code",
   "execution_count": 18,
   "id": "24229a24-6093-452d-b0b9-aa7f72dff030",
   "metadata": {},
   "outputs": [
    {
     "data": {
      "text/plain": [
       "college_y\n",
       "0.0    442\n",
       "1.0    426\n",
       "Name: count, dtype: int64"
      ]
     },
     "metadata": {},
     "output_type": "display_data"
    }
   ],
   "source": [
    "with pd.option_context(\"display.max_rows\", None,\n",
    "                       \"display.max_colwidth\", 200):\n",
    "    display(df_3_recoded['college_y'].value_counts().sort_index())"
   ]
  },
  {
   "cell_type": "markdown",
   "id": "e798d98b-15af-4230-8e82-416883f2b488",
   "metadata": {},
   "source": [
    "## Q4. \n",
    "將「家庭收入」重新編碼成新變項「收入等級」（變項名 f_income_3gp） 。 「無收入」到未滿 6 萬元編\n",
    "成 1（數值標籤設成「低」）；6 萬元以上到未滿 10 萬元編成 2（「中」）；10 萬元以上編成 3（「高」）。\n",
    "然後列出新變項「收入等級」的次數分布。"
   ]
  },
  {
   "cell_type": "code",
   "execution_count": 19,
   "id": "8d588b2c-c500-45b6-9f0f-b6ecf25839d3",
   "metadata": {},
   "outputs": [],
   "source": [
    "df_4 = df[['b3']].copy().rename(columns = { 'b3': 'family_income' })"
   ]
  },
  {
   "cell_type": "markdown",
   "id": "c8c4c799-1a45-4ba0-aefc-cba95e156e81",
   "metadata": {},
   "source": [
    "依照題目進行編碼"
   ]
  },
  {
   "cell_type": "code",
   "execution_count": 20,
   "id": "44364fc3-05fa-4e28-a8d9-f45d5b2804da",
   "metadata": {},
   "outputs": [
    {
     "data": {
      "text/html": [
       "<div>\n",
       "<style scoped>\n",
       "    .dataframe tbody tr th:only-of-type {\n",
       "        vertical-align: middle;\n",
       "    }\n",
       "\n",
       "    .dataframe tbody tr th {\n",
       "        vertical-align: top;\n",
       "    }\n",
       "\n",
       "    .dataframe thead th {\n",
       "        text-align: right;\n",
       "    }\n",
       "</style>\n",
       "<table border=\"1\" class=\"dataframe\">\n",
       "  <thead>\n",
       "    <tr style=\"text-align: right;\">\n",
       "      <th></th>\n",
       "      <th>family_income</th>\n",
       "      <th>f_income_3gp_num</th>\n",
       "      <th>f_income_3gp</th>\n",
       "    </tr>\n",
       "  </thead>\n",
       "  <tbody>\n",
       "    <tr>\n",
       "      <th>0</th>\n",
       "      <td>4.0</td>\n",
       "      <td>1.0</td>\n",
       "      <td>中</td>\n",
       "    </tr>\n",
       "    <tr>\n",
       "      <th>1</th>\n",
       "      <td>3.0</td>\n",
       "      <td>0.0</td>\n",
       "      <td>低</td>\n",
       "    </tr>\n",
       "    <tr>\n",
       "      <th>2</th>\n",
       "      <td>4.0</td>\n",
       "      <td>1.0</td>\n",
       "      <td>中</td>\n",
       "    </tr>\n",
       "    <tr>\n",
       "      <th>3</th>\n",
       "      <td>2.0</td>\n",
       "      <td>0.0</td>\n",
       "      <td>低</td>\n",
       "    </tr>\n",
       "    <tr>\n",
       "      <th>4</th>\n",
       "      <td>2.0</td>\n",
       "      <td>0.0</td>\n",
       "      <td>低</td>\n",
       "    </tr>\n",
       "    <tr>\n",
       "      <th>...</th>\n",
       "      <td>...</td>\n",
       "      <td>...</td>\n",
       "      <td>...</td>\n",
       "    </tr>\n",
       "    <tr>\n",
       "      <th>863</th>\n",
       "      <td>11.0</td>\n",
       "      <td>2.0</td>\n",
       "      <td>高</td>\n",
       "    </tr>\n",
       "    <tr>\n",
       "      <th>864</th>\n",
       "      <td>11.0</td>\n",
       "      <td>2.0</td>\n",
       "      <td>高</td>\n",
       "    </tr>\n",
       "    <tr>\n",
       "      <th>865</th>\n",
       "      <td>0.0</td>\n",
       "      <td>0.0</td>\n",
       "      <td>低</td>\n",
       "    </tr>\n",
       "    <tr>\n",
       "      <th>866</th>\n",
       "      <td>3.0</td>\n",
       "      <td>0.0</td>\n",
       "      <td>低</td>\n",
       "    </tr>\n",
       "    <tr>\n",
       "      <th>867</th>\n",
       "      <td>11.0</td>\n",
       "      <td>2.0</td>\n",
       "      <td>高</td>\n",
       "    </tr>\n",
       "  </tbody>\n",
       "</table>\n",
       "<p>868 rows × 3 columns</p>\n",
       "</div>"
      ],
      "text/plain": [
       "     family_income  f_income_3gp_num f_income_3gp\n",
       "0              4.0               1.0            中\n",
       "1              3.0               0.0            低\n",
       "2              4.0               1.0            中\n",
       "3              2.0               0.0            低\n",
       "4              2.0               0.0            低\n",
       "..             ...               ...          ...\n",
       "863           11.0               2.0            高\n",
       "864           11.0               2.0            高\n",
       "865            0.0               0.0            低\n",
       "866            3.0               0.0            低\n",
       "867           11.0               2.0            高\n",
       "\n",
       "[868 rows x 3 columns]"
      ]
     },
     "execution_count": 20,
     "metadata": {},
     "output_type": "execute_result"
    }
   ],
   "source": [
    "df_4_recoded = df_4.assign(\n",
    "    f_income_3gp_num=np.select(\n",
    "        [df_4.family_income.between(0, 3), df_4.family_income.between(4, 5), df_4.family_income.between(6, 11)],\n",
    "        [0, 1, 2],\n",
    "        default=np.nan\n",
    "    )\n",
    ")\n",
    "\n",
    "df_4_recoded[\"f_income_3gp\"] = df_4_recoded[\"f_income_3gp_num\"].map({0: \"低\", 1: \"中\", 2: \"高\"})\n",
    "df_4_recoded"
   ]
  },
  {
   "cell_type": "markdown",
   "id": "eace8cbf-51af-436d-8bd9-763d1ac30a65",
   "metadata": {},
   "source": [
    "### Ans\n",
    "計算次數分布"
   ]
  },
  {
   "cell_type": "code",
   "execution_count": 21,
   "id": "f4a9ab21-f9de-4287-bb09-098d6bb024d7",
   "metadata": {},
   "outputs": [
    {
     "data": {
      "text/plain": [
       "f_income_3gp\n",
       "中      267\n",
       "低      311\n",
       "高      279\n",
       "NaN     11\n",
       "Name: count, dtype: int64"
      ]
     },
     "metadata": {},
     "output_type": "display_data"
    }
   ],
   "source": [
    "display(df_4_recoded['f_income_3gp'].value_counts(dropna=False).sort_index())"
   ]
  },
  {
   "cell_type": "markdown",
   "id": "51d983b4-8d6b-41bd-a8fe-804a7958d05b",
   "metadata": {},
   "source": [
    "## Q5. \n",
    "按下列步驟，創造「政治自由態度」變項。  \n",
    "（1）將「拒答、漏答、不適用」等回應設成遺漏值；  \n",
    "（2）檢查 g4a 到 g4i 這 9 個變項分布，如有其他不合理值，也設成遺漏值；  \n",
    "（3）將 g4a、g4c、g4e、g4f、g4h 做反向編碼（將 1 改成 4，2 改成 3，依此類推） ；  \n",
    "（4）將反向編碼後的 5 個變項，和其他 4 個變項的得分加總，將總分變項設成：G4_all，並加上標籤「政治自由態度」。    \n",
    "（5）計算並報告「政治自由態度」變項的平均數和標準差。  "
   ]
  },
  {
   "cell_type": "code",
   "execution_count": 22,
   "id": "af848753-8024-45f5-9ad5-274c3028a0cb",
   "metadata": {},
   "outputs": [],
   "source": [
    "df_5 = df.loc[:, \"g4a\":\"g4i\"].copy()"
   ]
  },
  {
   "cell_type": "markdown",
   "id": "683c3e9a-dc76-4429-ae6a-7ba0420ef21e",
   "metadata": {},
   "source": [
    "觀察九個欄位的次數分布"
   ]
  },
  {
   "cell_type": "code",
   "execution_count": 23,
   "id": "6a1ef2bc-7a26-47a5-ae6f-8895ed5e43eb",
   "metadata": {},
   "outputs": [
    {
     "name": "stdout",
     "output_type": "stream",
     "text": [
      "         g4a    g4b    g4c    g4d    g4e    g4f    g4g    g4h  g4i\n",
      "1.0    164.0   18.0   55.0   33.0  129.0  209.0   10.0   63.0   24\n",
      "2.0    474.0   91.0  339.0  258.0  487.0  462.0   65.0  229.0  267\n",
      "3.0    185.0  550.0  350.0  459.0  210.0  158.0  502.0  285.0  445\n",
      "4.0     42.0  207.0  121.0  114.0   39.0   35.0  288.0  288.0  127\n",
      "997.0    2.0    1.0    2.0    2.0    2.0    2.0    2.0    2.0    3\n",
      "998.0    1.0    1.0    1.0    2.0    1.0    2.0    1.0    1.0    1\n",
      "999.0    NaN    NaN    NaN    NaN    NaN    NaN    NaN    NaN    1\n"
     ]
    }
   ],
   "source": [
    "out = df_5.apply(pd.Series.value_counts, dropna=False)\n",
    "print(out)"
   ]
  },
  {
   "cell_type": "markdown",
   "id": "545a7c01-1f5d-4c83-ab0b-9a0d1c796aff",
   "metadata": {},
   "source": [
    "將997.0（'拒答'）、 998.0（'漏答'）、 999.0（'不適用'）設為遺漏值。再觀察次數分布作為檢驗"
   ]
  },
  {
   "cell_type": "code",
   "execution_count": 24,
   "id": "26747d43-ff29-461b-8a74-f9ef11a8d58d",
   "metadata": {},
   "outputs": [
    {
     "name": "stdout",
     "output_type": "stream",
     "text": [
      "     g4a  g4b  g4c  g4d  g4e  g4f  g4g  g4h  g4i\n",
      "1.0  164   18   55   33  129  209   10   63   24\n",
      "2.0  474   91  339  258  487  462   65  229  267\n",
      "3.0  185  550  350  459  210  158  502  285  445\n",
      "4.0   42  207  121  114   39   35  288  288  127\n",
      "NaN    3    2    3    4    3    4    3    3    5\n"
     ]
    }
   ],
   "source": [
    "df_5_cleared = df_5.loc[:, \"g4a\":\"g4i\"].where(df_5.loc[:, \"g4a\":\"g4i\"].isin([1, 2, 3, 4]))\n",
    "out = df_5_cleared.apply(pd.Series.value_counts, dropna=False)\n",
    "print(out)"
   ]
  },
  {
   "cell_type": "markdown",
   "id": "e5e4588e-4736-4de5-9253-242a60245862",
   "metadata": {},
   "source": [
    "將 g4a、g4c、g4e、g4f、g4h 做反向編碼（將 1 改成 4，2 改成 3，依此類推）"
   ]
  },
  {
   "cell_type": "code",
   "execution_count": 25,
   "id": "baf5ed26-809e-4d58-8bf7-31af5fd0241c",
   "metadata": {},
   "outputs": [
    {
     "data": {
      "text/html": [
       "<div>\n",
       "<style scoped>\n",
       "    .dataframe tbody tr th:only-of-type {\n",
       "        vertical-align: middle;\n",
       "    }\n",
       "\n",
       "    .dataframe tbody tr th {\n",
       "        vertical-align: top;\n",
       "    }\n",
       "\n",
       "    .dataframe thead th {\n",
       "        text-align: right;\n",
       "    }\n",
       "</style>\n",
       "<table border=\"1\" class=\"dataframe\">\n",
       "  <thead>\n",
       "    <tr style=\"text-align: right;\">\n",
       "      <th></th>\n",
       "      <th>g4a</th>\n",
       "      <th>g4b</th>\n",
       "      <th>g4c</th>\n",
       "      <th>g4d</th>\n",
       "      <th>g4e</th>\n",
       "      <th>g4f</th>\n",
       "      <th>g4g</th>\n",
       "      <th>g4h</th>\n",
       "      <th>g4i</th>\n",
       "    </tr>\n",
       "  </thead>\n",
       "  <tbody>\n",
       "    <tr>\n",
       "      <th>0</th>\n",
       "      <td>3.0</td>\n",
       "      <td>3.0</td>\n",
       "      <td>2.0</td>\n",
       "      <td>3.0</td>\n",
       "      <td>3.0</td>\n",
       "      <td>3.0</td>\n",
       "      <td>3.0</td>\n",
       "      <td>2.0</td>\n",
       "      <td>3.0</td>\n",
       "    </tr>\n",
       "    <tr>\n",
       "      <th>1</th>\n",
       "      <td>3.0</td>\n",
       "      <td>3.0</td>\n",
       "      <td>3.0</td>\n",
       "      <td>3.0</td>\n",
       "      <td>3.0</td>\n",
       "      <td>2.0</td>\n",
       "      <td>3.0</td>\n",
       "      <td>2.0</td>\n",
       "      <td>3.0</td>\n",
       "    </tr>\n",
       "    <tr>\n",
       "      <th>2</th>\n",
       "      <td>3.0</td>\n",
       "      <td>3.0</td>\n",
       "      <td>2.0</td>\n",
       "      <td>3.0</td>\n",
       "      <td>3.0</td>\n",
       "      <td>3.0</td>\n",
       "      <td>3.0</td>\n",
       "      <td>1.0</td>\n",
       "      <td>2.0</td>\n",
       "    </tr>\n",
       "    <tr>\n",
       "      <th>3</th>\n",
       "      <td>1.0</td>\n",
       "      <td>4.0</td>\n",
       "      <td>1.0</td>\n",
       "      <td>4.0</td>\n",
       "      <td>1.0</td>\n",
       "      <td>1.0</td>\n",
       "      <td>4.0</td>\n",
       "      <td>1.0</td>\n",
       "      <td>4.0</td>\n",
       "    </tr>\n",
       "    <tr>\n",
       "      <th>4</th>\n",
       "      <td>3.0</td>\n",
       "      <td>3.0</td>\n",
       "      <td>2.0</td>\n",
       "      <td>3.0</td>\n",
       "      <td>3.0</td>\n",
       "      <td>3.0</td>\n",
       "      <td>3.0</td>\n",
       "      <td>2.0</td>\n",
       "      <td>2.0</td>\n",
       "    </tr>\n",
       "    <tr>\n",
       "      <th>...</th>\n",
       "      <td>...</td>\n",
       "      <td>...</td>\n",
       "      <td>...</td>\n",
       "      <td>...</td>\n",
       "      <td>...</td>\n",
       "      <td>...</td>\n",
       "      <td>...</td>\n",
       "      <td>...</td>\n",
       "      <td>...</td>\n",
       "    </tr>\n",
       "    <tr>\n",
       "      <th>863</th>\n",
       "      <td>4.0</td>\n",
       "      <td>4.0</td>\n",
       "      <td>2.0</td>\n",
       "      <td>3.0</td>\n",
       "      <td>1.0</td>\n",
       "      <td>4.0</td>\n",
       "      <td>4.0</td>\n",
       "      <td>1.0</td>\n",
       "      <td>4.0</td>\n",
       "    </tr>\n",
       "    <tr>\n",
       "      <th>864</th>\n",
       "      <td>3.0</td>\n",
       "      <td>3.0</td>\n",
       "      <td>2.0</td>\n",
       "      <td>2.0</td>\n",
       "      <td>3.0</td>\n",
       "      <td>3.0</td>\n",
       "      <td>3.0</td>\n",
       "      <td>3.0</td>\n",
       "      <td>3.0</td>\n",
       "    </tr>\n",
       "    <tr>\n",
       "      <th>865</th>\n",
       "      <td>4.0</td>\n",
       "      <td>4.0</td>\n",
       "      <td>1.0</td>\n",
       "      <td>2.0</td>\n",
       "      <td>2.0</td>\n",
       "      <td>4.0</td>\n",
       "      <td>4.0</td>\n",
       "      <td>3.0</td>\n",
       "      <td>4.0</td>\n",
       "    </tr>\n",
       "    <tr>\n",
       "      <th>866</th>\n",
       "      <td>4.0</td>\n",
       "      <td>4.0</td>\n",
       "      <td>3.0</td>\n",
       "      <td>3.0</td>\n",
       "      <td>3.0</td>\n",
       "      <td>3.0</td>\n",
       "      <td>4.0</td>\n",
       "      <td>1.0</td>\n",
       "      <td>3.0</td>\n",
       "    </tr>\n",
       "    <tr>\n",
       "      <th>867</th>\n",
       "      <td>3.0</td>\n",
       "      <td>3.0</td>\n",
       "      <td>3.0</td>\n",
       "      <td>4.0</td>\n",
       "      <td>2.0</td>\n",
       "      <td>2.0</td>\n",
       "      <td>4.0</td>\n",
       "      <td>1.0</td>\n",
       "      <td>3.0</td>\n",
       "    </tr>\n",
       "  </tbody>\n",
       "</table>\n",
       "<p>868 rows × 9 columns</p>\n",
       "</div>"
      ],
      "text/plain": [
       "     g4a  g4b  g4c  g4d  g4e  g4f  g4g  g4h  g4i\n",
       "0    3.0  3.0  2.0  3.0  3.0  3.0  3.0  2.0  3.0\n",
       "1    3.0  3.0  3.0  3.0  3.0  2.0  3.0  2.0  3.0\n",
       "2    3.0  3.0  2.0  3.0  3.0  3.0  3.0  1.0  2.0\n",
       "3    1.0  4.0  1.0  4.0  1.0  1.0  4.0  1.0  4.0\n",
       "4    3.0  3.0  2.0  3.0  3.0  3.0  3.0  2.0  2.0\n",
       "..   ...  ...  ...  ...  ...  ...  ...  ...  ...\n",
       "863  4.0  4.0  2.0  3.0  1.0  4.0  4.0  1.0  4.0\n",
       "864  3.0  3.0  2.0  2.0  3.0  3.0  3.0  3.0  3.0\n",
       "865  4.0  4.0  1.0  2.0  2.0  4.0  4.0  3.0  4.0\n",
       "866  4.0  4.0  3.0  3.0  3.0  3.0  4.0  1.0  3.0\n",
       "867  3.0  3.0  3.0  4.0  2.0  2.0  4.0  1.0  3.0\n",
       "\n",
       "[868 rows x 9 columns]"
      ]
     },
     "execution_count": 25,
     "metadata": {},
     "output_type": "execute_result"
    }
   ],
   "source": [
    "# Columns to reverse-code and mapping\n",
    "rev_cols = [\"g4a\", \"g4c\", \"g4e\", \"g4f\", \"g4h\"]\n",
    "mapping = {1: 4, 2: 3, 3: 2, 4: 1}\n",
    "\n",
    "# Make a new dataframe with reverse-coded values\n",
    "df_5_reverse_recoded = df_5_cleared.copy()\n",
    "df_5_reverse_recoded[rev_cols] = df_5_reverse_recoded[rev_cols].replace(mapping)\n",
    "df_5_reverse_recoded"
   ]
  },
  {
   "cell_type": "markdown",
   "id": "664ce3f5-333c-47f3-87d1-56131be1f511",
   "metadata": {},
   "source": [
    "將反向編碼後的 5 個變項，和其他 4 個變項的得分加總，將總分變項設成：G4_all，並加上標籤「政治自由態度」。  \n",
    "檢視表格"
   ]
  },
  {
   "cell_type": "code",
   "execution_count": 26,
   "id": "5a723a3f-9bdd-4e18-903f-4e00ff7ab454",
   "metadata": {},
   "outputs": [
    {
     "data": {
      "text/html": [
       "<div>\n",
       "<style scoped>\n",
       "    .dataframe tbody tr th:only-of-type {\n",
       "        vertical-align: middle;\n",
       "    }\n",
       "\n",
       "    .dataframe tbody tr th {\n",
       "        vertical-align: top;\n",
       "    }\n",
       "\n",
       "    .dataframe thead th {\n",
       "        text-align: right;\n",
       "    }\n",
       "</style>\n",
       "<table border=\"1\" class=\"dataframe\">\n",
       "  <thead>\n",
       "    <tr style=\"text-align: right;\">\n",
       "      <th></th>\n",
       "      <th>g4a</th>\n",
       "      <th>g4b</th>\n",
       "      <th>g4c</th>\n",
       "      <th>g4d</th>\n",
       "      <th>g4e</th>\n",
       "      <th>g4f</th>\n",
       "      <th>g4g</th>\n",
       "      <th>g4h</th>\n",
       "      <th>g4i</th>\n",
       "      <th>G4_all</th>\n",
       "    </tr>\n",
       "  </thead>\n",
       "  <tbody>\n",
       "    <tr>\n",
       "      <th>0</th>\n",
       "      <td>3.0</td>\n",
       "      <td>3.0</td>\n",
       "      <td>2.0</td>\n",
       "      <td>3.0</td>\n",
       "      <td>3.0</td>\n",
       "      <td>3.0</td>\n",
       "      <td>3.0</td>\n",
       "      <td>2.0</td>\n",
       "      <td>3.0</td>\n",
       "      <td>25.0</td>\n",
       "    </tr>\n",
       "    <tr>\n",
       "      <th>1</th>\n",
       "      <td>3.0</td>\n",
       "      <td>3.0</td>\n",
       "      <td>3.0</td>\n",
       "      <td>3.0</td>\n",
       "      <td>3.0</td>\n",
       "      <td>2.0</td>\n",
       "      <td>3.0</td>\n",
       "      <td>2.0</td>\n",
       "      <td>3.0</td>\n",
       "      <td>25.0</td>\n",
       "    </tr>\n",
       "    <tr>\n",
       "      <th>2</th>\n",
       "      <td>3.0</td>\n",
       "      <td>3.0</td>\n",
       "      <td>2.0</td>\n",
       "      <td>3.0</td>\n",
       "      <td>3.0</td>\n",
       "      <td>3.0</td>\n",
       "      <td>3.0</td>\n",
       "      <td>1.0</td>\n",
       "      <td>2.0</td>\n",
       "      <td>23.0</td>\n",
       "    </tr>\n",
       "    <tr>\n",
       "      <th>3</th>\n",
       "      <td>1.0</td>\n",
       "      <td>4.0</td>\n",
       "      <td>1.0</td>\n",
       "      <td>4.0</td>\n",
       "      <td>1.0</td>\n",
       "      <td>1.0</td>\n",
       "      <td>4.0</td>\n",
       "      <td>1.0</td>\n",
       "      <td>4.0</td>\n",
       "      <td>21.0</td>\n",
       "    </tr>\n",
       "    <tr>\n",
       "      <th>4</th>\n",
       "      <td>3.0</td>\n",
       "      <td>3.0</td>\n",
       "      <td>2.0</td>\n",
       "      <td>3.0</td>\n",
       "      <td>3.0</td>\n",
       "      <td>3.0</td>\n",
       "      <td>3.0</td>\n",
       "      <td>2.0</td>\n",
       "      <td>2.0</td>\n",
       "      <td>24.0</td>\n",
       "    </tr>\n",
       "    <tr>\n",
       "      <th>...</th>\n",
       "      <td>...</td>\n",
       "      <td>...</td>\n",
       "      <td>...</td>\n",
       "      <td>...</td>\n",
       "      <td>...</td>\n",
       "      <td>...</td>\n",
       "      <td>...</td>\n",
       "      <td>...</td>\n",
       "      <td>...</td>\n",
       "      <td>...</td>\n",
       "    </tr>\n",
       "    <tr>\n",
       "      <th>863</th>\n",
       "      <td>4.0</td>\n",
       "      <td>4.0</td>\n",
       "      <td>2.0</td>\n",
       "      <td>3.0</td>\n",
       "      <td>1.0</td>\n",
       "      <td>4.0</td>\n",
       "      <td>4.0</td>\n",
       "      <td>1.0</td>\n",
       "      <td>4.0</td>\n",
       "      <td>27.0</td>\n",
       "    </tr>\n",
       "    <tr>\n",
       "      <th>864</th>\n",
       "      <td>3.0</td>\n",
       "      <td>3.0</td>\n",
       "      <td>2.0</td>\n",
       "      <td>2.0</td>\n",
       "      <td>3.0</td>\n",
       "      <td>3.0</td>\n",
       "      <td>3.0</td>\n",
       "      <td>3.0</td>\n",
       "      <td>3.0</td>\n",
       "      <td>25.0</td>\n",
       "    </tr>\n",
       "    <tr>\n",
       "      <th>865</th>\n",
       "      <td>4.0</td>\n",
       "      <td>4.0</td>\n",
       "      <td>1.0</td>\n",
       "      <td>2.0</td>\n",
       "      <td>2.0</td>\n",
       "      <td>4.0</td>\n",
       "      <td>4.0</td>\n",
       "      <td>3.0</td>\n",
       "      <td>4.0</td>\n",
       "      <td>28.0</td>\n",
       "    </tr>\n",
       "    <tr>\n",
       "      <th>866</th>\n",
       "      <td>4.0</td>\n",
       "      <td>4.0</td>\n",
       "      <td>3.0</td>\n",
       "      <td>3.0</td>\n",
       "      <td>3.0</td>\n",
       "      <td>3.0</td>\n",
       "      <td>4.0</td>\n",
       "      <td>1.0</td>\n",
       "      <td>3.0</td>\n",
       "      <td>28.0</td>\n",
       "    </tr>\n",
       "    <tr>\n",
       "      <th>867</th>\n",
       "      <td>3.0</td>\n",
       "      <td>3.0</td>\n",
       "      <td>3.0</td>\n",
       "      <td>4.0</td>\n",
       "      <td>2.0</td>\n",
       "      <td>2.0</td>\n",
       "      <td>4.0</td>\n",
       "      <td>1.0</td>\n",
       "      <td>3.0</td>\n",
       "      <td>25.0</td>\n",
       "    </tr>\n",
       "  </tbody>\n",
       "</table>\n",
       "<p>868 rows × 10 columns</p>\n",
       "</div>"
      ],
      "text/plain": [
       "     g4a  g4b  g4c  g4d  g4e  g4f  g4g  g4h  g4i  G4_all\n",
       "0    3.0  3.0  2.0  3.0  3.0  3.0  3.0  2.0  3.0    25.0\n",
       "1    3.0  3.0  3.0  3.0  3.0  2.0  3.0  2.0  3.0    25.0\n",
       "2    3.0  3.0  2.0  3.0  3.0  3.0  3.0  1.0  2.0    23.0\n",
       "3    1.0  4.0  1.0  4.0  1.0  1.0  4.0  1.0  4.0    21.0\n",
       "4    3.0  3.0  2.0  3.0  3.0  3.0  3.0  2.0  2.0    24.0\n",
       "..   ...  ...  ...  ...  ...  ...  ...  ...  ...     ...\n",
       "863  4.0  4.0  2.0  3.0  1.0  4.0  4.0  1.0  4.0    27.0\n",
       "864  3.0  3.0  2.0  2.0  3.0  3.0  3.0  3.0  3.0    25.0\n",
       "865  4.0  4.0  1.0  2.0  2.0  4.0  4.0  3.0  4.0    28.0\n",
       "866  4.0  4.0  3.0  3.0  3.0  3.0  4.0  1.0  3.0    28.0\n",
       "867  3.0  3.0  3.0  4.0  2.0  2.0  4.0  1.0  3.0    25.0\n",
       "\n",
       "[868 rows x 10 columns]"
      ]
     },
     "execution_count": 26,
     "metadata": {},
     "output_type": "execute_result"
    }
   ],
   "source": [
    "df_5_final = df_5_reverse_recoded.copy()\n",
    "df_5_final[\"G4_all\"] = df_5_final.sum(axis=1)\n",
    "df_5_final"
   ]
  },
  {
   "cell_type": "markdown",
   "id": "b2dd0f4e-8f82-444d-be1b-5eca2690ff84",
   "metadata": {},
   "source": [
    "計算並報告「政治自由態度」變項的平均數和標準差"
   ]
  },
  {
   "cell_type": "markdown",
   "id": "2d3f0fdf-6684-4ae9-8c9a-73cfbd7f9cdb",
   "metadata": {},
   "source": [
    "計算「政治自由態度」的敘述性統計"
   ]
  },
  {
   "cell_type": "code",
   "execution_count": 27,
   "id": "17340b43-d489-4f5b-992f-c3227d5b1a9d",
   "metadata": {},
   "outputs": [
    {
     "data": {
      "text/plain": [
       "count    868.00000\n",
       "mean      24.89977\n",
       "std        3.36175\n",
       "min        0.00000\n",
       "25%       23.00000\n",
       "50%       25.00000\n",
       "75%       27.00000\n",
       "max       36.00000\n",
       "Name: G4_all, dtype: float64"
      ]
     },
     "execution_count": 27,
     "metadata": {},
     "output_type": "execute_result"
    }
   ],
   "source": [
    "df_5_final['G4_all'].describe()"
   ]
  },
  {
   "cell_type": "markdown",
   "id": "493fa7b5-87ff-4137-8302-04e389dedbe6",
   "metadata": {},
   "source": [
    "### Ans\n",
    "政治自由態度的平均數為24.90、標準差為3.36"
   ]
  },
  {
   "cell_type": "markdown",
   "id": "03ac48cd-06da-4115-95e6-e22f5db0fae9",
   "metadata": {},
   "source": [
    "## Q6. 以「單一樣本 T 檢定」檢視受訪者的「政治自由態度」平均分數是否為 24。"
   ]
  },
  {
   "cell_type": "code",
   "execution_count": 28,
   "id": "8b38d409-0811-4176-98a4-85a4ddfd1b83",
   "metadata": {},
   "outputs": [],
   "source": [
    "df_6 = df_5_final.copy()"
   ]
  },
  {
   "cell_type": "markdown",
   "id": "f2d6f107-9d2d-41cc-b665-7556ce3b9627",
   "metadata": {},
   "source": [
    "以樣本做母體平均數檢定\n",
    "\n",
    "* $H0: \\mu = 24$\n",
    "* $H1: \\mu \\neq 24$\n",
    "\n",
    "並且以$\\alpha$ < 0.05 為檢定判準"
   ]
  },
  {
   "cell_type": "code",
   "execution_count": 29,
   "id": "4a4d78e2-f3a0-4ace-86b7-f5759a8848e2",
   "metadata": {},
   "outputs": [
    {
     "data": {
      "text/html": [
       "<div>\n",
       "<style scoped>\n",
       "    .dataframe tbody tr th:only-of-type {\n",
       "        vertical-align: middle;\n",
       "    }\n",
       "\n",
       "    .dataframe tbody tr th {\n",
       "        vertical-align: top;\n",
       "    }\n",
       "\n",
       "    .dataframe thead th {\n",
       "        text-align: right;\n",
       "    }\n",
       "</style>\n",
       "<table border=\"1\" class=\"dataframe\">\n",
       "  <thead>\n",
       "    <tr style=\"text-align: right;\">\n",
       "      <th></th>\n",
       "      <th>Values</th>\n",
       "    </tr>\n",
       "  </thead>\n",
       "  <tbody>\n",
       "    <tr>\n",
       "      <th>statstic</th>\n",
       "      <td>7.89</td>\n",
       "    </tr>\n",
       "    <tr>\n",
       "      <th>P Value</th>\n",
       "      <td>9.403443175267619e-15</td>\n",
       "    </tr>\n",
       "  </tbody>\n",
       "</table>\n",
       "</div>"
      ],
      "text/plain": [
       "                         Values\n",
       "statstic                   7.89\n",
       "P Value   9.403443175267619e-15"
      ]
     },
     "execution_count": 29,
     "metadata": {},
     "output_type": "execute_result"
    }
   ],
   "source": [
    "from scipy import stats\n",
    "\n",
    "mu_0 = 24\n",
    "\n",
    "# two-sided for for two-sided test; less for case you want to check if the sample mean is less than population mean\n",
    "t_statistic, p_value = stats.ttest_1samp(df_6['G4_all'], mu_0, alternative='two-sided')\n",
    "\n",
    "pd.DataFrame({\n",
    "    'Values': [f'{t_statistic:.2f}', f'{p_value:.15e}']\n",
    "}, index=['statstic', 'P Value'])"
   ]
  },
  {
   "cell_type": "markdown",
   "id": "2af96ee7-383e-4531-85a8-d0e6b0dd032a",
   "metadata": {},
   "source": [
    "### Ans\n",
    "觀察P Value < 0.05 ，故拒絕虛無假設，母體平均分數不為24。"
   ]
  },
  {
   "cell_type": "markdown",
   "id": "d3ca5e63-add3-4ee1-926c-c35b190a9be2",
   "metadata": {},
   "source": [
    "## Q7. 以「獨立樣本 T 檢定」比較「男性」和「女性」的「政治自由態度」平均數是否有顯著差異。"
   ]
  },
  {
   "cell_type": "markdown",
   "id": "8b5948a6-b3b7-44a2-ac74-1e47457bc637",
   "metadata": {},
   "source": [
    "預覽二欄位"
   ]
  },
  {
   "cell_type": "code",
   "execution_count": 30,
   "id": "6804b61b-492d-42d1-8307-dbade029b175",
   "metadata": {},
   "outputs": [
    {
     "data": {
      "text/html": [
       "<div>\n",
       "<style scoped>\n",
       "    .dataframe tbody tr th:only-of-type {\n",
       "        vertical-align: middle;\n",
       "    }\n",
       "\n",
       "    .dataframe tbody tr th {\n",
       "        vertical-align: top;\n",
       "    }\n",
       "\n",
       "    .dataframe thead th {\n",
       "        text-align: right;\n",
       "    }\n",
       "</style>\n",
       "<table border=\"1\" class=\"dataframe\">\n",
       "  <thead>\n",
       "    <tr style=\"text-align: right;\">\n",
       "      <th></th>\n",
       "      <th>sex</th>\n",
       "      <th>G4_all</th>\n",
       "    </tr>\n",
       "  </thead>\n",
       "  <tbody>\n",
       "    <tr>\n",
       "      <th>0</th>\n",
       "      <td>2.0</td>\n",
       "      <td>25.0</td>\n",
       "    </tr>\n",
       "    <tr>\n",
       "      <th>1</th>\n",
       "      <td>1.0</td>\n",
       "      <td>25.0</td>\n",
       "    </tr>\n",
       "    <tr>\n",
       "      <th>2</th>\n",
       "      <td>2.0</td>\n",
       "      <td>23.0</td>\n",
       "    </tr>\n",
       "    <tr>\n",
       "      <th>3</th>\n",
       "      <td>1.0</td>\n",
       "      <td>21.0</td>\n",
       "    </tr>\n",
       "    <tr>\n",
       "      <th>4</th>\n",
       "      <td>2.0</td>\n",
       "      <td>24.0</td>\n",
       "    </tr>\n",
       "    <tr>\n",
       "      <th>...</th>\n",
       "      <td>...</td>\n",
       "      <td>...</td>\n",
       "    </tr>\n",
       "    <tr>\n",
       "      <th>863</th>\n",
       "      <td>2.0</td>\n",
       "      <td>27.0</td>\n",
       "    </tr>\n",
       "    <tr>\n",
       "      <th>864</th>\n",
       "      <td>2.0</td>\n",
       "      <td>25.0</td>\n",
       "    </tr>\n",
       "    <tr>\n",
       "      <th>865</th>\n",
       "      <td>2.0</td>\n",
       "      <td>28.0</td>\n",
       "    </tr>\n",
       "    <tr>\n",
       "      <th>866</th>\n",
       "      <td>1.0</td>\n",
       "      <td>28.0</td>\n",
       "    </tr>\n",
       "    <tr>\n",
       "      <th>867</th>\n",
       "      <td>1.0</td>\n",
       "      <td>25.0</td>\n",
       "    </tr>\n",
       "  </tbody>\n",
       "</table>\n",
       "<p>868 rows × 2 columns</p>\n",
       "</div>"
      ],
      "text/plain": [
       "     sex  G4_all\n",
       "0    2.0    25.0\n",
       "1    1.0    25.0\n",
       "2    2.0    23.0\n",
       "3    1.0    21.0\n",
       "4    2.0    24.0\n",
       "..   ...     ...\n",
       "863  2.0    27.0\n",
       "864  2.0    25.0\n",
       "865  2.0    28.0\n",
       "866  1.0    28.0\n",
       "867  1.0    25.0\n",
       "\n",
       "[868 rows x 2 columns]"
      ]
     },
     "execution_count": 30,
     "metadata": {},
     "output_type": "execute_result"
    }
   ],
   "source": [
    "# pick columns\n",
    "col1 = df[['a1']].copy().rename(columns = { 'a1': 'sex' })['sex']\n",
    "col2 = df_5_final['G4_all']\n",
    "df_7 = pd.concat([col1.reset_index(drop=True),\n",
    "                  col2.reset_index(drop=True)], axis=1)\n",
    "df_7"
   ]
  },
  {
   "cell_type": "code",
   "execution_count": 31,
   "id": "f5604bd1-7d1e-4b3a-bb8b-249cdbfd324d",
   "metadata": {},
   "outputs": [],
   "source": [
    "df_7_male = df_7.loc[df_7['sex'] == 1.0, 'G4_all']\n",
    "df_7_female = df_7.loc[df_7['sex'] == 2.0, 'G4_all']"
   ]
  },
  {
   "cell_type": "markdown",
   "id": "544a10ae-5752-491e-9d2d-d07c6b397d14",
   "metadata": {},
   "source": [
    "考察兩資料的性質為獨立樣本\n",
    "\n",
    "將男女兩組資料分組後，進行Levene's test 以及接續之T Test"
   ]
  },
  {
   "cell_type": "code",
   "execution_count": 32,
   "id": "b2302bd1-ff30-481e-a350-46a27fcab483",
   "metadata": {},
   "outputs": [
    {
     "data": {
      "text/html": [
       "<div>\n",
       "<style scoped>\n",
       "    .dataframe tbody tr th:only-of-type {\n",
       "        vertical-align: middle;\n",
       "    }\n",
       "\n",
       "    .dataframe tbody tr th {\n",
       "        vertical-align: top;\n",
       "    }\n",
       "\n",
       "    .dataframe thead th {\n",
       "        text-align: right;\n",
       "    }\n",
       "</style>\n",
       "<table border=\"1\" class=\"dataframe\">\n",
       "  <thead>\n",
       "    <tr style=\"text-align: right;\">\n",
       "      <th></th>\n",
       "      <th>Statistic</th>\n",
       "      <th>p-value</th>\n",
       "    </tr>\n",
       "  </thead>\n",
       "  <tbody>\n",
       "    <tr>\n",
       "      <th>Levene's Test for Equal Variances</th>\n",
       "      <td>0.985017</td>\n",
       "      <td>0.321241</td>\n",
       "    </tr>\n",
       "    <tr>\n",
       "      <th>t-test (Equal Variance Assumed)</th>\n",
       "      <td>0.785801</td>\n",
       "      <td>0.432199</td>\n",
       "    </tr>\n",
       "    <tr>\n",
       "      <th>t-test (Equal Variance Not Assumed)</th>\n",
       "      <td>0.782183</td>\n",
       "      <td>0.434330</td>\n",
       "    </tr>\n",
       "  </tbody>\n",
       "</table>\n",
       "</div>"
      ],
      "text/plain": [
       "                                     Statistic   p-value\n",
       "Levene's Test for Equal Variances     0.985017  0.321241\n",
       "t-test (Equal Variance Assumed)       0.785801  0.432199\n",
       "t-test (Equal Variance Not Assumed)   0.782183  0.434330"
      ]
     },
     "execution_count": 32,
     "metadata": {},
     "output_type": "execute_result"
    }
   ],
   "source": [
    "from statistic import t_test\n",
    "\n",
    "t_test.compare_independent_samples(df_7_male, df_7_female) "
   ]
  },
  {
   "cell_type": "markdown",
   "id": "d9909355-8bf2-48bd-bb22-9f48ab347435",
   "metadata": {},
   "source": [
    "### Ans\n",
    "**Levene's Test**  \n",
    "H0: 兩母群體變異數相同  \n",
    "H1: 兩母群體變異數不相同  \n",
    "$\\alpha = 0.05$\n",
    "\n",
    "首先檢視表格中Levene's Test 的P Value > 0.05，接受Levenu's test 的H0（兩母群體變異數相同）。\n",
    "\n",
    "接下觀察母群體變異數相同的T Test 結果\n",
    "\n",
    "設定：\n",
    "男性、女性政治自由態度平均數為 $\\mu_1$、$\\mu_2$  \n",
    "$H_0: \\mu_1 = \\mu_2$  \n",
    "$H_1: \\mu_1 \\neq \\mu_2$  \n",
    "$\\alpha = 0.05$\n",
    "\n",
    "由此設定進一步檢視假設變異數相同的分析結果，P Value > 0.05，接受虛無假設：不同性別與政治自由態度**無顯著差異**。"
   ]
  },
  {
   "cell_type": "markdown",
   "id": "0bc86a28-a23d-4b13-818f-8b434b16b00a",
   "metadata": {},
   "source": [
    "## Q8. 以「獨立樣本 T 檢定」比較「大專以下」和「大專以上」學歷者的「政治自由態度」平均數是否有顯著差異。"
   ]
  },
  {
   "cell_type": "code",
   "execution_count": 33,
   "id": "4c47eb98-24b0-4bbc-9e82-82cd5e3e4385",
   "metadata": {},
   "outputs": [
    {
     "data": {
      "text/html": [
       "<div>\n",
       "<style scoped>\n",
       "    .dataframe tbody tr th:only-of-type {\n",
       "        vertical-align: middle;\n",
       "    }\n",
       "\n",
       "    .dataframe tbody tr th {\n",
       "        vertical-align: top;\n",
       "    }\n",
       "\n",
       "    .dataframe thead th {\n",
       "        text-align: right;\n",
       "    }\n",
       "</style>\n",
       "<table border=\"1\" class=\"dataframe\">\n",
       "  <thead>\n",
       "    <tr style=\"text-align: right;\">\n",
       "      <th></th>\n",
       "      <th>college_y</th>\n",
       "      <th>G4_all</th>\n",
       "    </tr>\n",
       "  </thead>\n",
       "  <tbody>\n",
       "    <tr>\n",
       "      <th>0</th>\n",
       "      <td>1.0</td>\n",
       "      <td>25.0</td>\n",
       "    </tr>\n",
       "    <tr>\n",
       "      <th>1</th>\n",
       "      <td>1.0</td>\n",
       "      <td>25.0</td>\n",
       "    </tr>\n",
       "    <tr>\n",
       "      <th>2</th>\n",
       "      <td>1.0</td>\n",
       "      <td>23.0</td>\n",
       "    </tr>\n",
       "    <tr>\n",
       "      <th>3</th>\n",
       "      <td>0.0</td>\n",
       "      <td>21.0</td>\n",
       "    </tr>\n",
       "    <tr>\n",
       "      <th>4</th>\n",
       "      <td>0.0</td>\n",
       "      <td>24.0</td>\n",
       "    </tr>\n",
       "    <tr>\n",
       "      <th>...</th>\n",
       "      <td>...</td>\n",
       "      <td>...</td>\n",
       "    </tr>\n",
       "    <tr>\n",
       "      <th>863</th>\n",
       "      <td>0.0</td>\n",
       "      <td>27.0</td>\n",
       "    </tr>\n",
       "    <tr>\n",
       "      <th>864</th>\n",
       "      <td>0.0</td>\n",
       "      <td>25.0</td>\n",
       "    </tr>\n",
       "    <tr>\n",
       "      <th>865</th>\n",
       "      <td>0.0</td>\n",
       "      <td>28.0</td>\n",
       "    </tr>\n",
       "    <tr>\n",
       "      <th>866</th>\n",
       "      <td>0.0</td>\n",
       "      <td>28.0</td>\n",
       "    </tr>\n",
       "    <tr>\n",
       "      <th>867</th>\n",
       "      <td>0.0</td>\n",
       "      <td>25.0</td>\n",
       "    </tr>\n",
       "  </tbody>\n",
       "</table>\n",
       "<p>868 rows × 2 columns</p>\n",
       "</div>"
      ],
      "text/plain": [
       "     college_y  G4_all\n",
       "0          1.0    25.0\n",
       "1          1.0    25.0\n",
       "2          1.0    23.0\n",
       "3          0.0    21.0\n",
       "4          0.0    24.0\n",
       "..         ...     ...\n",
       "863        0.0    27.0\n",
       "864        0.0    25.0\n",
       "865        0.0    28.0\n",
       "866        0.0    28.0\n",
       "867        0.0    25.0\n",
       "\n",
       "[868 rows x 2 columns]"
      ]
     },
     "execution_count": 33,
     "metadata": {},
     "output_type": "execute_result"
    }
   ],
   "source": [
    "# pick columns\n",
    "col_8_1 = df_3_recoded['college_y']\n",
    "col_8_2 = df_5_final['G4_all']\n",
    "df_8 = pd.concat([col_8_1.reset_index(drop=True),\n",
    "                  col_8_2.reset_index(drop=True)], axis=1)\n",
    "df_8"
   ]
  },
  {
   "cell_type": "code",
   "execution_count": 34,
   "id": "719b9401-7f06-41df-848a-28bb60ed1540",
   "metadata": {},
   "outputs": [],
   "source": [
    "df_8_0 = df_8.loc[df_8['college_y'] == 0, 'G4_all']\n",
    "df_8_1 = df_8.loc[df_8['college_y'] == 1, 'G4_all']"
   ]
  },
  {
   "cell_type": "markdown",
   "id": "1ecc8369-dc15-4138-875e-765e62b8e728",
   "metadata": {},
   "source": [
    "考察兩資料的性質為獨立樣本\n",
    "\n",
    "將兩個分類資料分組後，進行Levene's test 以及接續之T Test"
   ]
  },
  {
   "cell_type": "code",
   "execution_count": 35,
   "id": "17199f68-8df4-4354-afc6-1a482ca9bdbf",
   "metadata": {},
   "outputs": [
    {
     "data": {
      "text/html": [
       "<div>\n",
       "<style scoped>\n",
       "    .dataframe tbody tr th:only-of-type {\n",
       "        vertical-align: middle;\n",
       "    }\n",
       "\n",
       "    .dataframe tbody tr th {\n",
       "        vertical-align: top;\n",
       "    }\n",
       "\n",
       "    .dataframe thead th {\n",
       "        text-align: right;\n",
       "    }\n",
       "</style>\n",
       "<table border=\"1\" class=\"dataframe\">\n",
       "  <thead>\n",
       "    <tr style=\"text-align: right;\">\n",
       "      <th></th>\n",
       "      <th>Statistic</th>\n",
       "      <th>p-value</th>\n",
       "    </tr>\n",
       "  </thead>\n",
       "  <tbody>\n",
       "    <tr>\n",
       "      <th>Levene's Test for Equal Variances</th>\n",
       "      <td>4.052579</td>\n",
       "      <td>4.441295e-02</td>\n",
       "    </tr>\n",
       "    <tr>\n",
       "      <th>t-test (Equal Variance Assumed)</th>\n",
       "      <td>-6.052369</td>\n",
       "      <td>2.123467e-09</td>\n",
       "    </tr>\n",
       "    <tr>\n",
       "      <th>t-test (Equal Variance Not Assumed)</th>\n",
       "      <td>-6.054851</td>\n",
       "      <td>2.092464e-09</td>\n",
       "    </tr>\n",
       "  </tbody>\n",
       "</table>\n",
       "</div>"
      ],
      "text/plain": [
       "                                     Statistic       p-value\n",
       "Levene's Test for Equal Variances     4.052579  4.441295e-02\n",
       "t-test (Equal Variance Assumed)      -6.052369  2.123467e-09\n",
       "t-test (Equal Variance Not Assumed)  -6.054851  2.092464e-09"
      ]
     },
     "execution_count": 35,
     "metadata": {},
     "output_type": "execute_result"
    }
   ],
   "source": [
    "from statistic import t_test\n",
    "\n",
    "t_test.compare_independent_samples(df_8_0, df_8_1) "
   ]
  },
  {
   "cell_type": "markdown",
   "id": "ab465aaa-2c1d-4e94-80b0-b535e9f51000",
   "metadata": {},
   "source": [
    "### Ans\n",
    "**Levene's Test**  \n",
    "H0: 兩母群體變異數相同  \n",
    "H1: 兩母群體變異數不相同  \n",
    "$\\alpha = 0.05$\n",
    "\n",
    "首先檢視表格中Levene's Test 的P Value < 0.05，拒絕Levenu's test 的H0（兩母群體變異數不相同）。\n",
    "\n",
    "接下觀察母群體變異數相同的T Test 結果\n",
    "\n",
    "設定：\n",
    "大專以上、大專以下學歷政治自由態度平均數為 $\\mu_1$、$\\mu_2$  \n",
    "$H_0: \\mu_1 = \\mu_2$  \n",
    "$H_1: \\mu_1 \\neq \\mu_2$  \n",
    "$\\alpha = 0.05$\n",
    "\n",
    "由此設定進一步檢視不假設變異數相同的分析結果，P Value < 0.05，拒絕虛無假設：是否擁有大專學歷與政治自由態度**有顯著差異**。"
   ]
  },
  {
   "cell_type": "markdown",
   "id": "695030e5-08cf-4f5e-bc80-c4cd6a09b75a",
   "metadata": {},
   "source": [
    "## Q9. 以變異數分析方法（包括整體檢定與事後比較），檢視不同「收入等級」者的「政治自由態度」平均分數是否有顯著差異。"
   ]
  },
  {
   "cell_type": "code",
   "execution_count": 36,
   "id": "48acc8d6-3b97-4a5f-9e4b-3f291b4abcba",
   "metadata": {},
   "outputs": [],
   "source": [
    "# pick columns\n",
    "col_9_1 = df_4_recoded[\"f_income_3gp\"]\n",
    "col_9_2 = df_5_final['G4_all']\n",
    "df_9 = pd.concat([col_9_1.reset_index(drop=True),\n",
    "                  col_9_2.reset_index(drop=True)], axis=1)"
   ]
  },
  {
   "cell_type": "markdown",
   "id": "7f357cb1-289d-43a3-8708-a26c23460c59",
   "metadata": {},
   "source": [
    "檢視遺漏值狀況"
   ]
  },
  {
   "cell_type": "code",
   "execution_count": 37,
   "id": "edccc83e-82ab-4b37-a039-d4c0ba8b01aa",
   "metadata": {},
   "outputs": [
    {
     "data": {
      "text/html": [
       "<div>\n",
       "<style scoped>\n",
       "    .dataframe tbody tr th:only-of-type {\n",
       "        vertical-align: middle;\n",
       "    }\n",
       "\n",
       "    .dataframe tbody tr th {\n",
       "        vertical-align: top;\n",
       "    }\n",
       "\n",
       "    .dataframe thead th {\n",
       "        text-align: right;\n",
       "    }\n",
       "</style>\n",
       "<table border=\"1\" class=\"dataframe\">\n",
       "  <thead>\n",
       "    <tr style=\"text-align: right;\">\n",
       "      <th></th>\n",
       "      <th># of Missing Values</th>\n",
       "    </tr>\n",
       "  </thead>\n",
       "  <tbody>\n",
       "    <tr>\n",
       "      <th>f_income_3gp</th>\n",
       "      <td>11</td>\n",
       "    </tr>\n",
       "    <tr>\n",
       "      <th>G4_all</th>\n",
       "      <td>0</td>\n",
       "    </tr>\n",
       "  </tbody>\n",
       "</table>\n",
       "</div>"
      ],
      "text/plain": [
       "              # of Missing Values\n",
       "f_income_3gp                   11\n",
       "G4_all                          0"
      ]
     },
     "execution_count": 37,
     "metadata": {},
     "output_type": "execute_result"
    }
   ],
   "source": [
    "from statistic.missing_value import check_missing_value\n",
    "\n",
    "check_missing_value(df_9)"
   ]
  },
  {
   "cell_type": "markdown",
   "id": "de0bd27a-5e9f-4ba4-afc7-a29c2f33a63a",
   "metadata": {},
   "source": [
    "發現有缺漏值，預處理f_income_3gp 為缺漏值的資料"
   ]
  },
  {
   "cell_type": "code",
   "execution_count": 38,
   "id": "21232471-c78d-418c-a7c7-3e5f3a695c1d",
   "metadata": {},
   "outputs": [
    {
     "data": {
      "text/html": [
       "<div>\n",
       "<style scoped>\n",
       "    .dataframe tbody tr th:only-of-type {\n",
       "        vertical-align: middle;\n",
       "    }\n",
       "\n",
       "    .dataframe tbody tr th {\n",
       "        vertical-align: top;\n",
       "    }\n",
       "\n",
       "    .dataframe thead th {\n",
       "        text-align: right;\n",
       "    }\n",
       "</style>\n",
       "<table border=\"1\" class=\"dataframe\">\n",
       "  <thead>\n",
       "    <tr style=\"text-align: right;\">\n",
       "      <th></th>\n",
       "      <th># of Missing Values</th>\n",
       "    </tr>\n",
       "  </thead>\n",
       "  <tbody>\n",
       "    <tr>\n",
       "      <th>f_income_3gp</th>\n",
       "      <td>0</td>\n",
       "    </tr>\n",
       "    <tr>\n",
       "      <th>G4_all</th>\n",
       "      <td>0</td>\n",
       "    </tr>\n",
       "  </tbody>\n",
       "</table>\n",
       "</div>"
      ],
      "text/plain": [
       "              # of Missing Values\n",
       "f_income_3gp                    0\n",
       "G4_all                          0"
      ]
     },
     "execution_count": 38,
     "metadata": {},
     "output_type": "execute_result"
    }
   ],
   "source": [
    "df_9_cleared = df_9.dropna()\n",
    "check_missing_value(df_9_cleared)"
   ]
  },
  {
   "cell_type": "markdown",
   "id": "5d0e5659-c6d6-43c8-a7e2-d04ab1687414",
   "metadata": {},
   "source": [
    "執行ANOVA  \n",
    "設定：不同收入等級的政治自由度態度平均數分別為 $\\mu_1$、$\\mu_2$、$\\mu_3$  \n",
    "$H_0: \\mu_1 = \\mu_2 = \\mu_3$  \n",
    "$H_1: \\mu_k 不完全相等$  \n",
    "$\\alpha = 0.05$\n"
   ]
  },
  {
   "cell_type": "code",
   "execution_count": 39,
   "id": "29967ae2-2662-4763-980d-806ae1281a47",
   "metadata": {},
   "outputs": [
    {
     "data": {
      "text/html": [
       "<div>\n",
       "<style scoped>\n",
       "    .dataframe tbody tr th:only-of-type {\n",
       "        vertical-align: middle;\n",
       "    }\n",
       "\n",
       "    .dataframe tbody tr th {\n",
       "        vertical-align: top;\n",
       "    }\n",
       "\n",
       "    .dataframe thead th {\n",
       "        text-align: right;\n",
       "    }\n",
       "</style>\n",
       "<table border=\"1\" class=\"dataframe\">\n",
       "  <thead>\n",
       "    <tr style=\"text-align: right;\">\n",
       "      <th></th>\n",
       "      <th>sum_sq</th>\n",
       "      <th>df</th>\n",
       "      <th>F</th>\n",
       "      <th>PR(&gt;F)</th>\n",
       "    </tr>\n",
       "  </thead>\n",
       "  <tbody>\n",
       "    <tr>\n",
       "      <th>Intercept</th>\n",
       "      <td>168026.981273</td>\n",
       "      <td>1.0</td>\n",
       "      <td>14968.694231</td>\n",
       "      <td>0.000000</td>\n",
       "    </tr>\n",
       "    <tr>\n",
       "      <th>C(f_income_3gp)</th>\n",
       "      <td>119.266944</td>\n",
       "      <td>2.0</td>\n",
       "      <td>5.312452</td>\n",
       "      <td>0.005094</td>\n",
       "    </tr>\n",
       "    <tr>\n",
       "      <th>Residual</th>\n",
       "      <td>9586.343324</td>\n",
       "      <td>854.0</td>\n",
       "      <td>NaN</td>\n",
       "      <td>NaN</td>\n",
       "    </tr>\n",
       "  </tbody>\n",
       "</table>\n",
       "</div>"
      ],
      "text/plain": [
       "                        sum_sq     df             F    PR(>F)\n",
       "Intercept        168026.981273    1.0  14968.694231  0.000000\n",
       "C(f_income_3gp)     119.266944    2.0      5.312452  0.005094\n",
       "Residual           9586.343324  854.0           NaN       NaN"
      ]
     },
     "execution_count": 39,
     "metadata": {},
     "output_type": "execute_result"
    }
   ],
   "source": [
    "from statistic.anova import perform_anova\n",
    "\n",
    "\n",
    "perform_anova(df=df_9_cleared, val_col='G4_all', group_col='f_income_3gp')"
   ]
  },
  {
   "cell_type": "markdown",
   "id": "4cdc4bc5-c4ce-4192-8c82-fd139a1103e5",
   "metadata": {},
   "source": [
    "依據ANOVA 結果，f_income_3gp 的P value < 0.05 ，拒絕虛無假設。結果顯示**組別間存在差異**"
   ]
  },
  {
   "cell_type": "markdown",
   "id": "13947a4a-ad0a-4b66-b31f-c786e7785e8e",
   "metadata": {},
   "source": [
    "接下來執行Levene's Test 來判斷均值性狀況，以執行事後比較"
   ]
  },
  {
   "cell_type": "code",
   "execution_count": 40,
   "id": "6782a46d-a434-490e-97b3-332436b06ad0",
   "metadata": {},
   "outputs": [
    {
     "data": {
      "text/html": [
       "<div>\n",
       "<style scoped>\n",
       "    .dataframe tbody tr th:only-of-type {\n",
       "        vertical-align: middle;\n",
       "    }\n",
       "\n",
       "    .dataframe tbody tr th {\n",
       "        vertical-align: top;\n",
       "    }\n",
       "\n",
       "    .dataframe thead th {\n",
       "        text-align: right;\n",
       "    }\n",
       "</style>\n",
       "<table border=\"1\" class=\"dataframe\">\n",
       "  <thead>\n",
       "    <tr style=\"text-align: right;\">\n",
       "      <th></th>\n",
       "      <th>Values</th>\n",
       "    </tr>\n",
       "  </thead>\n",
       "  <tbody>\n",
       "    <tr>\n",
       "      <th>Levene Stat</th>\n",
       "      <td>1.16</td>\n",
       "    </tr>\n",
       "    <tr>\n",
       "      <th>P Value</th>\n",
       "      <td>0.313178</td>\n",
       "    </tr>\n",
       "  </tbody>\n",
       "</table>\n",
       "</div>"
      ],
      "text/plain": [
       "               Values\n",
       "Levene Stat      1.16\n",
       "P Value      0.313178"
      ]
     },
     "execution_count": 40,
     "metadata": {},
     "output_type": "execute_result"
    }
   ],
   "source": [
    "from scipy.stats import levene\n",
    "\n",
    "groups = {name: group['G4_all'].values for name, group in df_9_cleared.groupby('f_income_3gp')}\n",
    "\n",
    "levene_stat, levene_p = levene(*groups.values())\n",
    "pd.DataFrame({ 'Values': [f\"{levene_stat:.2f}\", levene_p] }, index = ['Levene Stat', 'P Value'])"
   ]
  },
  {
   "cell_type": "markdown",
   "id": "40d4d883-6899-4503-bece-b2243d719a3d",
   "metadata": {},
   "source": [
    "結果顯示P Value > 0.05：變異數同質假定未違反  \n",
    "選擇HSD法"
   ]
  },
  {
   "cell_type": "code",
   "execution_count": 41,
   "id": "32b487c5-00af-4026-af72-2e0476aa5896",
   "metadata": {},
   "outputs": [
    {
     "data": {
      "text/html": [
       "<div>\n",
       "<style scoped>\n",
       "    .dataframe tbody tr th:only-of-type {\n",
       "        vertical-align: middle;\n",
       "    }\n",
       "\n",
       "    .dataframe tbody tr th {\n",
       "        vertical-align: top;\n",
       "    }\n",
       "\n",
       "    .dataframe thead th {\n",
       "        text-align: right;\n",
       "    }\n",
       "</style>\n",
       "<table border=\"1\" class=\"dataframe\">\n",
       "  <thead>\n",
       "    <tr style=\"text-align: right;\">\n",
       "      <th></th>\n",
       "      <th>A</th>\n",
       "      <th>B</th>\n",
       "      <th>mean(A)</th>\n",
       "      <th>mean(B)</th>\n",
       "      <th>diff</th>\n",
       "      <th>se</th>\n",
       "      <th>T</th>\n",
       "      <th>p-tukey</th>\n",
       "      <th>hedges</th>\n",
       "    </tr>\n",
       "  </thead>\n",
       "  <tbody>\n",
       "    <tr>\n",
       "      <th>0</th>\n",
       "      <td>中</td>\n",
       "      <td>低</td>\n",
       "      <td>25.086142</td>\n",
       "      <td>24.430868</td>\n",
       "      <td>0.655274</td>\n",
       "      <td>0.279528</td>\n",
       "      <td>2.344215</td>\n",
       "      <td>0.050453</td>\n",
       "      <td>0.198268</td>\n",
       "    </tr>\n",
       "    <tr>\n",
       "      <th>1</th>\n",
       "      <td>中</td>\n",
       "      <td>高</td>\n",
       "      <td>25.086142</td>\n",
       "      <td>25.286738</td>\n",
       "      <td>-0.200596</td>\n",
       "      <td>0.286838</td>\n",
       "      <td>-0.699336</td>\n",
       "      <td>0.763932</td>\n",
       "      <td>-0.059900</td>\n",
       "    </tr>\n",
       "    <tr>\n",
       "      <th>2</th>\n",
       "      <td>低</td>\n",
       "      <td>高</td>\n",
       "      <td>24.430868</td>\n",
       "      <td>25.286738</td>\n",
       "      <td>-0.855870</td>\n",
       "      <td>0.276275</td>\n",
       "      <td>-3.097895</td>\n",
       "      <td>0.005705</td>\n",
       "      <td>-0.251109</td>\n",
       "    </tr>\n",
       "  </tbody>\n",
       "</table>\n",
       "</div>"
      ],
      "text/plain": [
       "   A  B    mean(A)    mean(B)      diff        se         T   p-tukey  \\\n",
       "0  中  低  25.086142  24.430868  0.655274  0.279528  2.344215  0.050453   \n",
       "1  中  高  25.086142  25.286738 -0.200596  0.286838 -0.699336  0.763932   \n",
       "2  低  高  24.430868  25.286738 -0.855870  0.276275 -3.097895  0.005705   \n",
       "\n",
       "     hedges  \n",
       "0  0.198268  \n",
       "1 -0.059900  \n",
       "2 -0.251109  "
      ]
     },
     "execution_count": 41,
     "metadata": {},
     "output_type": "execute_result"
    }
   ],
   "source": [
    "from statistic.anova import perform_post_hoc\n",
    "\n",
    "perform_post_hoc(df_9_cleared, levene_p = levene_p, val_col='G4_all', group_col='f_income_3gp')"
   ]
  },
  {
   "cell_type": "markdown",
   "id": "3451cdbd-5b1c-4c23-a8c9-016d64be9ea1",
   "metadata": {},
   "source": [
    "### Ans\n",
    "由Anova 以及事後多重比較結果可得知：\n",
    "1. 三組收入等級組別的平均收入不完全相同\n",
    "2. 收入等級與政治自由態度關係為：中 > 低（未達顯著）、高 > 中（未達顯著）、高 > 低（達顯著）\n",
    "3. 承上，統計上，可知高 > 低，其餘未達顯著標準"
   ]
  },
  {
   "cell_type": "markdown",
   "id": "972bd904-e72f-404b-9e62-d40bebca2411",
   "metadata": {},
   "source": [
    "## Q10. 以「年齡」作為共變量，再次檢視不同「收入等級」者的「政治自由態度」平均分數是否有顯著差異。"
   ]
  },
  {
   "cell_type": "code",
   "execution_count": 42,
   "id": "9035cb12-ee08-4bf8-99b6-cdfb3d341b30",
   "metadata": {},
   "outputs": [
    {
     "data": {
      "text/html": [
       "<div>\n",
       "<style scoped>\n",
       "    .dataframe tbody tr th:only-of-type {\n",
       "        vertical-align: middle;\n",
       "    }\n",
       "\n",
       "    .dataframe tbody tr th {\n",
       "        vertical-align: top;\n",
       "    }\n",
       "\n",
       "    .dataframe thead th {\n",
       "        text-align: right;\n",
       "    }\n",
       "</style>\n",
       "<table border=\"1\" class=\"dataframe\">\n",
       "  <thead>\n",
       "    <tr style=\"text-align: right;\">\n",
       "      <th></th>\n",
       "      <th>f_income_3gp</th>\n",
       "      <th>age</th>\n",
       "      <th>G4_all</th>\n",
       "    </tr>\n",
       "  </thead>\n",
       "  <tbody>\n",
       "    <tr>\n",
       "      <th>0</th>\n",
       "      <td>中</td>\n",
       "      <td>30.0</td>\n",
       "      <td>25.0</td>\n",
       "    </tr>\n",
       "    <tr>\n",
       "      <th>1</th>\n",
       "      <td>低</td>\n",
       "      <td>31.0</td>\n",
       "      <td>25.0</td>\n",
       "    </tr>\n",
       "    <tr>\n",
       "      <th>2</th>\n",
       "      <td>中</td>\n",
       "      <td>33.0</td>\n",
       "      <td>23.0</td>\n",
       "    </tr>\n",
       "    <tr>\n",
       "      <th>3</th>\n",
       "      <td>低</td>\n",
       "      <td>24.0</td>\n",
       "      <td>21.0</td>\n",
       "    </tr>\n",
       "    <tr>\n",
       "      <th>4</th>\n",
       "      <td>低</td>\n",
       "      <td>59.0</td>\n",
       "      <td>24.0</td>\n",
       "    </tr>\n",
       "    <tr>\n",
       "      <th>...</th>\n",
       "      <td>...</td>\n",
       "      <td>...</td>\n",
       "      <td>...</td>\n",
       "    </tr>\n",
       "    <tr>\n",
       "      <th>863</th>\n",
       "      <td>高</td>\n",
       "      <td>58.0</td>\n",
       "      <td>27.0</td>\n",
       "    </tr>\n",
       "    <tr>\n",
       "      <th>864</th>\n",
       "      <td>高</td>\n",
       "      <td>38.0</td>\n",
       "      <td>25.0</td>\n",
       "    </tr>\n",
       "    <tr>\n",
       "      <th>865</th>\n",
       "      <td>低</td>\n",
       "      <td>68.0</td>\n",
       "      <td>28.0</td>\n",
       "    </tr>\n",
       "    <tr>\n",
       "      <th>866</th>\n",
       "      <td>低</td>\n",
       "      <td>39.0</td>\n",
       "      <td>28.0</td>\n",
       "    </tr>\n",
       "    <tr>\n",
       "      <th>867</th>\n",
       "      <td>高</td>\n",
       "      <td>65.0</td>\n",
       "      <td>25.0</td>\n",
       "    </tr>\n",
       "  </tbody>\n",
       "</table>\n",
       "<p>868 rows × 3 columns</p>\n",
       "</div>"
      ],
      "text/plain": [
       "    f_income_3gp   age  G4_all\n",
       "0              中  30.0    25.0\n",
       "1              低  31.0    25.0\n",
       "2              中  33.0    23.0\n",
       "3              低  24.0    21.0\n",
       "4              低  59.0    24.0\n",
       "..           ...   ...     ...\n",
       "863            高  58.0    27.0\n",
       "864            高  38.0    25.0\n",
       "865            低  68.0    28.0\n",
       "866            低  39.0    28.0\n",
       "867            高  65.0    25.0\n",
       "\n",
       "[868 rows x 3 columns]"
      ]
     },
     "execution_count": 42,
     "metadata": {},
     "output_type": "execute_result"
    }
   ],
   "source": [
    "# pick columns\n",
    "col_10_1 = df_4_recoded[\"f_income_3gp\"]\n",
    "col_10_2 = df['age']\n",
    "col_10_3 = df_5_final['G4_all']\n",
    "\n",
    "df_10 = pd.concat([col_10_1.reset_index(drop=True),\n",
    "                  col_10_2.reset_index(drop=True), col_10_3.reset_index(drop=True)], axis=1)\n",
    "\n",
    "df_10"
   ]
  },
  {
   "cell_type": "markdown",
   "id": "59c1a940-1d76-4031-a9a2-1f18ffc25a9d",
   "metadata": {},
   "source": [
    "檢查遺漏值狀況"
   ]
  },
  {
   "cell_type": "code",
   "execution_count": 43,
   "id": "81f7868a-0c54-4e19-9d98-e3e643fb00c9",
   "metadata": {},
   "outputs": [
    {
     "data": {
      "text/html": [
       "<div>\n",
       "<style scoped>\n",
       "    .dataframe tbody tr th:only-of-type {\n",
       "        vertical-align: middle;\n",
       "    }\n",
       "\n",
       "    .dataframe tbody tr th {\n",
       "        vertical-align: top;\n",
       "    }\n",
       "\n",
       "    .dataframe thead th {\n",
       "        text-align: right;\n",
       "    }\n",
       "</style>\n",
       "<table border=\"1\" class=\"dataframe\">\n",
       "  <thead>\n",
       "    <tr style=\"text-align: right;\">\n",
       "      <th></th>\n",
       "      <th># of Missing Values</th>\n",
       "    </tr>\n",
       "  </thead>\n",
       "  <tbody>\n",
       "    <tr>\n",
       "      <th>f_income_3gp</th>\n",
       "      <td>11</td>\n",
       "    </tr>\n",
       "    <tr>\n",
       "      <th>age</th>\n",
       "      <td>0</td>\n",
       "    </tr>\n",
       "    <tr>\n",
       "      <th>G4_all</th>\n",
       "      <td>0</td>\n",
       "    </tr>\n",
       "  </tbody>\n",
       "</table>\n",
       "</div>"
      ],
      "text/plain": [
       "              # of Missing Values\n",
       "f_income_3gp                   11\n",
       "age                             0\n",
       "G4_all                          0"
      ]
     },
     "execution_count": 43,
     "metadata": {},
     "output_type": "execute_result"
    }
   ],
   "source": [
    "from statistic.missing_value import check_missing_value\n",
    "\n",
    "check_missing_value(df_10)"
   ]
  },
  {
   "cell_type": "code",
   "execution_count": 44,
   "id": "df580349-f6b1-4bcb-b13f-7c9d58636b8e",
   "metadata": {},
   "outputs": [
    {
     "data": {
      "text/html": [
       "<div>\n",
       "<style scoped>\n",
       "    .dataframe tbody tr th:only-of-type {\n",
       "        vertical-align: middle;\n",
       "    }\n",
       "\n",
       "    .dataframe tbody tr th {\n",
       "        vertical-align: top;\n",
       "    }\n",
       "\n",
       "    .dataframe thead th {\n",
       "        text-align: right;\n",
       "    }\n",
       "</style>\n",
       "<table border=\"1\" class=\"dataframe\">\n",
       "  <thead>\n",
       "    <tr style=\"text-align: right;\">\n",
       "      <th></th>\n",
       "      <th># of Missing Values</th>\n",
       "    </tr>\n",
       "  </thead>\n",
       "  <tbody>\n",
       "    <tr>\n",
       "      <th>f_income_3gp</th>\n",
       "      <td>0</td>\n",
       "    </tr>\n",
       "    <tr>\n",
       "      <th>age</th>\n",
       "      <td>0</td>\n",
       "    </tr>\n",
       "    <tr>\n",
       "      <th>G4_all</th>\n",
       "      <td>0</td>\n",
       "    </tr>\n",
       "  </tbody>\n",
       "</table>\n",
       "</div>"
      ],
      "text/plain": [
       "              # of Missing Values\n",
       "f_income_3gp                    0\n",
       "age                             0\n",
       "G4_all                          0"
      ]
     },
     "execution_count": 44,
     "metadata": {},
     "output_type": "execute_result"
    }
   ],
   "source": [
    "df_10_cleared = df_10.dropna()\n",
    "check_missing_value(df_10_cleared)"
   ]
  },
  {
   "cell_type": "markdown",
   "id": "7ffe2a63-102c-4856-83f1-b6009b33d021",
   "metadata": {},
   "source": [
    "基於ANCOVA 的兩個假設做假設檢驗\n",
    "1. **共變量與因變量**需為線性關係\n",
    "2. **共變量與自變量（組別）間** 不得有交互作用\n",
    "\n",
    "首先檢驗共變數與因變數是否為線性關係"
   ]
  },
  {
   "cell_type": "code",
   "execution_count": 45,
   "id": "9cad5a9d-916f-4b6f-a559-906da590680f",
   "metadata": {},
   "outputs": [
    {
     "data": {
      "text/html": [
       "<div>\n",
       "<style scoped>\n",
       "    .dataframe tbody tr th:only-of-type {\n",
       "        vertical-align: middle;\n",
       "    }\n",
       "\n",
       "    .dataframe tbody tr th {\n",
       "        vertical-align: top;\n",
       "    }\n",
       "\n",
       "    .dataframe thead th {\n",
       "        text-align: right;\n",
       "    }\n",
       "</style>\n",
       "<table border=\"1\" class=\"dataframe\">\n",
       "  <thead>\n",
       "    <tr style=\"text-align: right;\">\n",
       "      <th></th>\n",
       "      <th>sum_sq</th>\n",
       "      <th>df</th>\n",
       "      <th>F</th>\n",
       "      <th>PR(&gt;F)</th>\n",
       "    </tr>\n",
       "  </thead>\n",
       "  <tbody>\n",
       "    <tr>\n",
       "      <th>Intercept</th>\n",
       "      <td>57509.371598</td>\n",
       "      <td>1.0</td>\n",
       "      <td>5115.331554</td>\n",
       "      <td>0.00000</td>\n",
       "    </tr>\n",
       "    <tr>\n",
       "      <th>age</th>\n",
       "      <td>93.229879</td>\n",
       "      <td>1.0</td>\n",
       "      <td>8.292592</td>\n",
       "      <td>0.00408</td>\n",
       "    </tr>\n",
       "    <tr>\n",
       "      <th>Residual</th>\n",
       "      <td>9612.380390</td>\n",
       "      <td>855.0</td>\n",
       "      <td>NaN</td>\n",
       "      <td>NaN</td>\n",
       "    </tr>\n",
       "  </tbody>\n",
       "</table>\n",
       "</div>"
      ],
      "text/plain": [
       "                 sum_sq     df            F   PR(>F)\n",
       "Intercept  57509.371598    1.0  5115.331554  0.00000\n",
       "age           93.229879    1.0     8.292592  0.00408\n",
       "Residual    9612.380390  855.0          NaN      NaN"
      ]
     },
     "execution_count": 45,
     "metadata": {},
     "output_type": "execute_result"
    }
   ],
   "source": [
    "from statistic.anova import check_linearity\n",
    "\n",
    "check_linearity(df_10_cleared, val_col='G4_all', covar_col='age')"
   ]
  },
  {
   "cell_type": "markdown",
   "id": "db074b42-467a-4e44-a447-6bcde998d5a7",
   "metadata": {},
   "source": [
    "age 的P Value < 0.05 可知教育年數與收入符合線性關係。\n",
    "\n",
    "往下繼續檢查共變數與自變數的互動關係：檢驗迴歸同質性"
   ]
  },
  {
   "cell_type": "code",
   "execution_count": 46,
   "id": "b912b61f-f931-419e-8260-19fae5004a3b",
   "metadata": {},
   "outputs": [
    {
     "data": {
      "text/html": [
       "<div>\n",
       "<style scoped>\n",
       "    .dataframe tbody tr th:only-of-type {\n",
       "        vertical-align: middle;\n",
       "    }\n",
       "\n",
       "    .dataframe tbody tr th {\n",
       "        vertical-align: top;\n",
       "    }\n",
       "\n",
       "    .dataframe thead th {\n",
       "        text-align: right;\n",
       "    }\n",
       "</style>\n",
       "<table border=\"1\" class=\"dataframe\">\n",
       "  <thead>\n",
       "    <tr style=\"text-align: right;\">\n",
       "      <th></th>\n",
       "      <th>sum_sq</th>\n",
       "      <th>df</th>\n",
       "      <th>F</th>\n",
       "      <th>PR(&gt;F)</th>\n",
       "    </tr>\n",
       "  </thead>\n",
       "  <tbody>\n",
       "    <tr>\n",
       "      <th>Intercept</th>\n",
       "      <td>16210.872329</td>\n",
       "      <td>1.0</td>\n",
       "      <td>1447.571715</td>\n",
       "      <td>8.347990e-186</td>\n",
       "    </tr>\n",
       "    <tr>\n",
       "      <th>C(f_income_3gp)</th>\n",
       "      <td>18.289744</td>\n",
       "      <td>2.0</td>\n",
       "      <td>0.816604</td>\n",
       "      <td>4.422760e-01</td>\n",
       "    </tr>\n",
       "    <tr>\n",
       "      <th>age</th>\n",
       "      <td>25.684484</td>\n",
       "      <td>1.0</td>\n",
       "      <td>2.293531</td>\n",
       "      <td>1.302854e-01</td>\n",
       "    </tr>\n",
       "    <tr>\n",
       "      <th>C(f_income_3gp):age</th>\n",
       "      <td>3.069263</td>\n",
       "      <td>2.0</td>\n",
       "      <td>0.137037</td>\n",
       "      <td>8.719572e-01</td>\n",
       "    </tr>\n",
       "    <tr>\n",
       "      <th>Residual</th>\n",
       "      <td>9530.064873</td>\n",
       "      <td>851.0</td>\n",
       "      <td>NaN</td>\n",
       "      <td>NaN</td>\n",
       "    </tr>\n",
       "  </tbody>\n",
       "</table>\n",
       "</div>"
      ],
      "text/plain": [
       "                           sum_sq     df            F         PR(>F)\n",
       "Intercept            16210.872329    1.0  1447.571715  8.347990e-186\n",
       "C(f_income_3gp)         18.289744    2.0     0.816604   4.422760e-01\n",
       "age                     25.684484    1.0     2.293531   1.302854e-01\n",
       "C(f_income_3gp):age      3.069263    2.0     0.137037   8.719572e-01\n",
       "Residual              9530.064873  851.0          NaN            NaN"
      ]
     },
     "execution_count": 46,
     "metadata": {},
     "output_type": "execute_result"
    }
   ],
   "source": [
    "from statistic.anova import check_interaction\n",
    "\n",
    "check_interaction(df_10_cleared, val_col='G4_all', group_col='f_income_3gp', covar_col='age')"
   ]
  },
  {
   "cell_type": "markdown",
   "id": "142e54c3-4b85-48d1-91bd-345c616b73e6",
   "metadata": {},
   "source": [
    "由agegroup: eduy 的P value > 0.05 可知收入等級分組與年齡交互作用不顯著，可繼續進行ANCOVA。\n",
    "\n",
    "進行ANCOVA"
   ]
  },
  {
   "cell_type": "code",
   "execution_count": 47,
   "id": "aec2ceae-616f-477e-b8f5-76e87b9f9a30",
   "metadata": {},
   "outputs": [
    {
     "data": {
      "text/html": [
       "<div>\n",
       "<style scoped>\n",
       "    .dataframe tbody tr th:only-of-type {\n",
       "        vertical-align: middle;\n",
       "    }\n",
       "\n",
       "    .dataframe tbody tr th {\n",
       "        vertical-align: top;\n",
       "    }\n",
       "\n",
       "    .dataframe thead th {\n",
       "        text-align: right;\n",
       "    }\n",
       "</style>\n",
       "<table border=\"1\" class=\"dataframe\">\n",
       "  <thead>\n",
       "    <tr style=\"text-align: right;\">\n",
       "      <th></th>\n",
       "      <th>df</th>\n",
       "      <th>sum_sq</th>\n",
       "      <th>mean_sq</th>\n",
       "      <th>F</th>\n",
       "      <th>PR(&gt;F)</th>\n",
       "    </tr>\n",
       "  </thead>\n",
       "  <tbody>\n",
       "    <tr>\n",
       "      <th>C(f_income_3gp)</th>\n",
       "      <td>2.0</td>\n",
       "      <td>119.266944</td>\n",
       "      <td>59.633472</td>\n",
       "      <td>5.335848</td>\n",
       "      <td>0.004978</td>\n",
       "    </tr>\n",
       "    <tr>\n",
       "      <th>age</th>\n",
       "      <td>1.0</td>\n",
       "      <td>53.209188</td>\n",
       "      <td>53.209188</td>\n",
       "      <td>4.761020</td>\n",
       "      <td>0.029384</td>\n",
       "    </tr>\n",
       "    <tr>\n",
       "      <th>Residual</th>\n",
       "      <td>853.0</td>\n",
       "      <td>9533.134136</td>\n",
       "      <td>11.176007</td>\n",
       "      <td>NaN</td>\n",
       "      <td>NaN</td>\n",
       "    </tr>\n",
       "  </tbody>\n",
       "</table>\n",
       "</div>"
      ],
      "text/plain": [
       "                    df       sum_sq    mean_sq         F    PR(>F)\n",
       "C(f_income_3gp)    2.0   119.266944  59.633472  5.335848  0.004978\n",
       "age                1.0    53.209188  53.209188  4.761020  0.029384\n",
       "Residual         853.0  9533.134136  11.176007       NaN       NaN"
      ]
     },
     "execution_count": 47,
     "metadata": {},
     "output_type": "execute_result"
    }
   ],
   "source": [
    "from statistic.anova import perform_ancova\n",
    "perform_ancova(df=df_10_cleared, val_col='G4_all', group_col='f_income_3gp', covar_col='age')"
   ]
  },
  {
   "cell_type": "markdown",
   "id": "7becedb2-4119-4330-adee-9eb4c0d19e09",
   "metadata": {},
   "source": [
    "### Ans\n",
    "f_income_3gp 的P value < 0.05\n",
    "\n",
    "控制年齡後，收入等級分組與政治自由態度**仍有差異**"
   ]
  }
 ],
 "metadata": {
  "kernelspec": {
   "display_name": "Python 3 (ipykernel)",
   "language": "python",
   "name": "python3"
  },
  "language_info": {
   "codemirror_mode": {
    "name": "ipython",
    "version": 3
   },
   "file_extension": ".py",
   "mimetype": "text/x-python",
   "name": "python",
   "nbconvert_exporter": "python",
   "pygments_lexer": "ipython3",
   "version": "3.13.3"
  }
 },
 "nbformat": 4,
 "nbformat_minor": 5
}
