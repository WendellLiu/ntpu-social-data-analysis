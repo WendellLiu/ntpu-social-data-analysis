{
 "cells": [
  {
   "cell_type": "markdown",
   "id": "80d62f3e-dee9-4463-b3fe-7af5c69505da",
   "metadata": {},
   "source": [
    "# 1141_社會資料分析 第一次期中考\n",
    "學生：劉晏成\n",
    "\n"
   ]
  },
  {
   "cell_type": "code",
   "execution_count": 1,
   "id": "625b35db-4bad-46ab-a95b-9a39c24f9609",
   "metadata": {},
   "outputs": [],
   "source": [
    "from load import load_sav\n",
    "import pandas as pd\n",
    "import numpy as np"
   ]
  },
  {
   "cell_type": "code",
   "execution_count": 2,
   "id": "c9b0077f-9f34-4b67-9668-d0662fafbefe",
   "metadata": {},
   "outputs": [],
   "source": [
    "df = load_sav(\"../data/midterm_1.sav\")"
   ]
  },
  {
   "cell_type": "code",
   "execution_count": 3,
   "id": "91ad6043-f2e0-49f1-af2d-998f331cc340",
   "metadata": {},
   "outputs": [],
   "source": [
    "variable_value_labels = df.attrs['variable_value_labels']\n",
    "column_names = df.attrs['column_names']\n",
    "column_names_to_labels = df.attrs['column_names_to_labels']"
   ]
  },
  {
   "cell_type": "markdown",
   "id": "3217b0ab-f979-4102-95c1-9523f06d9543",
   "metadata": {},
   "source": [
    "## Q1. \n",
    "這份問卷調查執行於 2018 年，請利用「出生年」計算，創造出「年齡」變項。接著，請列出（1）性別、 （2）年齡、 （3）教育程度、 （4）家庭收入等變項的次數分布。"
   ]
  },
  {
   "cell_type": "markdown",
   "id": "f00450cd-d2d3-466e-980d-86cda98eb928",
   "metadata": {},
   "source": [
    "## Q2. \n",
    "請做下列計算，並說明結果：  \n",
    "（1）性別的眾數（指出是哪個性別）；  \n",
    "（2）平均年齡；  \n",
    "（3）教育程度的眾數； （指出是哪個教育程度；如： 「小學」 ）；  \n",
    "（4）家庭收入的中位數（指出是哪個收入層級；如「2 萬元以上，未滿 4 萬元」） 。"
   ]
  },
  {
   "cell_type": "markdown",
   "id": "58ae7ff8-4089-4492-ab1f-0f0c476486e5",
   "metadata": {},
   "source": [
    "## Q3.\n",
    "將「教育程度」重新編碼成新變項「大專以上學歷」（變項名 college_y） 。「無」到「士官學校」編成\n",
    "0（數值標籤設成「大專以下」） ； 「五專」到「博士」編成 1（「大專以上」） 。然後列出新變項「大專以\n",
    "上學歷」的次數分布。"
   ]
  },
  {
   "cell_type": "markdown",
   "id": "e798d98b-15af-4230-8e82-416883f2b488",
   "metadata": {},
   "source": [
    "## Q4. \n",
    "將「家庭收入」重新編碼成新變項「收入等級」（變項名 f_income_3gp） 。 「無收入」到未滿 6 萬元編\n",
    "成 1（數值標籤設成「低」）；6 萬元以上到未滿 10 萬元編成 2（「中」）；10 萬元以上編成 3（「高」）。\n",
    "然後列出新變項「收入等級」的次數分布。"
   ]
  },
  {
   "cell_type": "markdown",
   "id": "51d983b4-8d6b-41bd-a8fe-804a7958d05b",
   "metadata": {},
   "source": [
    "## Q5. \n",
    "按下列步驟，創造「政治自由態度」變項。  \n",
    "（1）將「拒答、漏答、不適用」等回應設成遺漏值；  \n",
    "（2）檢查 g4a 到 g4i 這 9 個變項分布，如有其他不合理值，也設成遺漏值；  \n",
    "（3）將 g4a、g4c、g4e、g4f、g4h 做反向編碼（將 1 改成 4，2 改成 3，依此類推） ；  \n",
    "（4）將反向編碼後的 5 個變項，和其他 4 個變項的得分加總，將總分變項設成：G4_all，並加上標籤「政治自由態度」。    \n",
    "（5）計算並報告「政治自由態度」變項的平均數和標準差。  "
   ]
  },
  {
   "cell_type": "markdown",
   "id": "03ac48cd-06da-4115-95e6-e22f5db0fae9",
   "metadata": {},
   "source": [
    "## Q6. \n",
    "以「單一樣本 T 檢定」檢視受訪者的「政治自由態度」平均分數是否為 24。"
   ]
  },
  {
   "cell_type": "markdown",
   "id": "d3ca5e63-add3-4ee1-926c-c35b190a9be2",
   "metadata": {},
   "source": [
    "## Q7.\n",
    "以「獨立樣本 T 檢定」比較「男性」和「女性」的「政治自由態度」平均數是否有顯著差異。"
   ]
  },
  {
   "cell_type": "markdown",
   "id": "0bc86a28-a23d-4b13-818f-8b434b16b00a",
   "metadata": {},
   "source": [
    "## Q8. \n",
    "以「獨立樣本 T 檢定」比較「大專以下」和「大專以上」學歷者的「政治自由態度」平均數是否有顯著差異。"
   ]
  },
  {
   "cell_type": "markdown",
   "id": "695030e5-08cf-4f5e-bc80-c4cd6a09b75a",
   "metadata": {},
   "source": [
    "## Q9. \n",
    "以變異數分析方法（包括整體檢定與事後比較），檢視不同「收入等級」者的「政治自由態度」平均分數是否有顯著差異。"
   ]
  },
  {
   "cell_type": "markdown",
   "id": "972bd904-e72f-404b-9e62-d40bebca2411",
   "metadata": {},
   "source": [
    "## Q10.\n",
    "以「年齡」作為共變量，再次檢視不同「收入等級」者的「政治自由態度」平均分數是否有顯著差異。"
   ]
  },
  {
   "cell_type": "code",
   "execution_count": null,
   "id": "9035cb12-ee08-4bf8-99b6-cdfb3d341b30",
   "metadata": {},
   "outputs": [],
   "source": []
  }
 ],
 "metadata": {
  "kernelspec": {
   "display_name": "Python 3 (ipykernel)",
   "language": "python",
   "name": "python3"
  },
  "language_info": {
   "codemirror_mode": {
    "name": "ipython",
    "version": 3
   },
   "file_extension": ".py",
   "mimetype": "text/x-python",
   "name": "python",
   "nbconvert_exporter": "python",
   "pygments_lexer": "ipython3",
   "version": "3.13.3"
  }
 },
 "nbformat": 4,
 "nbformat_minor": 5
}
