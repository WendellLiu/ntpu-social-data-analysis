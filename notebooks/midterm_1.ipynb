{
 "cells": [
  {
   "cell_type": "markdown",
   "id": "80d62f3e-dee9-4463-b3fe-7af5c69505da",
   "metadata": {},
   "source": [
    "# 1141_社會資料分析 第一次期中考\n",
    "學生：劉晏成"
   ]
  },
  {
   "cell_type": "code",
   "execution_count": 2,
   "id": "625b35db-4bad-46ab-a95b-9a39c24f9609",
   "metadata": {},
   "outputs": [],
   "source": [
    "from load import load_sav\n",
    "import pandas as pd\n",
    "import numpy as np\n"
   ]
  },
  {
   "cell_type": "code",
   "execution_count": 4,
   "id": "c9b0077f-9f34-4b67-9668-d0662fafbefe",
   "metadata": {},
   "outputs": [],
   "source": [
    "df = load_sav(\"../data/midterm_1.sav\")"
   ]
  },
  {
   "cell_type": "code",
   "execution_count": 6,
   "id": "91ad6043-f2e0-49f1-af2d-998f331cc340",
   "metadata": {},
   "outputs": [],
   "source": [
    "variable_value_labels = df.attrs['variable_value_labels']\n",
    "column_names = df.attrs['column_names']\n",
    "column_names_to_labels = df.attrs['column_names_to_labels']"
   ]
  }
 ],
 "metadata": {
  "kernelspec": {
   "display_name": "Python 3 (ipykernel)",
   "language": "python",
   "name": "python3"
  },
  "language_info": {
   "codemirror_mode": {
    "name": "ipython",
    "version": 3
   },
   "file_extension": ".py",
   "mimetype": "text/x-python",
   "name": "python",
   "nbconvert_exporter": "python",
   "pygments_lexer": "ipython3",
   "version": "3.13.3"
  }
 },
 "nbformat": 4,
 "nbformat_minor": 5
}
